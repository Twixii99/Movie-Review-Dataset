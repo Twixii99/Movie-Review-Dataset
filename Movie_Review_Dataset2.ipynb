{
 "cells": [
  {
   "cell_type": "markdown",
   "id": "87fc3bc4",
   "metadata": {
    "id": "87fc3bc4"
   },
   "source": [
    "# Import libraries"
   ]
  },
  {
   "cell_type": "code",
   "execution_count": 1,
   "id": "0916aa04-e702-452b-a26d-8c6da0069029",
   "metadata": {},
   "outputs": [
    {
     "name": "stdout",
     "output_type": "stream",
     "text": [
      "Requirement already satisfied: nltk in /opt/conda/lib/python3.7/site-packages (3.6.5)\n",
      "Requirement already satisfied: joblib in /opt/conda/lib/python3.7/site-packages (from nltk) (1.1.0)\n",
      "Requirement already satisfied: tqdm in /opt/conda/lib/python3.7/site-packages (from nltk) (4.62.3)\n",
      "Requirement already satisfied: regex>=2021.8.3 in /opt/conda/lib/python3.7/site-packages (from nltk) (2021.11.10)\n",
      "Requirement already satisfied: click in /opt/conda/lib/python3.7/site-packages (from nltk) (8.0.3)\n",
      "Requirement already satisfied: importlib-metadata in /opt/conda/lib/python3.7/site-packages (from click->nltk) (4.8.2)\n",
      "Requirement already satisfied: typing-extensions>=3.6.4 in /opt/conda/lib/python3.7/site-packages (from importlib-metadata->click->nltk) (4.0.1)\n",
      "Requirement already satisfied: zipp>=0.5 in /opt/conda/lib/python3.7/site-packages (from importlib-metadata->click->nltk) (3.6.0)\n"
     ]
    }
   ],
   "source": [
    "!pip install nltk"
   ]
  },
  {
   "cell_type": "code",
   "execution_count": 2,
   "id": "83dfa87a-c66b-45bd-8ad1-6db06c5ebf19",
   "metadata": {},
   "outputs": [
    {
     "name": "stdout",
     "output_type": "stream",
     "text": [
      "Requirement already satisfied: xgboost in /opt/conda/lib/python3.7/site-packages (1.5.1)\n",
      "Requirement already satisfied: scipy in /opt/conda/lib/python3.7/site-packages (from xgboost) (1.7.3)\n",
      "Requirement already satisfied: numpy in /opt/conda/lib/python3.7/site-packages (from xgboost) (1.19.5)\n"
     ]
    }
   ],
   "source": [
    "!pip install xgboost"
   ]
  },
  {
   "cell_type": "code",
   "execution_count": 235,
   "id": "8756a39c",
   "metadata": {
    "colab": {
     "base_uri": "https://localhost:8080/"
    },
    "id": "8756a39c",
    "outputId": "695ab0dd-e792-446f-8bd1-160403bdbf1f"
   },
   "outputs": [
    {
     "name": "stderr",
     "output_type": "stream",
     "text": [
      "[nltk_data] Downloading package punkt to /home/jupyter/nltk_data...\n",
      "[nltk_data]   Package punkt is already up-to-date!\n",
      "[nltk_data] Downloading package words to /home/jupyter/nltk_data...\n",
      "[nltk_data]   Package words is already up-to-date!\n",
      "[nltk_data] Downloading package stopwords to\n",
      "[nltk_data]     /home/jupyter/nltk_data...\n",
      "[nltk_data]   Package stopwords is already up-to-date!\n",
      "[nltk_data] Downloading package wordnet to /home/jupyter/nltk_data...\n",
      "[nltk_data]   Package wordnet is already up-to-date!\n",
      "[nltk_data] Downloading package averaged_perceptron_tagger to\n",
      "[nltk_data]     /home/jupyter/nltk_data...\n",
      "[nltk_data]   Package averaged_perceptron_tagger is already up-to-\n",
      "[nltk_data]       date!\n"
     ]
    }
   ],
   "source": [
    "import pandas as pd\n",
    "import numpy as np\n",
    "import re\n",
    "\n",
    "import os\n",
    "import tarfile\n",
    "import urllib\n",
    "\n",
    "import nltk\n",
    "from nltk import word_tokenize\n",
    "from nltk.corpus import stopwords, wordnet, words\n",
    "from nltk.stem import WordNetLemmatizer \n",
    "\n",
    "from sklearn.preprocessing import StandardScaler, MaxAbsScaler\n",
    "from sklearn.decomposition import PCA\n",
    "from sklearn.model_selection import train_test_split\n",
    "from sklearn.feature_extraction.text import CountVectorizer, TfidfVectorizer\n",
    "from sklearn.model_selection import train_test_split, GridSearchCV, RandomizedSearchCV\n",
    "from sklearn.metrics import accuracy_score, classification_report, confusion_matrix, recall_score, roc_auc_score\n",
    "from sklearn.model_selection import RepeatedStratifiedKFold\n",
    "\n",
    "from sklearn.neighbors import KNeighborsClassifier\n",
    "from sklearn.linear_model import LogisticRegression\n",
    "from sklearn.naive_bayes import GaussianNB, MultinomialNB\n",
    "from sklearn.tree import DecisionTreeClassifier\n",
    "from sklearn.ensemble import RandomForestClassifier\n",
    "from sklearn.svm import LinearSVC\n",
    "from sklearn.svm import SVC\n",
    "import xgboost as xgb\n",
    "\n",
    "import matplotlib.pyplot as plt\n",
    "import seaborn as sns\n",
    "\n",
    "from IPython.display import display\n",
    "\n",
    "from tqdm.auto import tqdm\n",
    "\n",
    "nltk.download('punkt')\n",
    "nltk.download('words')\n",
    "nltk.download('stopwords')\n",
    "nltk.download('wordnet')\n",
    "nltk.download('averaged_perceptron_tagger')\n",
    "\n",
    "import warnings\n",
    "warnings.filterwarnings('ignore')\n",
    "\n",
    "%matplotlib inline"
   ]
  },
  {
   "cell_type": "markdown",
   "id": "9fbbddef",
   "metadata": {
    "id": "9fbbddef"
   },
   "source": [
    "# Downloading data"
   ]
  },
  {
   "cell_type": "code",
   "execution_count": null,
   "id": "d7077836",
   "metadata": {
    "colab": {
     "base_uri": "https://localhost:8080/"
    },
    "id": "d7077836",
    "outputId": "43aa4b8a-584f-4ad4-bf19-f7b5ad7630ad"
   },
   "outputs": [],
   "source": [
    "!wget https://ai.stanford.edu/~amaas/data/sentiment/aclImdb_v1.tar.gz -O data.tar.gz"
   ]
  },
  {
   "cell_type": "code",
   "execution_count": null,
   "id": "552369cb",
   "metadata": {
    "id": "552369cb"
   },
   "outputs": [],
   "source": [
    "# Unzipping the data files.\n",
    "tar = tarfile.open('data.tar.gz', 'r:gz')\n",
    "tar.extractall()\n",
    "tar.close()"
   ]
  },
  {
   "cell_type": "markdown",
   "id": "ce4df76a",
   "metadata": {
    "id": "ce4df76a"
   },
   "source": [
    "# Full data Loading & Cleaning"
   ]
  },
  {
   "cell_type": "code",
   "execution_count": 104,
   "id": "1fc3736a",
   "metadata": {
    "id": "1fc3736a"
   },
   "outputs": [],
   "source": [
    "def collect_data(data_path: str) -> [str]:\n",
    "    \"\"\"\n",
    "       Reading files form a given directory path\n",
    "       \n",
    "       Arguments:\n",
    "           data_path: string holding the path from which you want to read files.\n",
    "        Return:\n",
    "            list contains the contents of all the files with in the directory path.\n",
    "    \"\"\"\n",
    "    reviews = []\n",
    "    for review_file in os.listdir(data_path):\n",
    "        review_file = os.path.join(data_path, review_file)\n",
    "        with open(review_file, 'r') as review:\n",
    "            reviews.append(review.read().rstrip())\n",
    "    return reviews  "
   ]
  },
  {
   "cell_type": "code",
   "execution_count": 105,
   "id": "a0f5c56a",
   "metadata": {
    "id": "a0f5c56a"
   },
   "outputs": [],
   "source": [
    "def clean(data: [str]) -> [str]:\n",
    "    \"\"\"\n",
    "        Performing basic clean for the contents of the file.\n",
    "        Removs all numbers and punctuations from the string and replace a space instead.\n",
    "        \n",
    "        Arguments:\n",
    "            data: list of strings need to be cleaned.\n",
    "        Return:\n",
    "            list of cleaned strings.\n",
    "    \"\"\"\n",
    "    cleaned_data = []\n",
    "    for item in data:\n",
    "        item = item.lower()\n",
    "        item = re.sub(r'[^\\w\\s]|[\\d+]', '', item)\n",
    "        cleaned_data.append(item)\n",
    "    return cleaned_data "
   ]
  },
  {
   "cell_type": "code",
   "execution_count": 106,
   "id": "9c803521",
   "metadata": {
    "id": "9c803521"
   },
   "outputs": [],
   "source": [
    "# Preparing the stopwards in English\n",
    "english_stopwords = stopwords.words('english')\n",
    "# Lemmatization\n",
    "lemmatizer = WordNetLemmatizer()\n",
    "# Error and spelling. corrections\n",
    "words = set(nltk.corpus.words.words())"
   ]
  },
  {
   "cell_type": "code",
   "execution_count": 107,
   "id": "62e56115",
   "metadata": {
    "id": "62e56115"
   },
   "outputs": [],
   "source": [
    "def get_wordnet_pos(word: str) -> str:\n",
    "    \"\"\"\n",
    "        Get the position of word i.e. dermines if the given word is Noun, Verb, Adverb or Adjective\n",
    "        \n",
    "        Arguments:\n",
    "            word: the word for which we want to determine it type.\n",
    "        Return:\n",
    "            the type of the passed word\n",
    "    \"\"\"\n",
    "    tag = nltk.pos_tag([word])[0][1][0].upper()\n",
    "    tag_dict = {\"J\": wordnet.ADJ,\n",
    "                \"N\": wordnet.NOUN,\n",
    "                \"V\": wordnet.VERB,\n",
    "                \"R\": wordnet.ADV}\n",
    "\n",
    "    return tag_dict.get(tag, wordnet.NOUN)"
   ]
  },
  {
   "cell_type": "code",
   "execution_count": 108,
   "id": "4d6175fc",
   "metadata": {
    "id": "4d6175fc"
   },
   "outputs": [],
   "source": [
    "def advanced_clean(data: [str]):\n",
    "    \"\"\"\n",
    "        Performing advanced clean for the contents of the passed list.\n",
    "        Removing all non English words, Lemmatize each word i.e. retuen each word in each sentance to its origin.\n",
    "        Updates the list place not allocating another list. O(1)\n",
    "    \n",
    "        Arguments:\n",
    "            data: list of sentances.\n",
    "        Return:\n",
    "            None\n",
    "    \"\"\"\n",
    "    for idx, sample in enumerate(data):\n",
    "        __tokens__ = []\n",
    "        tokens = word_tokenize(sample)\n",
    "        for token in tokens:\n",
    "            if token not in english_stopwords:\n",
    "                token_pos = get_wordnet_pos(token) # parts of statement\n",
    "                lemma = lemmatizer.lemmatize(token, token_pos)\n",
    "                if  lemma in words and lemma not in english_stopwords:\n",
    "                    __tokens__.append(lemma)\n",
    "        data[idx] = ''.join(__token__ + ' ' for __token__ in __tokens__)"
   ]
  },
  {
   "cell_type": "markdown",
   "id": "URi1Od_9XuLH",
   "metadata": {
    "id": "URi1Od_9XuLH"
   },
   "source": [
    "# Dummy Splitting"
   ]
  },
  {
   "cell_type": "code",
   "execution_count": 109,
   "id": "6IfrJDafXxSf",
   "metadata": {
    "colab": {
     "base_uri": "https://localhost:8080/"
    },
    "id": "6IfrJDafXxSf",
    "outputId": "bb02973c-5d27-40e4-9b7a-dc575aa6bec0"
   },
   "outputs": [],
   "source": [
    "# Reading the files from the training and testing directories.\n",
    "\n",
    "pos_training_data_path = './aclImdb/train/pos'\n",
    "neg_training_data_path = './aclImdb/train/neg'\n",
    "pos_testing_data_path = './aclImdb/test/pos'\n",
    "neg_testing_data_path = './aclImdb/test/neg'\n",
    "\n",
    "train_pos_reviews = collect_data(pos_training_data_path)\n",
    "train_neg_reviews = collect_data(neg_training_data_path)\n",
    "test_pos_reviews = collect_data(pos_testing_data_path)\n",
    "test_neg_reviews = collect_data(neg_testing_data_path)\n",
    "\n",
    "cleaned_train_pos_reviews = clean(train_pos_reviews)\n",
    "cleaned_train_neg_reviews = clean(train_neg_reviews)\n",
    "cleaned_test_pos_reviews = clean(test_pos_reviews)\n",
    "cleaned_test_neg_reviews = clean(test_neg_reviews)\n",
    "  \n",
    "print('Number of positive reviews: {}, and the number of negative reviews is: {}'.format(len(train_pos_reviews), len(train_neg_reviews)))\n",
    "print('Number of positive reviews: {}, and the number of negative reviews is: {}'.format(len(test_pos_reviews), len(test_neg_reviews)))"
   ]
  },
  {
   "cell_type": "code",
   "execution_count": null,
   "id": "4jwGud1CX0MW",
   "metadata": {
    "id": "4jwGud1CX0MW"
   },
   "outputs": [],
   "source": [
    "advanced_clean(cleaned_train_pos_reviews)\n",
    "advanced_clean(cleaned_train_neg_reviews)\n",
    "advanced_clean(cleaned_test_pos_reviews)\n",
    "advanced_clean(cleaned_test_neg_reviews)"
   ]
  },
  {
   "cell_type": "markdown",
   "id": "nt97O-iOUwv8",
   "metadata": {
    "id": "nt97O-iOUwv8"
   },
   "source": [
    "# Saving the data for future use\n",
    "This section used to save the already cleaned data for future usage."
   ]
  },
  {
   "cell_type": "code",
   "execution_count": null,
   "id": "avH1qqpATIKQ",
   "metadata": {
    "id": "avH1qqpATIKQ"
   },
   "outputs": [],
   "source": [
    "with open('cleaned_train_pos_reviews.txt', 'w') as train_pos:\n",
    "    for review in cleaned_train_pos_reviews:\n",
    "      train_pos.write(review + '\\n')"
   ]
  },
  {
   "cell_type": "code",
   "execution_count": null,
   "id": "LXA1iqH_Th7a",
   "metadata": {
    "id": "LXA1iqH_Th7a"
   },
   "outputs": [],
   "source": [
    "with open('cleaned_train_neg_reviews.txt', 'w') as train_neg:\n",
    "    for review in cleaned_train_neg_reviews:\n",
    "      train_neg.write(review + '\\n')"
   ]
  },
  {
   "cell_type": "code",
   "execution_count": null,
   "id": "yI6eUEFnTn19",
   "metadata": {
    "id": "yI6eUEFnTn19"
   },
   "outputs": [],
   "source": [
    "with open('cleaned_test_pos_reviews.txt', 'w') as test_pos:\n",
    "    for review in cleaned_test_pos_reviews:\n",
    "      test_pos.write(review + '\\n')"
   ]
  },
  {
   "cell_type": "code",
   "execution_count": null,
   "id": "OubN9tNvTn1-",
   "metadata": {
    "id": "OubN9tNvTn1-"
   },
   "outputs": [],
   "source": [
    "with open('cleaned_test_neg_reviews.txt', 'w') as test_neg:\n",
    "    for review in cleaned_test_neg_reviews:\n",
    "      test_neg.write(review + '\\n')"
   ]
  },
  {
   "cell_type": "markdown",
   "id": "i9w5SVeMU0hF",
   "metadata": {
    "id": "i9w5SVeMU0hF"
   },
   "source": [
    "# Loading the data when needed\n",
    "Loading the aleady saved cleaned data from saved by the above section"
   ]
  },
  {
   "cell_type": "code",
   "execution_count": 163,
   "id": "doNXVaDKU5q6",
   "metadata": {
    "id": "doNXVaDKU5q6"
   },
   "outputs": [],
   "source": [
    "with open('cleaned_train_pos_reviews.txt', 'r') as train_pos:\n",
    "    temp = train_pos.read()\n",
    "full_train = temp.split('\\n')[:-1]"
   ]
  },
  {
   "cell_type": "code",
   "execution_count": 164,
   "id": "TzWEwrA0U5q7",
   "metadata": {
    "id": "TzWEwrA0U5q7"
   },
   "outputs": [],
   "source": [
    "with open('cleaned_train_neg_reviews.txt', 'r') as train_neg:\n",
    "    temp = train_neg.read()\n",
    "full_train = full_train + temp.split('\\n')[:-1]"
   ]
  },
  {
   "cell_type": "code",
   "execution_count": 165,
   "id": "RWscMjbgU5q7",
   "metadata": {
    "id": "RWscMjbgU5q7"
   },
   "outputs": [],
   "source": [
    "with open('cleaned_test_pos_reviews.txt', 'r') as test_pos:\n",
    "    temp = test_pos.read()\n",
    "test = temp.split('\\n')[:-1]"
   ]
  },
  {
   "cell_type": "code",
   "execution_count": 166,
   "id": "Ur2hkBp_U5q7",
   "metadata": {
    "id": "Ur2hkBp_U5q7"
   },
   "outputs": [],
   "source": [
    "with open('cleaned_test_neg_reviews.txt', 'r') as test_neg:\n",
    "    temp = test_neg.read()\n",
    "test = test + temp.split('\\n')[:-1]"
   ]
  },
  {
   "cell_type": "markdown",
   "id": "KXZU39eZtp2V",
   "metadata": {
    "id": "KXZU39eZtp2V"
   },
   "source": [
    "# Splitting to Train, Validation"
   ]
  },
  {
   "cell_type": "code",
   "execution_count": 167,
   "id": "nFvoa7ICZHMj",
   "metadata": {
    "id": "nFvoa7ICZHMj"
   },
   "outputs": [],
   "source": [
    "# Creating the labels of the train and test data in the same order they are loaded from the directories \n",
    "\n",
    "MAX_ITER = 12500\n",
    "y_full_train = [1 for i in range(MAX_ITER)] + [0 for i in range(MAX_ITER)]\n",
    "y_test = [1 for i in range(MAX_ITER)] + [0 for i in range(MAX_ITER)]"
   ]
  },
  {
   "cell_type": "code",
   "execution_count": 168,
   "id": "VpUXIBDvY8Yj",
   "metadata": {
    "id": "VpUXIBDvY8Yj"
   },
   "outputs": [],
   "source": [
    "# Splitting the full_train_data (all the loaded data from the train directory) to train, validation 90%, 10% respectively \n",
    "\n",
    "X_train, X_validation, y_train, y_validation = train_test_split(full_train, y_full_train, test_size=0.1,  shuffle=True, random_state=17)"
   ]
  },
  {
   "cell_type": "code",
   "execution_count": 169,
   "id": "2d2UkYJJZo9O",
   "metadata": {
    "colab": {
     "base_uri": "https://localhost:8080/"
    },
    "id": "2d2UkYJJZo9O",
    "outputId": "173c5e8a-42a7-4ead-8bcf-b80d3a431bef"
   },
   "outputs": [
    {
     "name": "stdout",
     "output_type": "stream",
     "text": [
      "Train: 22500, Validation: 2500, y_train: 22500, y_validation: 2500\n"
     ]
    }
   ],
   "source": [
    "print(f'Train: {len(X_train)}, Validation: {len(X_validation)}, y_train: {len(y_train)}, y_validation: {len(y_validation)}')"
   ]
  },
  {
   "cell_type": "markdown",
   "id": "aa44c15e",
   "metadata": {
    "id": "aa44c15e"
   },
   "source": [
    "# BoW\n",
    "This is the bag of wards vectorization model.\n",
    "\n",
    "We create constrains on the number of features created by the vectorizer."
   ]
  },
  {
   "cell_type": "code",
   "execution_count": 170,
   "id": "06d936d0",
   "metadata": {
    "id": "06d936d0"
   },
   "outputs": [],
   "source": [
    "cv = CountVectorizer(max_df=0.99, min_df=0.0009)\n",
    "X_train_bow = cv.fit_transform(X_train)"
   ]
  },
  {
   "cell_type": "code",
   "execution_count": 171,
   "id": "lncSt4rveNfX",
   "metadata": {
    "id": "lncSt4rveNfX"
   },
   "outputs": [],
   "source": [
    "X_validation_bow = cv.transform(X_validation)"
   ]
  },
  {
   "cell_type": "code",
   "execution_count": 172,
   "id": "567a5ce1",
   "metadata": {
    "colab": {
     "base_uri": "https://localhost:8080/"
    },
    "id": "567a5ce1",
    "outputId": "a7db7e12-110d-4174-cbfc-d10146b0d1af",
    "scrolled": true,
    "tags": []
   },
   "outputs": [
    {
     "data": {
      "text/plain": [
       "{'first': 2366,\n",
       " 'saw': 5311,\n",
       " 'preview': 4667,\n",
       " 'movie': 3972,\n",
       " 'really': 4914,\n",
       " 'wait': 6726,\n",
       " 'see': 5376,\n",
       " 'plot': 4526,\n",
       " 'seem': 5380,\n",
       " 'good': 2653,\n",
       " 'set': 5430,\n",
       " 'great': 2706,\n",
       " 'mean': 3759,\n",
       " 'slasher': 5609,\n",
       " 'take': 6117,\n",
       " 'place': 4496,\n",
       " 'night': 4081,\n",
       " 'idea': 3042,\n",
       " 'high': 2903,\n",
       " 'school': 5333,\n",
       " 'teacher': 6147,\n",
       " 'becomes': 537,\n",
       " 'sexually': 5446,\n",
       " 'obsess': 4160,\n",
       " 'one': 4200,\n",
       " 'student': 5949,\n",
       " 'go': 2640,\n",
       " 'crazy': 1396,\n",
       " 'get': 2601,\n",
       " 'arrest': 331,\n",
       " 'escape': 2098,\n",
       " 'three': 6243,\n",
       " 'year': 6934,\n",
       " 'later': 3463,\n",
       " 'suppose': 6043,\n",
       " 'happy': 2811,\n",
       " 'memorable': 3790,\n",
       " 'turn': 6435,\n",
       " 'hell': 2873,\n",
       " 'however': 3000,\n",
       " 'extremely': 2229,\n",
       " 'disappointed': 1725,\n",
       " 'bad': 460,\n",
       " 'horror': 2984,\n",
       " 'ever': 2122,\n",
       " 'general': 2584,\n",
       " 'wasnt': 6759,\n",
       " 'even': 2118,\n",
       " 'scary': 5323,\n",
       " 'moment': 3915,\n",
       " 'seat': 5362,\n",
       " 'also': 196,\n",
       " 'murder': 3984,\n",
       " 'scene': 5326,\n",
       " 'cheesy': 986,\n",
       " 'dull': 1901,\n",
       " 'either': 1965,\n",
       " 'stab': 5818,\n",
       " 'victim': 6663,\n",
       " 'stomach': 5895,\n",
       " 'multiple': 3978,\n",
       " 'time': 6273,\n",
       " 'cut': 1472,\n",
       " 'throat': 6247,\n",
       " 'absolutely': 16,\n",
       " 'gore': 2662,\n",
       " 'rat': 4885,\n",
       " 'blood': 642,\n",
       " 'probably': 4693,\n",
       " 'killer': 3398,\n",
       " 'black': 613,\n",
       " 'girl': 2615,\n",
       " 'splatter': 5781,\n",
       " 'sheet': 5477,\n",
       " 'around': 326,\n",
       " 'dont': 1823,\n",
       " 'actually': 73,\n",
       " 'show': 5518,\n",
       " 'next': 4073,\n",
       " 'face': 2239,\n",
       " 'introduce': 3277,\n",
       " 'mysterious': 4004,\n",
       " 'creepy': 1410,\n",
       " 'guy': 2768,\n",
       " 'kill': 3397,\n",
       " 'everything': 2127,\n",
       " 'example': 2145,\n",
       " 'end': 2026,\n",
       " 'main': 3670,\n",
       " 'character': 962,\n",
       " 'last': 3459,\n",
       " 'detective': 1654,\n",
       " 'shoot': 5501,\n",
       " 'every': 2123,\n",
       " 'single': 5570,\n",
       " 'thing': 6228,\n",
       " 'predictable': 4632,\n",
       " 'knife': 3415,\n",
       " 'run': 5243,\n",
       " 'life': 3532,\n",
       " 'hide': 2900,\n",
       " 'think': 6229,\n",
       " 'away': 435,\n",
       " 'pop': 4564,\n",
       " 'finally': 2352,\n",
       " 'sequence': 5415,\n",
       " 'hotel': 2993,\n",
       " 'people': 4407,\n",
       " 'body': 662,\n",
       " 'discover': 1737,\n",
       " 'someone': 5701,\n",
       " 'pull': 4782,\n",
       " 'fire': 2361,\n",
       " 'alarm': 159,\n",
       " 'everyone': 2126,\n",
       " 'something': 5702,\n",
       " 'room': 5211,\n",
       " 'encounter': 2024,\n",
       " 'thats': 6209,\n",
       " 'home': 2942,\n",
       " 'guard': 2748,\n",
       " 'house': 2996,\n",
       " 'find': 2356,\n",
       " 'stupid': 5959,\n",
       " 'look': 3599,\n",
       " 'trust': 6421,\n",
       " 'waste': 6760,\n",
       " 'money': 3919,\n",
       " 'wonder': 6881,\n",
       " 'small': 5642,\n",
       " 'theater': 6210,\n",
       " 'friend': 2506,\n",
       " 'along': 192,\n",
       " 'two': 6445,\n",
       " 'sit': 5580,\n",
       " 'back': 450,\n",
       " 'told': 6296,\n",
       " 'beforehand': 543,\n",
       " 'shy': 5530,\n",
       " 'insecure': 3206,\n",
       " 'rent': 5041,\n",
       " 'old': 4196,\n",
       " 'apartment': 280,\n",
       " 'without': 6870,\n",
       " 'bathroom': 513,\n",
       " 'previous': 4668,\n",
       " 'tenant': 6176,\n",
       " 'commit': 1175,\n",
       " 'suicide': 6010,\n",
       " 'winter': 6857,\n",
       " 'tough': 6327,\n",
       " 'landlord': 3448,\n",
       " 'establish': 2107,\n",
       " 'rule': 5240,\n",
       " 'behavior': 551,\n",
       " 'feel': 2309,\n",
       " 'ridden': 5156,\n",
       " 'neighbor': 4053,\n",
       " 'meanwhile': 3765,\n",
       " 'visit': 6696,\n",
       " 'hospital': 2987,\n",
       " 'stella': 5868,\n",
       " 'death': 1528,\n",
       " 'believe': 559,\n",
       " 'scheme': 5330,\n",
       " 'force': 2437,\n",
       " 'weird': 6793,\n",
       " 'disturb': 1787,\n",
       " 'tale': 6118,\n",
       " 'paranoia': 4331,\n",
       " 'delusion': 1588,\n",
       " 'story': 5905,\n",
       " 'process': 4700,\n",
       " 'madness': 3657,\n",
       " 'loss': 3611,\n",
       " 'identity': 3047,\n",
       " 'lonely': 3595,\n",
       " 'slowly': 5635,\n",
       " 'nightmarish': 4083,\n",
       " 'atmosphere': 385,\n",
       " 'gruesome': 2743,\n",
       " 'location': 3587,\n",
       " 'happen': 2806,\n",
       " 'indeed': 3143,\n",
       " 'totally': 6325,\n",
       " 'unpredictable': 6560,\n",
       " 'performance': 4418,\n",
       " 'awesome': 437,\n",
       " 'beautiful': 532,\n",
       " 'vote': 6713,\n",
       " 'title': 6285,\n",
       " 'brazil': 731,\n",
       " 'many': 3701,\n",
       " 'incident': 3125,\n",
       " 'film': 2346,\n",
       " 'another': 257,\n",
       " 'nearly': 4041,\n",
       " 'violence': 6682,\n",
       " 'shock': 5494,\n",
       " 'fight': 2340,\n",
       " 'miss': 3883,\n",
       " 'please': 4521,\n",
       " 'reaction': 4901,\n",
       " 'semblance': 5390,\n",
       " 'third': 6230,\n",
       " 'way': 6770,\n",
       " 'switch': 6092,\n",
       " 'completely': 1205,\n",
       " 'best': 580,\n",
       " 'maker': 3677,\n",
       " 'else': 1990,\n",
       " 'miserable': 3870,\n",
       " 'like': 3545,\n",
       " 'make': 3676,\n",
       " 'shoe': 5498,\n",
       " 'deliver': 1584,\n",
       " 'mail': 3669,\n",
       " 'disagree': 1721,\n",
       " 'watch': 6762,\n",
       " 'entire': 2067,\n",
       " 'would': 6905,\n",
       " 'stun': 5955,\n",
       " 'scenery': 5327,\n",
       " 'shot': 5512,\n",
       " 'found': 2474,\n",
       " 'difficult': 1690,\n",
       " 'start': 5848,\n",
       " 'come': 1154,\n",
       " 'together': 6293,\n",
       " 'poignant': 4539,\n",
       " 'big': 590,\n",
       " 'budget': 785,\n",
       " 'rather': 4887,\n",
       " 'strong': 5939,\n",
       " 'community': 1183,\n",
       " 'cant': 863,\n",
       " 'say': 5312,\n",
       " 'much': 3973,\n",
       " 'standard': 5838,\n",
       " 'bore': 690,\n",
       " 'push': 4806,\n",
       " 'polished': 4551,\n",
       " 'stuff': 5952,\n",
       " 'doesnt': 1810,\n",
       " 'try': 6424,\n",
       " 'offer': 4185,\n",
       " 'real': 4907,\n",
       " 'certainly': 945,\n",
       " 'recent': 4928,\n",
       " 'act': 64,\n",
       " 'style': 5963,\n",
       " 'blockbuster': 639,\n",
       " 'actor': 69,\n",
       " 'seemingly': 5381,\n",
       " 'thought': 6237,\n",
       " 'key': 3391,\n",
       " 'role': 5202,\n",
       " 'boy': 714,\n",
       " 'grandfather': 2686,\n",
       " 'convincing': 1326,\n",
       " 'unusually': 6582,\n",
       " 'bear': 523,\n",
       " 'second': 5364,\n",
       " 'view': 6667,\n",
       " 'since': 5564,\n",
       " 'thread': 6240,\n",
       " 'become': 536,\n",
       " 'feed': 2308,\n",
       " 'overall': 4274,\n",
       " 'combination': 1152,\n",
       " 'music': 3992,\n",
       " 'plus': 4530,\n",
       " 'approach': 299,\n",
       " 'structure': 5942,\n",
       " 'quite': 4830,\n",
       " 'distinctive': 1774,\n",
       " 'left': 3498,\n",
       " 'planet': 4502,\n",
       " 'earth': 1928,\n",
       " 'populate': 4568,\n",
       " 'poor': 4562,\n",
       " 'starve': 5851,\n",
       " 'survivor': 6065,\n",
       " 'must': 3995,\n",
       " 'eat': 1934,\n",
       " 'bug': 790,\n",
       " 'insect': 3205,\n",
       " 'whatever': 6805,\n",
       " 'poison': 4542,\n",
       " 'war': 6742,\n",
       " 'wipe': 6858,\n",
       " 'human': 3009,\n",
       " 'civilization': 1049,\n",
       " 'dark': 1502,\n",
       " 'still': 5883,\n",
       " 'able': 3,\n",
       " 'live': 3576,\n",
       " 'comfort': 1159,\n",
       " 'call': 843,\n",
       " 'know': 3420,\n",
       " 'quest': 4817,\n",
       " 'prevent': 4666,\n",
       " 'secret': 5367,\n",
       " 'seed': 5377,\n",
       " 'release': 5002,\n",
       " 'air': 150,\n",
       " 'person': 4430,\n",
       " 'exist': 2177,\n",
       " 'locate': 3586,\n",
       " 'far': 2274,\n",
       " 'living': 3578,\n",
       " 'soul': 5725,\n",
       " 'highly': 2905,\n",
       " 'protect': 4753,\n",
       " 'layer': 3478,\n",
       " 'deadly': 1520,\n",
       " 'defense': 1560,\n",
       " 'system': 6104,\n",
       " 'want': 6741,\n",
       " 'remain': 5020,\n",
       " 'plan': 4500,\n",
       " 'send': 5395,\n",
       " 'action': 65,\n",
       " 'team': 6148,\n",
       " 'remove': 5035,\n",
       " 'protective': 4755,\n",
       " 'longer': 3597,\n",
       " 'possible': 4589,\n",
       " 'easily': 1930,\n",
       " 'let': 3514,\n",
       " 'sleep': 5615,\n",
       " 'dog': 1811,\n",
       " 'lie': 3530,\n",
       " 'pleasant': 4519,\n",
       " 'feature': 2304,\n",
       " 'elegant': 1978,\n",
       " 'unremarkable': 6567,\n",
       " 'member': 3788,\n",
       " 'drop': 1881,\n",
       " 'pace': 4300,\n",
       " 'timing': 6275,\n",
       " 'engage': 2037,\n",
       " 'charm': 970,\n",
       " 'acceptable': 32,\n",
       " 'employer': 2016,\n",
       " 'object': 4146,\n",
       " 'love': 3617,\n",
       " 'desire': 1635,\n",
       " 'believable': 558,\n",
       " 'fan': 2268,\n",
       " 'may': 3752,\n",
       " 'check': 978,\n",
       " 'outstanding': 4272,\n",
       " 'couple': 1368,\n",
       " 'dinner': 1708,\n",
       " 'rush': 5247,\n",
       " 'recommend': 4938,\n",
       " 'beside': 578,\n",
       " 'fact': 2243,\n",
       " 'beyond': 586,\n",
       " 'expectation': 2186,\n",
       " 'masterpiece': 3739,\n",
       " 'cinema': 1034,\n",
       " 'history': 2922,\n",
       " 'portrait': 4576,\n",
       " 'overuse': 4292,\n",
       " 'filter': 2347,\n",
       " 'usual': 6605,\n",
       " 'woman': 6879,\n",
       " 'true': 6417,\n",
       " 'intention': 3249,\n",
       " 'surprising': 6056,\n",
       " 'land': 3447,\n",
       " 'remember': 5027,\n",
       " 'early': 1925,\n",
       " 'travel': 6377,\n",
       " 'honest': 2952,\n",
       " 'passion': 4359,\n",
       " 'trash': 6372,\n",
       " 'never': 4066,\n",
       " 'finish': 2360,\n",
       " 'brother': 768,\n",
       " 'cast': 909,\n",
       " 'tree': 6385,\n",
       " 'bill': 593,\n",
       " 'family': 2266,\n",
       " 'havent': 2837,\n",
       " 'presumably': 4657,\n",
       " 'direction': 1713,\n",
       " 'dilute': 1700,\n",
       " 'darkness': 1505,\n",
       " 'cynicism': 1479,\n",
       " 'create': 1398,\n",
       " 'grand': 2684,\n",
       " 'fantasy': 2273,\n",
       " 'fairy': 2255,\n",
       " 'young': 6944,\n",
       " 'chosen': 1023,\n",
       " 'fate': 2291,\n",
       " 'save': 5309,\n",
       " 'world': 6896,\n",
       " 'monster': 3926,\n",
       " 'largely': 3456,\n",
       " 'unaware': 6463,\n",
       " 'evidently': 2131,\n",
       " 'anything': 274,\n",
       " 'lot': 3612,\n",
       " 'odd': 4176,\n",
       " 'creature': 1403,\n",
       " 'perhaps': 4420,\n",
       " 'lack': 3433,\n",
       " 'extreme': 2228,\n",
       " 'content': 1291,\n",
       " 'consequence': 1266,\n",
       " 'nervous': 4060,\n",
       " 'different': 1688,\n",
       " 'often': 4193,\n",
       " 'accuse': 52,\n",
       " 'design': 1633,\n",
       " 'silence': 5547,\n",
       " 'critic': 1420,\n",
       " 'regardless': 4978,\n",
       " 'project': 4722,\n",
       " 'channel': 957,\n",
       " 'imagination': 3072,\n",
       " 'invention': 3284,\n",
       " 'production': 4705,\n",
       " 'evoke': 2134,\n",
       " 'base': 498,\n",
       " 'series': 5419,\n",
       " 'comic': 1161,\n",
       " 'folk': 2422,\n",
       " 'influence': 3172,\n",
       " 'well': 6796,\n",
       " 'particularly': 4349,\n",
       " 'spirit': 5776,\n",
       " 'nothing': 4119,\n",
       " 'harry': 2826,\n",
       " 'potter': 4601,\n",
       " 'work': 6894,\n",
       " 'special': 5748,\n",
       " 'effect': 1953,\n",
       " 'arent': 317,\n",
       " 'especially': 2101,\n",
       " 'obvious': 4165,\n",
       " 'though': 6236,\n",
       " 'animate': 243,\n",
       " 'mix': 3895,\n",
       " 'little': 3575,\n",
       " 'follow': 2424,\n",
       " 'hero': 2886,\n",
       " 'meant': 3764,\n",
       " 'cheap': 975,\n",
       " 'lad': 3435,\n",
       " 'play': 4512,\n",
       " 'job': 3350,\n",
       " 'hard': 2814,\n",
       " 'concept': 1228,\n",
       " 'genuine': 2597,\n",
       " 'talent': 6119,\n",
       " 'voice': 6706,\n",
       " 'delicious': 1577,\n",
       " 'piece': 4475,\n",
       " 'impression': 3104,\n",
       " 'river': 5182,\n",
       " 'princess': 4681,\n",
       " 'violent': 6683,\n",
       " 'pervert': 4441,\n",
       " 'gangster': 2561,\n",
       " 'theyre': 6224,\n",
       " 'wit': 6866,\n",
       " 'plenty': 4523,\n",
       " 'satisfy': 5306,\n",
       " 'add': 78,\n",
       " 'bonus': 679,\n",
       " 'happily': 2809,\n",
       " 'put': 4807,\n",
       " 'company': 1186,\n",
       " 'youve': 6948,\n",
       " 'modesty': 3910,\n",
       " 'pilot': 4480,\n",
       " 'bit': 604,\n",
       " 'cult': 1453,\n",
       " 'touch': 6326,\n",
       " 'magic': 3660,\n",
       " 'caught': 922,\n",
       " 'deal': 1523,\n",
       " 'admit': 96,\n",
       " 'read': 4902,\n",
       " 'book': 682,\n",
       " 'peter': 4444,\n",
       " 'opposite': 4217,\n",
       " 'positive': 4583,\n",
       " 'childhood': 999,\n",
       " 'overrate': 4286,\n",
       " 'definitely': 1563,\n",
       " 'musical': 3993,\n",
       " 'dickens': 1679,\n",
       " 'hate': 2832,\n",
       " 'mild': 3835,\n",
       " 'spoiler': 5786,\n",
       " 'enough': 2052,\n",
       " 'energy': 2036,\n",
       " 'sing': 5568,\n",
       " 'dance': 1495,\n",
       " 'walk': 6730,\n",
       " 'sunset': 6026,\n",
       " 'exactly': 2139,\n",
       " 'faithful': 2257,\n",
       " 'novel': 4127,\n",
       " 'recall': 4924,\n",
       " 'prison': 4687,\n",
       " 'reed': 4955,\n",
       " 'weak': 6772,\n",
       " 'growl': 2738,\n",
       " 'indicate': 3146,\n",
       " 'evil': 2132,\n",
       " 'mark': 3713,\n",
       " 'across': 63,\n",
       " 'awkward': 442,\n",
       " 'passive': 4361,\n",
       " 'portrayal': 4578,\n",
       " 'help': 2877,\n",
       " 'could': 1355,\n",
       " 'dub': 1890,\n",
       " 'guess': 2751,\n",
       " 'didnt': 1682,\n",
       " 'realize': 4913,\n",
       " 'almost': 190,\n",
       " 'church': 1030,\n",
       " 'stick': 5880,\n",
       " 'lean': 3486,\n",
       " 'amaze': 206,\n",
       " 'hour': 2995,\n",
       " 'adaptation': 76,\n",
       " 'mids': 3829,\n",
       " 'avoid': 428,\n",
       " 'bloat': 636,\n",
       " 'pretty': 4663,\n",
       " 'seriously': 5421,\n",
       " 'anyone': 273,\n",
       " 'dragon': 1848,\n",
       " 'fighter': 2341,\n",
       " 'dean': 1526,\n",
       " 'cain': 838,\n",
       " 'bunch': 802,\n",
       " 'expect': 2185,\n",
       " 'quality': 4813,\n",
       " 'moderate': 3906,\n",
       " 'intelligence': 3241,\n",
       " 'rework': 5145,\n",
       " 'formula': 2462,\n",
       " 'popular': 4566,\n",
       " 'give': 2616,\n",
       " 'token': 6295,\n",
       " 'analysis': 229,\n",
       " 'wind': 6850,\n",
       " 'ruin': 5238,\n",
       " 'write': 6921,\n",
       " 'review': 5133,\n",
       " 'female': 2315,\n",
       " 'lead': 3480,\n",
       " 'charisma': 967,\n",
       " 'notably': 4115,\n",
       " 'attractive': 405,\n",
       " 'appearance': 291,\n",
       " 'unfortunately': 6521,\n",
       " 'ill': 3059,\n",
       " 'uninspired': 6528,\n",
       " 'new': 4068,\n",
       " 'columbo': 1147,\n",
       " 'attend': 397,\n",
       " 'nephew': 4058,\n",
       " 'wedding': 6784,\n",
       " 'bride': 749,\n",
       " 'disappear': 1722,\n",
       " 'surprisingly': 6057,\n",
       " 'laden': 3437,\n",
       " 'flat': 2385,\n",
       " 'script': 5351,\n",
       " 'van': 6622,\n",
       " 'pen': 4400,\n",
       " 'enjoyable': 2045,\n",
       " 'glass': 2624,\n",
       " 'heyday': 2896,\n",
       " 'speak': 5745,\n",
       " 'amount': 220,\n",
       " 'afford': 123,\n",
       " 'narrow': 4026,\n",
       " 'suspect': 6066,\n",
       " 'via': 6659,\n",
       " 'photo': 4456,\n",
       " 'include': 3128,\n",
       " 'everybody': 2124,\n",
       " 'devoid': 1667,\n",
       " 'trait': 6355,\n",
       " 'episode': 2080,\n",
       " 'hill': 2911,\n",
       " 'street': 5923,\n",
       " 'blue': 651,\n",
       " 'insult': 3232,\n",
       " 'appropriately': 301,\n",
       " 'funny': 2535,\n",
       " 'whether': 6813,\n",
       " 'language': 3452,\n",
       " 'men': 3793,\n",
       " 'identify': 3046,\n",
       " 'frank': 2486,\n",
       " 'extent': 2219,\n",
       " 'hugely': 3005,\n",
       " 'entertain': 2059,\n",
       " 'enjoy': 2044,\n",
       " 'perform': 4417,\n",
       " 'tremendous': 6387,\n",
       " 'hit': 2923,\n",
       " 'fortunate': 2465,\n",
       " 'understand': 6493,\n",
       " 'eye': 2230,\n",
       " 'comment': 1169,\n",
       " 'mediocre': 3774,\n",
       " 'minimum': 3855,\n",
       " 'energetic': 2035,\n",
       " 'core': 1337,\n",
       " 'insane': 3202,\n",
       " 'laugh': 3465,\n",
       " 'martial': 3720,\n",
       " 'art': 337,\n",
       " 'important': 3099,\n",
       " 'least': 3490,\n",
       " 'computer': 1220,\n",
       " 'free': 2494,\n",
       " 'screen': 5346,\n",
       " 'modern': 3908,\n",
       " 'damn': 1492,\n",
       " 'word': 6892,\n",
       " 'child': 998,\n",
       " 'adjust': 88,\n",
       " 'wire': 6859,\n",
       " 'cute': 1473,\n",
       " 'dozen': 1844,\n",
       " 'physically': 4463,\n",
       " 'advanced': 107,\n",
       " 'star': 5842,\n",
       " 'repeat': 5044,\n",
       " 'brawl': 730,\n",
       " 'football': 2433,\n",
       " 'hong': 2957,\n",
       " 'fun': 2529,\n",
       " 'pretend': 4659,\n",
       " 'problem': 4695,\n",
       " 'spoil': 5785,\n",
       " 'mention': 3798,\n",
       " 'neat': 4042,\n",
       " 'theatrical': 6211,\n",
       " 'wont': 6887,\n",
       " 'talk': 6122,\n",
       " 'brave': 727,\n",
       " 'manner': 3695,\n",
       " 'criminal': 1413,\n",
       " 'sudden': 5999,\n",
       " 'fist': 2372,\n",
       " 'punch': 4787,\n",
       " 'side': 5536,\n",
       " 'head': 2841,\n",
       " 'expression': 2212,\n",
       " 'change': 956,\n",
       " 'whimsical': 6816,\n",
       " 'baby': 447,\n",
       " 'menace': 3794,\n",
       " 'size': 5587,\n",
       " 'mouth': 3969,\n",
       " 'ear': 1923,\n",
       " 'long': 3596,\n",
       " 'rating': 4888,\n",
       " 'thousand': 6239,\n",
       " 'thankful': 6205,\n",
       " 'industry': 3155,\n",
       " 'classic': 1058,\n",
       " 'humble': 3012,\n",
       " 'opinion': 4213,\n",
       " 'deserve': 1631,\n",
       " 'total': 6324,\n",
       " 'legendary': 3503,\n",
       " 'genre': 2593,\n",
       " 'thank': 6204,\n",
       " 'attention': 399,\n",
       " 'promising': 4729,\n",
       " 'confuse': 1251,\n",
       " 'muddle': 3975,\n",
       " 'effort': 1957,\n",
       " 'period': 4422,\n",
       " 'right': 5166,\n",
       " 'pity': 4493,\n",
       " 'spend': 5763,\n",
       " 'particular': 4348,\n",
       " 'disappoint': 1724,\n",
       " 'although': 201,\n",
       " 'snippet': 5669,\n",
       " 'part': 4342,\n",
       " 'documentary': 1807,\n",
       " 'hint': 2914,\n",
       " 'necessity': 4046,\n",
       " 'drug': 1884,\n",
       " 'law': 3474,\n",
       " 'reform': 4967,\n",
       " 'contrast': 1306,\n",
       " 'currently': 1465,\n",
       " 'illegal': 3060,\n",
       " 'imaginable': 3070,\n",
       " 'solution': 5695,\n",
       " 'guilty': 2756,\n",
       " 'mere': 3805,\n",
       " 'possession': 4587,\n",
       " 'program': 4716,\n",
       " 'whole': 6825,\n",
       " 'leaf': 3483,\n",
       " 'viewer': 6668,\n",
       " 'futile': 2544,\n",
       " 'exercise': 2172,\n",
       " 'praise': 4613,\n",
       " 'address': 84,\n",
       " 'merely': 3806,\n",
       " 'posse': 4585,\n",
       " 'obviously': 4166,\n",
       " 'cause': 923,\n",
       " 'warrior': 6756,\n",
       " 'tell': 6167,\n",
       " 'ask': 351,\n",
       " 'solve': 5696,\n",
       " 'minute': 3862,\n",
       " 'spent': 5765,\n",
       " 'associate': 368,\n",
       " 'rise': 5175,\n",
       " 'popularity': 4567,\n",
       " 'crack': 1383,\n",
       " 'cocaine': 1112,\n",
       " 'point': 4540,\n",
       " 'suppress': 6045,\n",
       " 'impossible': 3102,\n",
       " 'seller': 5389,\n",
       " 'contract': 1303,\n",
       " 'business': 819,\n",
       " 'arrangement': 329,\n",
       " 'court': 1372,\n",
       " 'resort': 5088,\n",
       " 'stay': 5859,\n",
       " 'instead': 3224,\n",
       " 'blame': 619,\n",
       " 'inexplicably': 3162,\n",
       " 'alcohol': 163,\n",
       " 'ensue': 2055,\n",
       " 'subsequent': 5977,\n",
       " 'reversal': 5131,\n",
       " 'ignore': 3057,\n",
       " 'ridiculous': 5161,\n",
       " 'stereotype': 5874,\n",
       " 'user': 6604,\n",
       " 'primary': 4677,\n",
       " 'drive': 1875,\n",
       " 'expensive': 2189,\n",
       " 'possibility': 4588,\n",
       " 'incorporate': 3137,\n",
       " 'successful': 5993,\n",
       " 'use': 6601,\n",
       " 'excess': 2157,\n",
       " 'personal': 4432,\n",
       " 'adult': 103,\n",
       " 'moral': 3938,\n",
       " 'justice': 3377,\n",
       " 'government': 2670,\n",
       " 'mostly': 3955,\n",
       " 'arbitrary': 307,\n",
       " 'political': 4553,\n",
       " 'reason': 4917,\n",
       " 'sound': 5727,\n",
       " 'social': 5680,\n",
       " 'policy': 4549,\n",
       " 'legitimate': 3505,\n",
       " 'science': 5334,\n",
       " 'decide': 1541,\n",
       " 'whose': 6830,\n",
       " 'wage': 6724,\n",
       " 'forget': 2448,\n",
       " 'none': 4096,\n",
       " 'hand': 2797,\n",
       " 'hardly': 2817,\n",
       " 'category': 918,\n",
       " 'propaganda': 4739,\n",
       " 'interest': 3254,\n",
       " 'th': 6203,\n",
       " 'century': 941,\n",
       " 'united': 6538,\n",
       " 'state': 5852,\n",
       " 'marijuana': 3710,\n",
       " 'heroin': 2888,\n",
       " 'significant': 5545,\n",
       " 'element': 1979,\n",
       " 'various': 6630,\n",
       " 'regard': 4977,\n",
       " 'thoughtful': 6238,\n",
       " 'slant': 5605,\n",
       " 'favor': 2296,\n",
       " 'mentality': 3796,\n",
       " 'respect': 5091,\n",
       " 'harsh': 2827,\n",
       " 'penalty': 4401,\n",
       " 'answer': 258,\n",
       " 'appropriate': 300,\n",
       " 'epidemic': 2079,\n",
       " 'nation': 4028,\n",
       " 'unnamed': 6552,\n",
       " 'disease': 1743,\n",
       " 'certain': 944,\n",
       " 'compassion': 1190,\n",
       " 'fellow': 2313,\n",
       " 'prejudice': 4640,\n",
       " 'growth': 2741,\n",
       " 'horrid': 2981,\n",
       " 'dignity': 1697,\n",
       " 'morally': 3941,\n",
       " 'wrong': 6924,\n",
       " 'kidnap': 3396,\n",
       " 'unless': 6546,\n",
       " 'select': 5384,\n",
       " 'group': 2736,\n",
       " 'clearly': 1070,\n",
       " 'issue': 3310,\n",
       " 'yet': 6941,\n",
       " 'sum': 6016,\n",
       " 'present': 4649,\n",
       " 'heart': 2850,\n",
       " 'rational': 4890,\n",
       " 'successfully': 5994,\n",
       " 'struggle': 5943,\n",
       " 'possibly': 4590,\n",
       " 'nasty': 4027,\n",
       " 'creep': 1408,\n",
       " 'plain': 4499,\n",
       " 'man': 3681,\n",
       " 'siege': 5538,\n",
       " 'jean': 3335,\n",
       " 'damme': 1491,\n",
       " 'redeem': 4950,\n",
       " 'always': 203,\n",
       " 'starship': 5847,\n",
       " 'trooper': 6412,\n",
       " 'yes': 6939,\n",
       " 'site': 5581,\n",
       " 'stuck': 5947,\n",
       " 'half': 2784,\n",
       " 'decent': 1539,\n",
       " 'begin': 547,\n",
       " 'scientist': 5336,\n",
       " 'speed': 5760,\n",
       " 'car': 883,\n",
       " 'crash': 1389,\n",
       " 'decapitate': 1534,\n",
       " 'keep': 3384,\n",
       " 'alive': 175,\n",
       " 'proceeds': 4699,\n",
       " 'search': 5359,\n",
       " 'model': 3905,\n",
       " 'stripper': 5935,\n",
       " 'perfect': 4414,\n",
       " 'cripple': 1416,\n",
       " 'assistant': 367,\n",
       " 'link': 3558,\n",
       " 'deform': 1566,\n",
       " 'kept': 3389,\n",
       " 'fondness': 2426,\n",
       " 'grow': 2737,\n",
       " 'late': 3461,\n",
       " 'local': 3584,\n",
       " 'station': 5855,\n",
       " 'exaggeration': 2142,\n",
       " 'afternoon': 127,\n",
       " 'explicit': 2198,\n",
       " 'sleazy': 5614,\n",
       " 'care': 886,\n",
       " 'lousy': 3615,\n",
       " 'perfectly': 4416,\n",
       " 'wretched': 6917,\n",
       " 'value': 6620,\n",
       " 'nonexistent': 4098,\n",
       " 'dumb': 1902,\n",
       " 'aside': 350,\n",
       " 'disgust': 1748,\n",
       " 'cat': 914,\n",
       " 'admittedly': 97,\n",
       " 'ton': 6305,\n",
       " 'loose': 3604,\n",
       " 'exploitation': 2202,\n",
       " 'utter': 6609,\n",
       " 'note': 4117,\n",
       " 'credit': 1406,\n",
       " 'wouldnt': 6906,\n",
       " 'die': 1683,\n",
       " 'brilliant': 755,\n",
       " 'dare': 1501,\n",
       " 'teen': 6160,\n",
       " 'romance': 5205,\n",
       " 'devil': 1663,\n",
       " 'taste': 6135,\n",
       " 'maturity': 3749,\n",
       " 'admiration': 92,\n",
       " 'demonstrate': 1599,\n",
       " 'power': 4606,\n",
       " 'flush': 2414,\n",
       " 'toilet': 6294,\n",
       " 'handful': 2798,\n",
       " 'rich': 5152,\n",
       " 'low': 3621,\n",
       " 'light': 3537,\n",
       " 'stop': 5902,\n",
       " 'enterprise': 2058,\n",
       " 'original': 4241,\n",
       " 'trek': 6386,\n",
       " 'dose': 1831,\n",
       " 'realistic': 4909,\n",
       " 'flaw': 2388,\n",
       " 'personality': 4433,\n",
       " 'generation': 2587,\n",
       " 'tire': 6280,\n",
       " 'noble': 4086,\n",
       " 'unbelievable': 6466,\n",
       " 'subplot': 5976,\n",
       " 'bitter': 609,\n",
       " 'toward': 6332,\n",
       " 'pretentious': 4662,\n",
       " 'snob': 5670,\n",
       " 'forward': 2470,\n",
       " 'race': 4835,\n",
       " 'frame': 2482,\n",
       " 'negative': 4051,\n",
       " 'quick': 4821,\n",
       " 'common': 1178,\n",
       " 'among': 217,\n",
       " 'shameless': 5462,\n",
       " 'dig': 1692,\n",
       " 'sexy': 5447,\n",
       " 'fiction': 2329,\n",
       " 'stand': 5837,\n",
       " 'pad': 4304,\n",
       " 'audience': 407,\n",
       " 'skin': 5595,\n",
       " 'oh': 4194,\n",
       " 'delightful': 1581,\n",
       " 'annual': 255,\n",
       " 'roger': 5200,\n",
       " 'overlook': 4282,\n",
       " 'festival': 2322,\n",
       " 'historic': 2919,\n",
       " 'subtitle': 5983,\n",
       " 'ballroom': 475,\n",
       " 'outside': 4270,\n",
       " 'japan': 3327,\n",
       " 'rigid': 5169,\n",
       " 'employment': 2017,\n",
       " 'recreation': 4945,\n",
       " 'day': 1514,\n",
       " 'custom': 1470,\n",
       " 'name': 4017,\n",
       " 'us': 6599,\n",
       " 'theme': 6215,\n",
       " 'societal': 5683,\n",
       " 'shall': 5457,\n",
       " 'reader': 4903,\n",
       " 'familiar': 2264,\n",
       " 'formal': 2457,\n",
       " 'refer': 4961,\n",
       " 'professional': 4709,\n",
       " 'list': 3564,\n",
       " 'data': 1509,\n",
       " 'aid': 144,\n",
       " 'wife': 6839,\n",
       " 'ballet': 473,\n",
       " 'dancer': 1496,\n",
       " 'motion': 3959,\n",
       " 'picture': 4472,\n",
       " 'father': 2293,\n",
       " 'studio': 5950,\n",
       " 'ambition': 211,\n",
       " 'compete': 1195,\n",
       " 'international': 3262,\n",
       " 'competition': 1198,\n",
       " 'past': 4362,\n",
       " 'veteran': 6658,\n",
       " 'sterling': 5877,\n",
       " 'lovely': 3618,\n",
       " 'teenage': 6161,\n",
       " 'daughter': 1511,\n",
       " 'purchase': 4795,\n",
       " 'inner': 3196,\n",
       " 'happiness': 2810,\n",
       " 'learn': 3488,\n",
       " 'involve': 3295,\n",
       " 'secretly': 5369,\n",
       " 'lesson': 3513,\n",
       " 'liberate': 3524,\n",
       " 'friendly': 2507,\n",
       " ...}"
      ]
     },
     "execution_count": 172,
     "metadata": {},
     "output_type": "execute_result"
    }
   ],
   "source": [
    "cv.vocabulary_"
   ]
  },
  {
   "cell_type": "code",
   "execution_count": 173,
   "id": "33b726f2",
   "metadata": {
    "colab": {
     "base_uri": "https://localhost:8080/"
    },
    "id": "33b726f2",
    "outputId": "96458cbc-221c-4ea7-d078-4a3c9625cf7f"
   },
   "outputs": [
    {
     "data": {
      "text/plain": [
       "6956"
      ]
     },
     "execution_count": 173,
     "metadata": {},
     "output_type": "execute_result"
    }
   ],
   "source": [
    "len(cv.vocabulary_)"
   ]
  },
  {
   "cell_type": "code",
   "execution_count": 174,
   "id": "ea01d900",
   "metadata": {
    "colab": {
     "base_uri": "https://localhost:8080/"
    },
    "id": "ea01d900",
    "outputId": "012ee8e8-ca5c-42f2-99b0-d98ce4c36b2b"
   },
   "outputs": [
    {
     "data": {
      "text/plain": [
       "(22500, 6956)"
      ]
     },
     "execution_count": 174,
     "metadata": {},
     "output_type": "execute_result"
    }
   ],
   "source": [
    "X_train_bow.shape"
   ]
  },
  {
   "cell_type": "code",
   "execution_count": 175,
   "id": "Q9OYkEhVw6NB",
   "metadata": {
    "id": "Q9OYkEhVw6NB"
   },
   "outputs": [],
   "source": [
    "cv_full = CountVectorizer(max_df=0.99, min_df=0.0009)\n",
    "X_full_train_bow = cv_full.fit_transform(full_train)"
   ]
  },
  {
   "cell_type": "code",
   "execution_count": 176,
   "id": "nHXIB-TrxJ6K",
   "metadata": {
    "id": "nHXIB-TrxJ6K"
   },
   "outputs": [],
   "source": [
    "X_test_bow = cv_full.transform(test)"
   ]
  },
  {
   "cell_type": "code",
   "execution_count": 177,
   "id": "60oNkWyNxtSQ",
   "metadata": {
    "colab": {
     "base_uri": "https://localhost:8080/"
    },
    "id": "60oNkWyNxtSQ",
    "outputId": "faf27882-3366-4d37-c6b7-03ef46c8b7b2"
   },
   "outputs": [
    {
     "data": {
      "text/plain": [
       "7001"
      ]
     },
     "execution_count": 177,
     "metadata": {},
     "output_type": "execute_result"
    }
   ],
   "source": [
    "len(cv_full.vocabulary_)"
   ]
  },
  {
   "cell_type": "markdown",
   "id": "2N8cG8EKMFE9",
   "metadata": {
    "id": "2N8cG8EKMFE9"
   },
   "source": [
    "# Tf_Idf\n",
    "This is the TF-IDF vectorization model.\n",
    "\n",
    "We create constrains on the number of features created by the vectorizer."
   ]
  },
  {
   "cell_type": "code",
   "execution_count": 178,
   "id": "ddHdQlMYMFE9",
   "metadata": {
    "id": "ddHdQlMYMFE9"
   },
   "outputs": [],
   "source": [
    "tf = TfidfVectorizer(max_df=0.99, min_df=0.0009, lowercase=False)\n",
    "X_train_tf = tf.fit_transform(X_train)"
   ]
  },
  {
   "cell_type": "code",
   "execution_count": 179,
   "id": "LRS8_RckeWM8",
   "metadata": {
    "id": "LRS8_RckeWM8"
   },
   "outputs": [],
   "source": [
    "X_validation_tf = tf.transform(X_validation)"
   ]
  },
  {
   "cell_type": "code",
   "execution_count": 180,
   "id": "dz14t93ZMFE-",
   "metadata": {
    "colab": {
     "base_uri": "https://localhost:8080/"
    },
    "id": "dz14t93ZMFE-",
    "outputId": "b94aa1af-56aa-443c-8f5e-e4cffb3ead13",
    "scrolled": true,
    "tags": []
   },
   "outputs": [
    {
     "data": {
      "text/plain": [
       "{'first': 2366,\n",
       " 'saw': 5311,\n",
       " 'preview': 4667,\n",
       " 'movie': 3972,\n",
       " 'really': 4914,\n",
       " 'wait': 6726,\n",
       " 'see': 5376,\n",
       " 'plot': 4526,\n",
       " 'seem': 5380,\n",
       " 'good': 2653,\n",
       " 'set': 5430,\n",
       " 'great': 2706,\n",
       " 'mean': 3759,\n",
       " 'slasher': 5609,\n",
       " 'take': 6117,\n",
       " 'place': 4496,\n",
       " 'night': 4081,\n",
       " 'idea': 3042,\n",
       " 'high': 2903,\n",
       " 'school': 5333,\n",
       " 'teacher': 6147,\n",
       " 'becomes': 537,\n",
       " 'sexually': 5446,\n",
       " 'obsess': 4160,\n",
       " 'one': 4200,\n",
       " 'student': 5949,\n",
       " 'go': 2640,\n",
       " 'crazy': 1396,\n",
       " 'get': 2601,\n",
       " 'arrest': 331,\n",
       " 'escape': 2098,\n",
       " 'three': 6243,\n",
       " 'year': 6934,\n",
       " 'later': 3463,\n",
       " 'suppose': 6043,\n",
       " 'happy': 2811,\n",
       " 'memorable': 3790,\n",
       " 'turn': 6435,\n",
       " 'hell': 2873,\n",
       " 'however': 3000,\n",
       " 'extremely': 2229,\n",
       " 'disappointed': 1725,\n",
       " 'bad': 460,\n",
       " 'horror': 2984,\n",
       " 'ever': 2122,\n",
       " 'general': 2584,\n",
       " 'wasnt': 6759,\n",
       " 'even': 2118,\n",
       " 'scary': 5323,\n",
       " 'moment': 3915,\n",
       " 'seat': 5362,\n",
       " 'also': 196,\n",
       " 'murder': 3984,\n",
       " 'scene': 5326,\n",
       " 'cheesy': 986,\n",
       " 'dull': 1901,\n",
       " 'either': 1965,\n",
       " 'stab': 5818,\n",
       " 'victim': 6663,\n",
       " 'stomach': 5895,\n",
       " 'multiple': 3978,\n",
       " 'time': 6273,\n",
       " 'cut': 1472,\n",
       " 'throat': 6247,\n",
       " 'absolutely': 16,\n",
       " 'gore': 2662,\n",
       " 'rat': 4885,\n",
       " 'blood': 642,\n",
       " 'probably': 4693,\n",
       " 'killer': 3398,\n",
       " 'black': 613,\n",
       " 'girl': 2615,\n",
       " 'splatter': 5781,\n",
       " 'sheet': 5477,\n",
       " 'around': 326,\n",
       " 'dont': 1823,\n",
       " 'actually': 73,\n",
       " 'show': 5518,\n",
       " 'next': 4073,\n",
       " 'face': 2239,\n",
       " 'introduce': 3277,\n",
       " 'mysterious': 4004,\n",
       " 'creepy': 1410,\n",
       " 'guy': 2768,\n",
       " 'kill': 3397,\n",
       " 'everything': 2127,\n",
       " 'example': 2145,\n",
       " 'end': 2026,\n",
       " 'main': 3670,\n",
       " 'character': 962,\n",
       " 'last': 3459,\n",
       " 'detective': 1654,\n",
       " 'shoot': 5501,\n",
       " 'every': 2123,\n",
       " 'single': 5570,\n",
       " 'thing': 6228,\n",
       " 'predictable': 4632,\n",
       " 'knife': 3415,\n",
       " 'run': 5243,\n",
       " 'life': 3532,\n",
       " 'hide': 2900,\n",
       " 'think': 6229,\n",
       " 'away': 435,\n",
       " 'pop': 4564,\n",
       " 'finally': 2352,\n",
       " 'sequence': 5415,\n",
       " 'hotel': 2993,\n",
       " 'people': 4407,\n",
       " 'body': 662,\n",
       " 'discover': 1737,\n",
       " 'someone': 5701,\n",
       " 'pull': 4782,\n",
       " 'fire': 2361,\n",
       " 'alarm': 159,\n",
       " 'everyone': 2126,\n",
       " 'something': 5702,\n",
       " 'room': 5211,\n",
       " 'encounter': 2024,\n",
       " 'thats': 6209,\n",
       " 'home': 2942,\n",
       " 'guard': 2748,\n",
       " 'house': 2996,\n",
       " 'find': 2356,\n",
       " 'stupid': 5959,\n",
       " 'look': 3599,\n",
       " 'trust': 6421,\n",
       " 'waste': 6760,\n",
       " 'money': 3919,\n",
       " 'wonder': 6881,\n",
       " 'small': 5642,\n",
       " 'theater': 6210,\n",
       " 'friend': 2506,\n",
       " 'along': 192,\n",
       " 'two': 6445,\n",
       " 'sit': 5580,\n",
       " 'back': 450,\n",
       " 'told': 6296,\n",
       " 'beforehand': 543,\n",
       " 'shy': 5530,\n",
       " 'insecure': 3206,\n",
       " 'rent': 5041,\n",
       " 'old': 4196,\n",
       " 'apartment': 280,\n",
       " 'without': 6870,\n",
       " 'bathroom': 513,\n",
       " 'previous': 4668,\n",
       " 'tenant': 6176,\n",
       " 'commit': 1175,\n",
       " 'suicide': 6010,\n",
       " 'winter': 6857,\n",
       " 'tough': 6327,\n",
       " 'landlord': 3448,\n",
       " 'establish': 2107,\n",
       " 'rule': 5240,\n",
       " 'behavior': 551,\n",
       " 'feel': 2309,\n",
       " 'ridden': 5156,\n",
       " 'neighbor': 4053,\n",
       " 'meanwhile': 3765,\n",
       " 'visit': 6696,\n",
       " 'hospital': 2987,\n",
       " 'stella': 5868,\n",
       " 'death': 1528,\n",
       " 'believe': 559,\n",
       " 'scheme': 5330,\n",
       " 'force': 2437,\n",
       " 'weird': 6793,\n",
       " 'disturb': 1787,\n",
       " 'tale': 6118,\n",
       " 'paranoia': 4331,\n",
       " 'delusion': 1588,\n",
       " 'story': 5905,\n",
       " 'process': 4700,\n",
       " 'madness': 3657,\n",
       " 'loss': 3611,\n",
       " 'identity': 3047,\n",
       " 'lonely': 3595,\n",
       " 'slowly': 5635,\n",
       " 'nightmarish': 4083,\n",
       " 'atmosphere': 385,\n",
       " 'gruesome': 2743,\n",
       " 'location': 3587,\n",
       " 'happen': 2806,\n",
       " 'indeed': 3143,\n",
       " 'totally': 6325,\n",
       " 'unpredictable': 6560,\n",
       " 'performance': 4418,\n",
       " 'awesome': 437,\n",
       " 'beautiful': 532,\n",
       " 'vote': 6713,\n",
       " 'title': 6285,\n",
       " 'brazil': 731,\n",
       " 'many': 3701,\n",
       " 'incident': 3125,\n",
       " 'film': 2346,\n",
       " 'another': 257,\n",
       " 'nearly': 4041,\n",
       " 'violence': 6682,\n",
       " 'shock': 5494,\n",
       " 'fight': 2340,\n",
       " 'miss': 3883,\n",
       " 'please': 4521,\n",
       " 'reaction': 4901,\n",
       " 'semblance': 5390,\n",
       " 'third': 6230,\n",
       " 'way': 6770,\n",
       " 'switch': 6092,\n",
       " 'completely': 1205,\n",
       " 'best': 580,\n",
       " 'maker': 3677,\n",
       " 'else': 1990,\n",
       " 'miserable': 3870,\n",
       " 'like': 3545,\n",
       " 'make': 3676,\n",
       " 'shoe': 5498,\n",
       " 'deliver': 1584,\n",
       " 'mail': 3669,\n",
       " 'disagree': 1721,\n",
       " 'watch': 6762,\n",
       " 'entire': 2067,\n",
       " 'would': 6905,\n",
       " 'stun': 5955,\n",
       " 'scenery': 5327,\n",
       " 'shot': 5512,\n",
       " 'found': 2474,\n",
       " 'difficult': 1690,\n",
       " 'start': 5848,\n",
       " 'come': 1154,\n",
       " 'together': 6293,\n",
       " 'poignant': 4539,\n",
       " 'big': 590,\n",
       " 'budget': 785,\n",
       " 'rather': 4887,\n",
       " 'strong': 5939,\n",
       " 'community': 1183,\n",
       " 'cant': 863,\n",
       " 'say': 5312,\n",
       " 'much': 3973,\n",
       " 'standard': 5838,\n",
       " 'bore': 690,\n",
       " 'push': 4806,\n",
       " 'polished': 4551,\n",
       " 'stuff': 5952,\n",
       " 'doesnt': 1810,\n",
       " 'try': 6424,\n",
       " 'offer': 4185,\n",
       " 'real': 4907,\n",
       " 'certainly': 945,\n",
       " 'recent': 4928,\n",
       " 'act': 64,\n",
       " 'style': 5963,\n",
       " 'blockbuster': 639,\n",
       " 'actor': 69,\n",
       " 'seemingly': 5381,\n",
       " 'thought': 6237,\n",
       " 'key': 3391,\n",
       " 'role': 5202,\n",
       " 'boy': 714,\n",
       " 'grandfather': 2686,\n",
       " 'convincing': 1326,\n",
       " 'unusually': 6582,\n",
       " 'bear': 523,\n",
       " 'second': 5364,\n",
       " 'view': 6667,\n",
       " 'since': 5564,\n",
       " 'thread': 6240,\n",
       " 'become': 536,\n",
       " 'feed': 2308,\n",
       " 'overall': 4274,\n",
       " 'combination': 1152,\n",
       " 'music': 3992,\n",
       " 'plus': 4530,\n",
       " 'approach': 299,\n",
       " 'structure': 5942,\n",
       " 'quite': 4830,\n",
       " 'distinctive': 1774,\n",
       " 'left': 3498,\n",
       " 'planet': 4502,\n",
       " 'earth': 1928,\n",
       " 'populate': 4568,\n",
       " 'poor': 4562,\n",
       " 'starve': 5851,\n",
       " 'survivor': 6065,\n",
       " 'must': 3995,\n",
       " 'eat': 1934,\n",
       " 'bug': 790,\n",
       " 'insect': 3205,\n",
       " 'whatever': 6805,\n",
       " 'poison': 4542,\n",
       " 'war': 6742,\n",
       " 'wipe': 6858,\n",
       " 'human': 3009,\n",
       " 'civilization': 1049,\n",
       " 'dark': 1502,\n",
       " 'still': 5883,\n",
       " 'able': 3,\n",
       " 'live': 3576,\n",
       " 'comfort': 1159,\n",
       " 'call': 843,\n",
       " 'know': 3420,\n",
       " 'quest': 4817,\n",
       " 'prevent': 4666,\n",
       " 'secret': 5367,\n",
       " 'seed': 5377,\n",
       " 'release': 5002,\n",
       " 'air': 150,\n",
       " 'person': 4430,\n",
       " 'exist': 2177,\n",
       " 'locate': 3586,\n",
       " 'far': 2274,\n",
       " 'living': 3578,\n",
       " 'soul': 5725,\n",
       " 'highly': 2905,\n",
       " 'protect': 4753,\n",
       " 'layer': 3478,\n",
       " 'deadly': 1520,\n",
       " 'defense': 1560,\n",
       " 'system': 6104,\n",
       " 'want': 6741,\n",
       " 'remain': 5020,\n",
       " 'plan': 4500,\n",
       " 'send': 5395,\n",
       " 'action': 65,\n",
       " 'team': 6148,\n",
       " 'remove': 5035,\n",
       " 'protective': 4755,\n",
       " 'longer': 3597,\n",
       " 'possible': 4589,\n",
       " 'easily': 1930,\n",
       " 'let': 3514,\n",
       " 'sleep': 5615,\n",
       " 'dog': 1811,\n",
       " 'lie': 3530,\n",
       " 'pleasant': 4519,\n",
       " 'feature': 2304,\n",
       " 'elegant': 1978,\n",
       " 'unremarkable': 6567,\n",
       " 'member': 3788,\n",
       " 'drop': 1881,\n",
       " 'pace': 4300,\n",
       " 'timing': 6275,\n",
       " 'engage': 2037,\n",
       " 'charm': 970,\n",
       " 'acceptable': 32,\n",
       " 'employer': 2016,\n",
       " 'object': 4146,\n",
       " 'love': 3617,\n",
       " 'desire': 1635,\n",
       " 'believable': 558,\n",
       " 'fan': 2268,\n",
       " 'may': 3752,\n",
       " 'check': 978,\n",
       " 'outstanding': 4272,\n",
       " 'couple': 1368,\n",
       " 'dinner': 1708,\n",
       " 'rush': 5247,\n",
       " 'recommend': 4938,\n",
       " 'beside': 578,\n",
       " 'fact': 2243,\n",
       " 'beyond': 586,\n",
       " 'expectation': 2186,\n",
       " 'masterpiece': 3739,\n",
       " 'cinema': 1034,\n",
       " 'history': 2922,\n",
       " 'portrait': 4576,\n",
       " 'overuse': 4292,\n",
       " 'filter': 2347,\n",
       " 'usual': 6605,\n",
       " 'woman': 6879,\n",
       " 'true': 6417,\n",
       " 'intention': 3249,\n",
       " 'surprising': 6056,\n",
       " 'land': 3447,\n",
       " 'remember': 5027,\n",
       " 'early': 1925,\n",
       " 'travel': 6377,\n",
       " 'honest': 2952,\n",
       " 'passion': 4359,\n",
       " 'trash': 6372,\n",
       " 'never': 4066,\n",
       " 'finish': 2360,\n",
       " 'brother': 768,\n",
       " 'cast': 909,\n",
       " 'tree': 6385,\n",
       " 'bill': 593,\n",
       " 'family': 2266,\n",
       " 'havent': 2837,\n",
       " 'presumably': 4657,\n",
       " 'direction': 1713,\n",
       " 'dilute': 1700,\n",
       " 'darkness': 1505,\n",
       " 'cynicism': 1479,\n",
       " 'create': 1398,\n",
       " 'grand': 2684,\n",
       " 'fantasy': 2273,\n",
       " 'fairy': 2255,\n",
       " 'young': 6944,\n",
       " 'chosen': 1023,\n",
       " 'fate': 2291,\n",
       " 'save': 5309,\n",
       " 'world': 6896,\n",
       " 'monster': 3926,\n",
       " 'largely': 3456,\n",
       " 'unaware': 6463,\n",
       " 'evidently': 2131,\n",
       " 'anything': 274,\n",
       " 'lot': 3612,\n",
       " 'odd': 4176,\n",
       " 'creature': 1403,\n",
       " 'perhaps': 4420,\n",
       " 'lack': 3433,\n",
       " 'extreme': 2228,\n",
       " 'content': 1291,\n",
       " 'consequence': 1266,\n",
       " 'nervous': 4060,\n",
       " 'different': 1688,\n",
       " 'often': 4193,\n",
       " 'accuse': 52,\n",
       " 'design': 1633,\n",
       " 'silence': 5547,\n",
       " 'critic': 1420,\n",
       " 'regardless': 4978,\n",
       " 'project': 4722,\n",
       " 'channel': 957,\n",
       " 'imagination': 3072,\n",
       " 'invention': 3284,\n",
       " 'production': 4705,\n",
       " 'evoke': 2134,\n",
       " 'base': 498,\n",
       " 'series': 5419,\n",
       " 'comic': 1161,\n",
       " 'folk': 2422,\n",
       " 'influence': 3172,\n",
       " 'well': 6796,\n",
       " 'particularly': 4349,\n",
       " 'spirit': 5776,\n",
       " 'nothing': 4119,\n",
       " 'harry': 2826,\n",
       " 'potter': 4601,\n",
       " 'work': 6894,\n",
       " 'special': 5748,\n",
       " 'effect': 1953,\n",
       " 'arent': 317,\n",
       " 'especially': 2101,\n",
       " 'obvious': 4165,\n",
       " 'though': 6236,\n",
       " 'animate': 243,\n",
       " 'mix': 3895,\n",
       " 'little': 3575,\n",
       " 'follow': 2424,\n",
       " 'hero': 2886,\n",
       " 'meant': 3764,\n",
       " 'cheap': 975,\n",
       " 'lad': 3435,\n",
       " 'play': 4512,\n",
       " 'job': 3350,\n",
       " 'hard': 2814,\n",
       " 'concept': 1228,\n",
       " 'genuine': 2597,\n",
       " 'talent': 6119,\n",
       " 'voice': 6706,\n",
       " 'delicious': 1577,\n",
       " 'piece': 4475,\n",
       " 'impression': 3104,\n",
       " 'river': 5182,\n",
       " 'princess': 4681,\n",
       " 'violent': 6683,\n",
       " 'pervert': 4441,\n",
       " 'gangster': 2561,\n",
       " 'theyre': 6224,\n",
       " 'wit': 6866,\n",
       " 'plenty': 4523,\n",
       " 'satisfy': 5306,\n",
       " 'add': 78,\n",
       " 'bonus': 679,\n",
       " 'happily': 2809,\n",
       " 'put': 4807,\n",
       " 'company': 1186,\n",
       " 'youve': 6948,\n",
       " 'modesty': 3910,\n",
       " 'pilot': 4480,\n",
       " 'bit': 604,\n",
       " 'cult': 1453,\n",
       " 'touch': 6326,\n",
       " 'magic': 3660,\n",
       " 'caught': 922,\n",
       " 'deal': 1523,\n",
       " 'admit': 96,\n",
       " 'read': 4902,\n",
       " 'book': 682,\n",
       " 'peter': 4444,\n",
       " 'opposite': 4217,\n",
       " 'positive': 4583,\n",
       " 'childhood': 999,\n",
       " 'overrate': 4286,\n",
       " 'definitely': 1563,\n",
       " 'musical': 3993,\n",
       " 'dickens': 1679,\n",
       " 'hate': 2832,\n",
       " 'mild': 3835,\n",
       " 'spoiler': 5786,\n",
       " 'enough': 2052,\n",
       " 'energy': 2036,\n",
       " 'sing': 5568,\n",
       " 'dance': 1495,\n",
       " 'walk': 6730,\n",
       " 'sunset': 6026,\n",
       " 'exactly': 2139,\n",
       " 'faithful': 2257,\n",
       " 'novel': 4127,\n",
       " 'recall': 4924,\n",
       " 'prison': 4687,\n",
       " 'reed': 4955,\n",
       " 'weak': 6772,\n",
       " 'growl': 2738,\n",
       " 'indicate': 3146,\n",
       " 'evil': 2132,\n",
       " 'mark': 3713,\n",
       " 'across': 63,\n",
       " 'awkward': 442,\n",
       " 'passive': 4361,\n",
       " 'portrayal': 4578,\n",
       " 'help': 2877,\n",
       " 'could': 1355,\n",
       " 'dub': 1890,\n",
       " 'guess': 2751,\n",
       " 'didnt': 1682,\n",
       " 'realize': 4913,\n",
       " 'almost': 190,\n",
       " 'church': 1030,\n",
       " 'stick': 5880,\n",
       " 'lean': 3486,\n",
       " 'amaze': 206,\n",
       " 'hour': 2995,\n",
       " 'adaptation': 76,\n",
       " 'mids': 3829,\n",
       " 'avoid': 428,\n",
       " 'bloat': 636,\n",
       " 'pretty': 4663,\n",
       " 'seriously': 5421,\n",
       " 'anyone': 273,\n",
       " 'dragon': 1848,\n",
       " 'fighter': 2341,\n",
       " 'dean': 1526,\n",
       " 'cain': 838,\n",
       " 'bunch': 802,\n",
       " 'expect': 2185,\n",
       " 'quality': 4813,\n",
       " 'moderate': 3906,\n",
       " 'intelligence': 3241,\n",
       " 'rework': 5145,\n",
       " 'formula': 2462,\n",
       " 'popular': 4566,\n",
       " 'give': 2616,\n",
       " 'token': 6295,\n",
       " 'analysis': 229,\n",
       " 'wind': 6850,\n",
       " 'ruin': 5238,\n",
       " 'write': 6921,\n",
       " 'review': 5133,\n",
       " 'female': 2315,\n",
       " 'lead': 3480,\n",
       " 'charisma': 967,\n",
       " 'notably': 4115,\n",
       " 'attractive': 405,\n",
       " 'appearance': 291,\n",
       " 'unfortunately': 6521,\n",
       " 'ill': 3059,\n",
       " 'uninspired': 6528,\n",
       " 'new': 4068,\n",
       " 'columbo': 1147,\n",
       " 'attend': 397,\n",
       " 'nephew': 4058,\n",
       " 'wedding': 6784,\n",
       " 'bride': 749,\n",
       " 'disappear': 1722,\n",
       " 'surprisingly': 6057,\n",
       " 'laden': 3437,\n",
       " 'flat': 2385,\n",
       " 'script': 5351,\n",
       " 'van': 6622,\n",
       " 'pen': 4400,\n",
       " 'enjoyable': 2045,\n",
       " 'glass': 2624,\n",
       " 'heyday': 2896,\n",
       " 'speak': 5745,\n",
       " 'amount': 220,\n",
       " 'afford': 123,\n",
       " 'narrow': 4026,\n",
       " 'suspect': 6066,\n",
       " 'via': 6659,\n",
       " 'photo': 4456,\n",
       " 'include': 3128,\n",
       " 'everybody': 2124,\n",
       " 'devoid': 1667,\n",
       " 'trait': 6355,\n",
       " 'episode': 2080,\n",
       " 'hill': 2911,\n",
       " 'street': 5923,\n",
       " 'blue': 651,\n",
       " 'insult': 3232,\n",
       " 'appropriately': 301,\n",
       " 'funny': 2535,\n",
       " 'whether': 6813,\n",
       " 'language': 3452,\n",
       " 'men': 3793,\n",
       " 'identify': 3046,\n",
       " 'frank': 2486,\n",
       " 'extent': 2219,\n",
       " 'hugely': 3005,\n",
       " 'entertain': 2059,\n",
       " 'enjoy': 2044,\n",
       " 'perform': 4417,\n",
       " 'tremendous': 6387,\n",
       " 'hit': 2923,\n",
       " 'fortunate': 2465,\n",
       " 'understand': 6493,\n",
       " 'eye': 2230,\n",
       " 'comment': 1169,\n",
       " 'mediocre': 3774,\n",
       " 'minimum': 3855,\n",
       " 'energetic': 2035,\n",
       " 'core': 1337,\n",
       " 'insane': 3202,\n",
       " 'laugh': 3465,\n",
       " 'martial': 3720,\n",
       " 'art': 337,\n",
       " 'important': 3099,\n",
       " 'least': 3490,\n",
       " 'computer': 1220,\n",
       " 'free': 2494,\n",
       " 'screen': 5346,\n",
       " 'modern': 3908,\n",
       " 'damn': 1492,\n",
       " 'word': 6892,\n",
       " 'child': 998,\n",
       " 'adjust': 88,\n",
       " 'wire': 6859,\n",
       " 'cute': 1473,\n",
       " 'dozen': 1844,\n",
       " 'physically': 4463,\n",
       " 'advanced': 107,\n",
       " 'star': 5842,\n",
       " 'repeat': 5044,\n",
       " 'brawl': 730,\n",
       " 'football': 2433,\n",
       " 'hong': 2957,\n",
       " 'fun': 2529,\n",
       " 'pretend': 4659,\n",
       " 'problem': 4695,\n",
       " 'spoil': 5785,\n",
       " 'mention': 3798,\n",
       " 'neat': 4042,\n",
       " 'theatrical': 6211,\n",
       " 'wont': 6887,\n",
       " 'talk': 6122,\n",
       " 'brave': 727,\n",
       " 'manner': 3695,\n",
       " 'criminal': 1413,\n",
       " 'sudden': 5999,\n",
       " 'fist': 2372,\n",
       " 'punch': 4787,\n",
       " 'side': 5536,\n",
       " 'head': 2841,\n",
       " 'expression': 2212,\n",
       " 'change': 956,\n",
       " 'whimsical': 6816,\n",
       " 'baby': 447,\n",
       " 'menace': 3794,\n",
       " 'size': 5587,\n",
       " 'mouth': 3969,\n",
       " 'ear': 1923,\n",
       " 'long': 3596,\n",
       " 'rating': 4888,\n",
       " 'thousand': 6239,\n",
       " 'thankful': 6205,\n",
       " 'industry': 3155,\n",
       " 'classic': 1058,\n",
       " 'humble': 3012,\n",
       " 'opinion': 4213,\n",
       " 'deserve': 1631,\n",
       " 'total': 6324,\n",
       " 'legendary': 3503,\n",
       " 'genre': 2593,\n",
       " 'thank': 6204,\n",
       " 'attention': 399,\n",
       " 'promising': 4729,\n",
       " 'confuse': 1251,\n",
       " 'muddle': 3975,\n",
       " 'effort': 1957,\n",
       " 'period': 4422,\n",
       " 'right': 5166,\n",
       " 'pity': 4493,\n",
       " 'spend': 5763,\n",
       " 'particular': 4348,\n",
       " 'disappoint': 1724,\n",
       " 'although': 201,\n",
       " 'snippet': 5669,\n",
       " 'part': 4342,\n",
       " 'documentary': 1807,\n",
       " 'hint': 2914,\n",
       " 'necessity': 4046,\n",
       " 'drug': 1884,\n",
       " 'law': 3474,\n",
       " 'reform': 4967,\n",
       " 'contrast': 1306,\n",
       " 'currently': 1465,\n",
       " 'illegal': 3060,\n",
       " 'imaginable': 3070,\n",
       " 'solution': 5695,\n",
       " 'guilty': 2756,\n",
       " 'mere': 3805,\n",
       " 'possession': 4587,\n",
       " 'program': 4716,\n",
       " 'whole': 6825,\n",
       " 'leaf': 3483,\n",
       " 'viewer': 6668,\n",
       " 'futile': 2544,\n",
       " 'exercise': 2172,\n",
       " 'praise': 4613,\n",
       " 'address': 84,\n",
       " 'merely': 3806,\n",
       " 'posse': 4585,\n",
       " 'obviously': 4166,\n",
       " 'cause': 923,\n",
       " 'warrior': 6756,\n",
       " 'tell': 6167,\n",
       " 'ask': 351,\n",
       " 'solve': 5696,\n",
       " 'minute': 3862,\n",
       " 'spent': 5765,\n",
       " 'associate': 368,\n",
       " 'rise': 5175,\n",
       " 'popularity': 4567,\n",
       " 'crack': 1383,\n",
       " 'cocaine': 1112,\n",
       " 'point': 4540,\n",
       " 'suppress': 6045,\n",
       " 'impossible': 3102,\n",
       " 'seller': 5389,\n",
       " 'contract': 1303,\n",
       " 'business': 819,\n",
       " 'arrangement': 329,\n",
       " 'court': 1372,\n",
       " 'resort': 5088,\n",
       " 'stay': 5859,\n",
       " 'instead': 3224,\n",
       " 'blame': 619,\n",
       " 'inexplicably': 3162,\n",
       " 'alcohol': 163,\n",
       " 'ensue': 2055,\n",
       " 'subsequent': 5977,\n",
       " 'reversal': 5131,\n",
       " 'ignore': 3057,\n",
       " 'ridiculous': 5161,\n",
       " 'stereotype': 5874,\n",
       " 'user': 6604,\n",
       " 'primary': 4677,\n",
       " 'drive': 1875,\n",
       " 'expensive': 2189,\n",
       " 'possibility': 4588,\n",
       " 'incorporate': 3137,\n",
       " 'successful': 5993,\n",
       " 'use': 6601,\n",
       " 'excess': 2157,\n",
       " 'personal': 4432,\n",
       " 'adult': 103,\n",
       " 'moral': 3938,\n",
       " 'justice': 3377,\n",
       " 'government': 2670,\n",
       " 'mostly': 3955,\n",
       " 'arbitrary': 307,\n",
       " 'political': 4553,\n",
       " 'reason': 4917,\n",
       " 'sound': 5727,\n",
       " 'social': 5680,\n",
       " 'policy': 4549,\n",
       " 'legitimate': 3505,\n",
       " 'science': 5334,\n",
       " 'decide': 1541,\n",
       " 'whose': 6830,\n",
       " 'wage': 6724,\n",
       " 'forget': 2448,\n",
       " 'none': 4096,\n",
       " 'hand': 2797,\n",
       " 'hardly': 2817,\n",
       " 'category': 918,\n",
       " 'propaganda': 4739,\n",
       " 'interest': 3254,\n",
       " 'th': 6203,\n",
       " 'century': 941,\n",
       " 'united': 6538,\n",
       " 'state': 5852,\n",
       " 'marijuana': 3710,\n",
       " 'heroin': 2888,\n",
       " 'significant': 5545,\n",
       " 'element': 1979,\n",
       " 'various': 6630,\n",
       " 'regard': 4977,\n",
       " 'thoughtful': 6238,\n",
       " 'slant': 5605,\n",
       " 'favor': 2296,\n",
       " 'mentality': 3796,\n",
       " 'respect': 5091,\n",
       " 'harsh': 2827,\n",
       " 'penalty': 4401,\n",
       " 'answer': 258,\n",
       " 'appropriate': 300,\n",
       " 'epidemic': 2079,\n",
       " 'nation': 4028,\n",
       " 'unnamed': 6552,\n",
       " 'disease': 1743,\n",
       " 'certain': 944,\n",
       " 'compassion': 1190,\n",
       " 'fellow': 2313,\n",
       " 'prejudice': 4640,\n",
       " 'growth': 2741,\n",
       " 'horrid': 2981,\n",
       " 'dignity': 1697,\n",
       " 'morally': 3941,\n",
       " 'wrong': 6924,\n",
       " 'kidnap': 3396,\n",
       " 'unless': 6546,\n",
       " 'select': 5384,\n",
       " 'group': 2736,\n",
       " 'clearly': 1070,\n",
       " 'issue': 3310,\n",
       " 'yet': 6941,\n",
       " 'sum': 6016,\n",
       " 'present': 4649,\n",
       " 'heart': 2850,\n",
       " 'rational': 4890,\n",
       " 'successfully': 5994,\n",
       " 'struggle': 5943,\n",
       " 'possibly': 4590,\n",
       " 'nasty': 4027,\n",
       " 'creep': 1408,\n",
       " 'plain': 4499,\n",
       " 'man': 3681,\n",
       " 'siege': 5538,\n",
       " 'jean': 3335,\n",
       " 'damme': 1491,\n",
       " 'redeem': 4950,\n",
       " 'always': 203,\n",
       " 'starship': 5847,\n",
       " 'trooper': 6412,\n",
       " 'yes': 6939,\n",
       " 'site': 5581,\n",
       " 'stuck': 5947,\n",
       " 'half': 2784,\n",
       " 'decent': 1539,\n",
       " 'begin': 547,\n",
       " 'scientist': 5336,\n",
       " 'speed': 5760,\n",
       " 'car': 883,\n",
       " 'crash': 1389,\n",
       " 'decapitate': 1534,\n",
       " 'keep': 3384,\n",
       " 'alive': 175,\n",
       " 'proceeds': 4699,\n",
       " 'search': 5359,\n",
       " 'model': 3905,\n",
       " 'stripper': 5935,\n",
       " 'perfect': 4414,\n",
       " 'cripple': 1416,\n",
       " 'assistant': 367,\n",
       " 'link': 3558,\n",
       " 'deform': 1566,\n",
       " 'kept': 3389,\n",
       " 'fondness': 2426,\n",
       " 'grow': 2737,\n",
       " 'late': 3461,\n",
       " 'local': 3584,\n",
       " 'station': 5855,\n",
       " 'exaggeration': 2142,\n",
       " 'afternoon': 127,\n",
       " 'explicit': 2198,\n",
       " 'sleazy': 5614,\n",
       " 'care': 886,\n",
       " 'lousy': 3615,\n",
       " 'perfectly': 4416,\n",
       " 'wretched': 6917,\n",
       " 'value': 6620,\n",
       " 'nonexistent': 4098,\n",
       " 'dumb': 1902,\n",
       " 'aside': 350,\n",
       " 'disgust': 1748,\n",
       " 'cat': 914,\n",
       " 'admittedly': 97,\n",
       " 'ton': 6305,\n",
       " 'loose': 3604,\n",
       " 'exploitation': 2202,\n",
       " 'utter': 6609,\n",
       " 'note': 4117,\n",
       " 'credit': 1406,\n",
       " 'wouldnt': 6906,\n",
       " 'die': 1683,\n",
       " 'brilliant': 755,\n",
       " 'dare': 1501,\n",
       " 'teen': 6160,\n",
       " 'romance': 5205,\n",
       " 'devil': 1663,\n",
       " 'taste': 6135,\n",
       " 'maturity': 3749,\n",
       " 'admiration': 92,\n",
       " 'demonstrate': 1599,\n",
       " 'power': 4606,\n",
       " 'flush': 2414,\n",
       " 'toilet': 6294,\n",
       " 'handful': 2798,\n",
       " 'rich': 5152,\n",
       " 'low': 3621,\n",
       " 'light': 3537,\n",
       " 'stop': 5902,\n",
       " 'enterprise': 2058,\n",
       " 'original': 4241,\n",
       " 'trek': 6386,\n",
       " 'dose': 1831,\n",
       " 'realistic': 4909,\n",
       " 'flaw': 2388,\n",
       " 'personality': 4433,\n",
       " 'generation': 2587,\n",
       " 'tire': 6280,\n",
       " 'noble': 4086,\n",
       " 'unbelievable': 6466,\n",
       " 'subplot': 5976,\n",
       " 'bitter': 609,\n",
       " 'toward': 6332,\n",
       " 'pretentious': 4662,\n",
       " 'snob': 5670,\n",
       " 'forward': 2470,\n",
       " 'race': 4835,\n",
       " 'frame': 2482,\n",
       " 'negative': 4051,\n",
       " 'quick': 4821,\n",
       " 'common': 1178,\n",
       " 'among': 217,\n",
       " 'shameless': 5462,\n",
       " 'dig': 1692,\n",
       " 'sexy': 5447,\n",
       " 'fiction': 2329,\n",
       " 'stand': 5837,\n",
       " 'pad': 4304,\n",
       " 'audience': 407,\n",
       " 'skin': 5595,\n",
       " 'oh': 4194,\n",
       " 'delightful': 1581,\n",
       " 'annual': 255,\n",
       " 'roger': 5200,\n",
       " 'overlook': 4282,\n",
       " 'festival': 2322,\n",
       " 'historic': 2919,\n",
       " 'subtitle': 5983,\n",
       " 'ballroom': 475,\n",
       " 'outside': 4270,\n",
       " 'japan': 3327,\n",
       " 'rigid': 5169,\n",
       " 'employment': 2017,\n",
       " 'recreation': 4945,\n",
       " 'day': 1514,\n",
       " 'custom': 1470,\n",
       " 'name': 4017,\n",
       " 'us': 6599,\n",
       " 'theme': 6215,\n",
       " 'societal': 5683,\n",
       " 'shall': 5457,\n",
       " 'reader': 4903,\n",
       " 'familiar': 2264,\n",
       " 'formal': 2457,\n",
       " 'refer': 4961,\n",
       " 'professional': 4709,\n",
       " 'list': 3564,\n",
       " 'data': 1509,\n",
       " 'aid': 144,\n",
       " 'wife': 6839,\n",
       " 'ballet': 473,\n",
       " 'dancer': 1496,\n",
       " 'motion': 3959,\n",
       " 'picture': 4472,\n",
       " 'father': 2293,\n",
       " 'studio': 5950,\n",
       " 'ambition': 211,\n",
       " 'compete': 1195,\n",
       " 'international': 3262,\n",
       " 'competition': 1198,\n",
       " 'past': 4362,\n",
       " 'veteran': 6658,\n",
       " 'sterling': 5877,\n",
       " 'lovely': 3618,\n",
       " 'teenage': 6161,\n",
       " 'daughter': 1511,\n",
       " 'purchase': 4795,\n",
       " 'inner': 3196,\n",
       " 'happiness': 2810,\n",
       " 'learn': 3488,\n",
       " 'involve': 3295,\n",
       " 'secretly': 5369,\n",
       " 'lesson': 3513,\n",
       " 'liberate': 3524,\n",
       " 'friendly': 2507,\n",
       " ...}"
      ]
     },
     "execution_count": 180,
     "metadata": {},
     "output_type": "execute_result"
    }
   ],
   "source": [
    "tf.vocabulary_"
   ]
  },
  {
   "cell_type": "code",
   "execution_count": 181,
   "id": "tMXnlYfEMFE-",
   "metadata": {
    "colab": {
     "base_uri": "https://localhost:8080/"
    },
    "id": "tMXnlYfEMFE-",
    "outputId": "cc3359d1-bd6c-441d-d3eb-854111cdb767"
   },
   "outputs": [
    {
     "data": {
      "text/plain": [
       "6956"
      ]
     },
     "execution_count": 181,
     "metadata": {},
     "output_type": "execute_result"
    }
   ],
   "source": [
    "len(tf.vocabulary_)"
   ]
  },
  {
   "cell_type": "code",
   "execution_count": 182,
   "id": "fyehIsdGeHdX",
   "metadata": {
    "colab": {
     "base_uri": "https://localhost:8080/"
    },
    "id": "fyehIsdGeHdX",
    "outputId": "27cc5872-dc21-45c4-b504-f634245f5896"
   },
   "outputs": [
    {
     "data": {
      "text/plain": [
       "(22500, 6956)"
      ]
     },
     "execution_count": 182,
     "metadata": {},
     "output_type": "execute_result"
    }
   ],
   "source": [
    "X_train_tf.shape"
   ]
  },
  {
   "cell_type": "code",
   "execution_count": 183,
   "id": "_MW6_kpzx38B",
   "metadata": {
    "id": "_MW6_kpzx38B"
   },
   "outputs": [],
   "source": [
    "tf_full = TfidfVectorizer(max_df=0.99, min_df=0.0009)\n",
    "X_full_train_tf = tf_full.fit_transform(full_train)"
   ]
  },
  {
   "cell_type": "code",
   "execution_count": 184,
   "id": "rapZu177x38C",
   "metadata": {
    "id": "rapZu177x38C"
   },
   "outputs": [],
   "source": [
    "X_test_tf = tf_full.transform(test)"
   ]
  },
  {
   "cell_type": "code",
   "execution_count": 185,
   "id": "_lkMEZqfx38C",
   "metadata": {
    "colab": {
     "base_uri": "https://localhost:8080/"
    },
    "id": "_lkMEZqfx38C",
    "outputId": "d742416c-70dc-4323-dd3c-ac10d990730f"
   },
   "outputs": [
    {
     "data": {
      "text/plain": [
       "7001"
      ]
     },
     "execution_count": 185,
     "metadata": {},
     "output_type": "execute_result"
    }
   ],
   "source": [
    "len(tf_full.vocabulary_)"
   ]
  },
  {
   "cell_type": "markdown",
   "id": "89993766-50a1-49ed-a8d1-f1243c52cd68",
   "metadata": {},
   "source": [
    "# Word Embedding using FastText"
   ]
  },
  {
   "cell_type": "markdown",
   "id": "8e3b21fc-2005-404c-8f3c-28b536bf056e",
   "metadata": {},
   "source": [
    "## Word embedding with fasttext builtin testing"
   ]
  },
  {
   "cell_type": "code",
   "execution_count": null,
   "id": "8fd3d900-eb2b-4a95-806d-dcfe7dd17beb",
   "metadata": {},
   "outputs": [],
   "source": [
    "train_ftwe = []\n",
    "for i in range (len(X_train)):\n",
    "  if y_train[i] == 1:\n",
    "    train_ftwe.append(\"__label__positive \"+X_train[i])\n",
    "  else :\n",
    "    train_ftwe.append(\"__label__negative \"+X_train[i])\n",
    "with open('train_ftwe.txt', 'w') as train:\n",
    "  for review in train_ftwe:\n",
    "    train.write(review + '\\n')"
   ]
  },
  {
   "cell_type": "code",
   "execution_count": null,
   "id": "d04b53fd-c25c-4f36-b0b8-4215f81da948",
   "metadata": {},
   "outputs": [],
   "source": [
    "validation_ftwe = []\n",
    "for i in range (len(X_validation)):\n",
    "  if y_validation[i] == 1:\n",
    "    validation_ftwe.append(\"__label__positive \"+X_validation[i])\n",
    "  else :\n",
    "    validation_ftwe.append(\"__label__negative \"+X_validation[i])\n",
    "with open('validation_ftwe.txt', 'w') as validation:\n",
    "  for review in validation_ftwe:\n",
    "    validation.write(review + '\\n')"
   ]
  },
  {
   "cell_type": "code",
   "execution_count": null,
   "id": "a654f28a-7c09-4ead-84fa-09e44bf2f886",
   "metadata": {},
   "outputs": [],
   "source": [
    "test_ftwe = []\n",
    "for i in range (len(test)):\n",
    "  if y_test[i] == 1:\n",
    "    test_ftwe.append(\"__label__positive \"+test[i])\n",
    "  else :\n",
    "    test_ftwe.append(\"__label__negative \"+test[i])\n",
    "with open('test_ftwe.txt', 'w') as test:\n",
    "  for review in test_ftwe:\n",
    "    test.write(review + '\\n')"
   ]
  },
  {
   "cell_type": "code",
   "execution_count": null,
   "id": "7a8eb06b-a08e-4910-901f-9cf276b5fb4c",
   "metadata": {},
   "outputs": [],
   "source": [
    "!wget https://github.com/facebookresearch/fastText/archive/v0.9.2.zip"
   ]
  },
  {
   "cell_type": "code",
   "execution_count": null,
   "id": "58df382d-ae14-4123-9068-a4f00d46d1e1",
   "metadata": {},
   "outputs": [],
   "source": [
    "!unzip v0.9.2.zip"
   ]
  },
  {
   "cell_type": "code",
   "execution_count": null,
   "id": "9e76eb07-8c95-4f84-a7f3-ebaf33941ccb",
   "metadata": {},
   "outputs": [],
   "source": [
    "cd fastText-0.9.2"
   ]
  },
  {
   "cell_type": "code",
   "execution_count": null,
   "id": "36a7ec83-c399-4c5e-b48c-4b6616368dc3",
   "metadata": {},
   "outputs": [],
   "source": [
    "!pip install ."
   ]
  },
  {
   "cell_type": "code",
   "execution_count": null,
   "id": "480b7ec0-b614-41f2-a1d0-d983d52532f7",
   "metadata": {},
   "outputs": [],
   "source": [
    "ftwe_model = fasttext.train_supervised(input=\"/content/train_ftwe.txt\", epoch =5, lr=0.1, wordNgrams=2)"
   ]
  },
  {
   "cell_type": "code",
   "execution_count": null,
   "id": "9a4cf255-42d1-45f7-a5b1-c1aba01602db",
   "metadata": {},
   "outputs": [],
   "source": [
    "ftwe_model.test(\"/content/validation_ftwe.txt\")"
   ]
  },
  {
   "cell_type": "code",
   "execution_count": null,
   "id": "cb70fe39-d0c6-41ae-af26-a99addaaa7a1",
   "metadata": {},
   "outputs": [],
   "source": [
    "ftwe_model.test(\"/content/test_ftwe.txt\")"
   ]
  },
  {
   "cell_type": "markdown",
   "id": "c5a0e37f-0b68-4b4e-b15b-3e4ceb4ec134",
   "metadata": {},
   "source": [
    "## Word embedding for classification"
   ]
  },
  {
   "cell_type": "code",
   "execution_count": null,
   "id": "973f8da0-08c1-4cad-895b-e47aae432d97",
   "metadata": {},
   "outputs": [],
   "source": [
    "ftwe = FastText(size=300, window=10, min_count=5, sample = 0.001)\n",
    "X_train_tokenized = []\n",
    "for i in range (len(X_train)):\n",
    "  X_train_tokenized.append(word_tokenize(X_train[i]))\n",
    "\n",
    "ftwe.build_vocab(sentences = X_train_tokenized)\n",
    "ftwe.train(sentences = X_train_tokenized, total_examples=len(X_train_tokenized), epochs = 10)"
   ]
  },
  {
   "cell_type": "code",
   "execution_count": null,
   "id": "4a84a06e-ce99-4aac-abbb-64af7d98863a",
   "metadata": {},
   "outputs": [],
   "source": [
    "len(ftwe.wv.vocab)"
   ]
  },
  {
   "cell_type": "code",
   "execution_count": null,
   "id": "00dd1a7e-608c-4d2d-b171-9c500e003ec2",
   "metadata": {},
   "outputs": [],
   "source": [
    "X_train_ftwe = np.zeros((len(X_train_tokenized), 300))\n",
    "for i,s in enumerate(X_train_tokenized):\n",
    "  for w in s:\n",
    "    try:\n",
    "      vec = ftwe[w]\n",
    "    except KeyError:\n",
    "      continue\n",
    "    X_train_ftwe[i,:] = X_train_ftwe[i,:] + vec\n",
    "  X_train_ftwe[i,:] = X_train_ftwe[i,:] / len(s)"
   ]
  },
  {
   "cell_type": "code",
   "execution_count": null,
   "id": "9a5a5b2a-0009-4416-b6f7-da54bbe98d05",
   "metadata": {},
   "outputs": [],
   "source": [
    "X_validation_tokenized = []\n",
    "for i in range (len(X_validation)):\n",
    "  X_validation_tokenized.append(word_tokenize(X_validation[i]))\n",
    "\n",
    "X_validation_ftwe = np.zeros((len(X_validation_tokenized), 300))\n",
    "for i,s in enumerate(X_validation_tokenized):\n",
    "  for w in s:\n",
    "    try:\n",
    "      vec = ftwe[w]\n",
    "    except KeyError:\n",
    "      continue\n",
    "    X_validation_ftwe[i,:] = X_validation_ftwe[i,:] + vec\n",
    "  X_validation_ftwe[i,:] = X_validation_ftwe[i,:] / len(s)"
   ]
  },
  {
   "cell_type": "code",
   "execution_count": null,
   "id": "5b825b56-7c5f-4d86-a873-bf9c331965fe",
   "metadata": {},
   "outputs": [],
   "source": [
    "X_test_tokenized = []\n",
    "for i in range (len(test)):\n",
    "  X_test_tokenized.append(word_tokenize(test[i]))\n",
    "\n",
    "X_test_ftwe = np.zeros((len(X_test_tokenized), 300))\n",
    "for i,s in enumerate(X_test_tokenized):\n",
    "  for w in s:\n",
    "    try:\n",
    "      vec = ftwe[w]\n",
    "    except KeyError:\n",
    "      continue\n",
    "    X_test_ftwe[i,:] = X_test_ftwe[i,:] + vec\n",
    "  X_test_ftwe[i,:] = X_test_ftwe[i,:] / len(s)"
   ]
  },
  {
   "cell_type": "markdown",
   "id": "d9153740-b58b-4014-849b-1ab87ada971c",
   "metadata": {},
   "source": [
    "## Parameter Tunning"
   ]
  },
  {
   "cell_type": "code",
   "execution_count": null,
   "id": "cc61ac35-ea51-48af-bc9c-02946a5719ac",
   "metadata": {},
   "outputs": [],
   "source": [
    "for i in range (1,51):\n",
    "  ftwe_model = fasttext.train_supervised(input=\"/content/train_ftwe.txt\", epoch =i)\n",
    "  print(i, ftwe_model.test(\"/content/validation_ftwe.txt\"), ftwe_model.test(\"/content/test_ftwe.txt\"))"
   ]
  },
  {
   "cell_type": "code",
   "execution_count": null,
   "id": "c211b7f3-5f30-4ef7-b626-4945d56f521d",
   "metadata": {},
   "outputs": [],
   "source": [
    "for i in range (1,11):\n",
    "  ftwe_model = fasttext.train_supervised(input=\"/content/train_ftwe.txt\", lr=i/10)\n",
    "  print(i, ftwe_model.test(\"/content/validation_ftwe.txt\"), ftwe_model.test(\"/content/test_ftwe.txt\"))"
   ]
  },
  {
   "cell_type": "code",
   "execution_count": null,
   "id": "572094ad-9bc3-4868-b2d5-f0c2d1b6726c",
   "metadata": {},
   "outputs": [],
   "source": [
    "for i in range (1,6):\n",
    "  ftwe_model = fasttext.train_supervised(input=\"/content/train_ftwe.txt\", wordNgrams=i)\n",
    "  print(i, ftwe_model.test(\"/content/validation_ftwe.txt\"), ftwe_model.test(\"/content/test_ftwe.txt\"))"
   ]
  },
  {
   "cell_type": "markdown",
   "id": "dfd28458",
   "metadata": {
    "id": "dfd28458"
   },
   "source": [
    "# Training"
   ]
  },
  {
   "cell_type": "markdown",
   "id": "c0677f49",
   "metadata": {
    "id": "c0677f49"
   },
   "source": [
    "> # KNN"
   ]
  },
  {
   "cell_type": "markdown",
   "id": "3b90caca",
   "metadata": {
    "id": "3b90caca"
   },
   "source": [
    ">># A quick prototype"
   ]
  },
  {
   "cell_type": "code",
   "execution_count": 233,
   "id": "S6Q9fc9QgQJ5",
   "metadata": {
    "id": "S6Q9fc9QgQJ5"
   },
   "outputs": [],
   "source": [
    "def KNN_proto(train, y_train, validation, y_validation):\n",
    "    KNN_classifier = KNeighborsClassifier(n_neighbors=3, algorithm='auto')\n",
    "    KNN_classifier.fit(train, y_train)\n",
    "    y_predicted_train = KNN_classifier.predict_proba(train)[:,1]\n",
    "    y_predicted_validate = KNN_classifier.predict_proba(validation)[:,1]\n",
    "    train_acc = accuracy_score(y_train, (y_predicted_train >= 0.5))\n",
    "    validation_acc = accuracy_score(y_validation, (y_predicted_validate >= 0.5))\n",
    "    return {'train_acc': train_acc, 'test_acc': validation_acc}"
   ]
  },
  {
   "cell_type": "code",
   "execution_count": 187,
   "id": "gcNYBPG_hEMI",
   "metadata": {
    "colab": {
     "base_uri": "https://localhost:8080/"
    },
    "id": "gcNYBPG_hEMI",
    "outputId": "6cfd0760-4796-412d-e31f-1efe4fb8e12e"
   },
   "outputs": [
    {
     "data": {
      "text/plain": [
       "{'train': 0.8161333333333334, 'validation': 0.6348}"
      ]
     },
     "execution_count": 187,
     "metadata": {},
     "output_type": "execute_result"
    }
   ],
   "source": [
    "KNN_proto(X_train_bow, y_train, X_validation_bow, y_validation)"
   ]
  },
  {
   "cell_type": "code",
   "execution_count": 188,
   "id": "ipD43hcthZjv",
   "metadata": {
    "colab": {
     "base_uri": "https://localhost:8080/"
    },
    "id": "ipD43hcthZjv",
    "outputId": "f6050dab-4729-4876-e976-203ad9bae723"
   },
   "outputs": [
    {
     "data": {
      "text/plain": [
       "{'train': 0.8680444444444444, 'validation': 0.7548}"
      ]
     },
     "execution_count": 188,
     "metadata": {},
     "output_type": "execute_result"
    }
   ],
   "source": [
    "KNN_proto(X_train_tf, y_train, X_validation_tf, y_validation)"
   ]
  },
  {
   "cell_type": "markdown",
   "id": "7ebc82ca",
   "metadata": {
    "id": "7ebc82ca"
   },
   "source": [
    "##### The previous prototype gives a really bad overfitting"
   ]
  },
  {
   "cell_type": "markdown",
   "id": "57af2d82",
   "metadata": {
    "id": "57af2d82"
   },
   "source": [
    ">> # Parameter Tunning"
   ]
  },
  {
   "cell_type": "markdown",
   "id": "tMR2qhe64rOC",
   "metadata": {
    "id": "tMR2qhe64rOC"
   },
   "source": [
    ">>> # n_neighbours"
   ]
  },
  {
   "cell_type": "code",
   "execution_count": 30,
   "id": "-KQhAy7hsu4y",
   "metadata": {
    "id": "-KQhAy7hsu4y"
   },
   "outputs": [],
   "source": [
    "para_tunning = {\n",
    "    'n_neighbors': [int(x) for x in np.linspace(start = 100, stop = 200, num = 20)],\n",
    "    'p': [1, 2, 3, 4, 5]\n",
    "}"
   ]
  },
  {
   "cell_type": "code",
   "execution_count": 30,
   "id": "qq2nnkYlpbsM",
   "metadata": {
    "id": "qq2nnkYlpbsM"
   },
   "outputs": [],
   "source": [
    "# tunning number of neighbours\n",
    "\n",
    "def optmizer(train, y_train, validation, y_validation):\n",
    "    accuracy_n_neighbor_based = []\n",
    "    for n_neighbor in tqdm(para_tunning['n_neighbors']):\n",
    "        KNN_classifier = KNeighborsClassifier(n_neighbors=n_neighbor)\n",
    "        KNN_classifier.fit(train, y_train)\n",
    "        y_predicted_train = KNN_classifier.predict_proba(train)[:,1]\n",
    "        y_predicted_validate = KNN_classifier.predict_proba(validation)[:,1]\n",
    "        train_acc = accuracy_score(y_train, (y_predicted_train >= 0.5))\n",
    "        validation_acc = accuracy_score(y_validation, (y_predicted_validate >= 0.5))\n",
    "        accuracy_n_neighbor_based.append((train_acc, validation_acc))\n",
    "    return accuracy_n_neighbor_based"
   ]
  },
  {
   "cell_type": "code",
   "execution_count": 31,
   "id": "L_vIgtnByFdV",
   "metadata": {
    "colab": {
     "base_uri": "https://localhost:8080/",
     "height": 49,
     "referenced_widgets": [
      "14f3c42a92b04b5f8e8d00152c28131f",
      "2237da4e34e1471099d9ede55c391313",
      "6a7a029a1898423197c5fc7e48848584",
      "c8fc40e5cbf649c8953c7ca1ecea1a84",
      "fe3935203e854ca086fe91681a1ee25b",
      "ee4de82cbb3742758643a1dfc3173a92",
      "a04ac183f5cf42a991c1ed9a630a401c",
      "fec06b4e7e824b72a5fbc3df94f5060a",
      "e52080ed085c4f56b0205f53880fdae1",
      "c601c1cb85c644efb77b05d4fc496800",
      "ce1ab6bd8d844d9d868e38f11397d76f"
     ]
    },
    "id": "L_vIgtnByFdV",
    "outputId": "22c9808b-ec24-4c94-8db0-de04d1e06856"
   },
   "outputs": [
    {
     "data": {
      "application/vnd.jupyter.widget-view+json": {
       "model_id": "e0b9727971274d6498b3976fd3538e99",
       "version_major": 2,
       "version_minor": 0
      },
      "text/plain": [
       "  0%|          | 0/20 [00:00<?, ?it/s]"
      ]
     },
     "metadata": {},
     "output_type": "display_data"
    }
   ],
   "source": [
    "knn_bow_optmizer = optmizer(X_train_bow, y_train, X_validation_bow, y_validation)"
   ]
  },
  {
   "cell_type": "code",
   "execution_count": 32,
   "id": "q2yB09nRxUnh",
   "metadata": {
    "colab": {
     "base_uri": "https://localhost:8080/",
     "height": 677
    },
    "id": "q2yB09nRxUnh",
    "outputId": "a741c538-5bb5-4d47-d746-95f733e0b52e"
   },
   "outputs": [
    {
     "data": {
      "text/html": [
       "<div>\n",
       "<style scoped>\n",
       "    .dataframe tbody tr th:only-of-type {\n",
       "        vertical-align: middle;\n",
       "    }\n",
       "\n",
       "    .dataframe tbody tr th {\n",
       "        vertical-align: top;\n",
       "    }\n",
       "\n",
       "    .dataframe thead th {\n",
       "        text-align: right;\n",
       "    }\n",
       "</style>\n",
       "<table border=\"1\" class=\"dataframe\">\n",
       "  <thead>\n",
       "    <tr style=\"text-align: right;\">\n",
       "      <th></th>\n",
       "      <th>n_neighbours</th>\n",
       "      <th>train_acc</th>\n",
       "      <th>validation_acc</th>\n",
       "    </tr>\n",
       "  </thead>\n",
       "  <tbody>\n",
       "    <tr>\n",
       "      <th>0</th>\n",
       "      <td>100</td>\n",
       "      <td>0.680444</td>\n",
       "      <td>0.6724</td>\n",
       "    </tr>\n",
       "    <tr>\n",
       "      <th>1</th>\n",
       "      <td>105</td>\n",
       "      <td>0.683867</td>\n",
       "      <td>0.6768</td>\n",
       "    </tr>\n",
       "    <tr>\n",
       "      <th>2</th>\n",
       "      <td>110</td>\n",
       "      <td>0.676711</td>\n",
       "      <td>0.6696</td>\n",
       "    </tr>\n",
       "    <tr>\n",
       "      <th>3</th>\n",
       "      <td>115</td>\n",
       "      <td>0.679244</td>\n",
       "      <td>0.6740</td>\n",
       "    </tr>\n",
       "    <tr>\n",
       "      <th>4</th>\n",
       "      <td>121</td>\n",
       "      <td>0.676933</td>\n",
       "      <td>0.6672</td>\n",
       "    </tr>\n",
       "    <tr>\n",
       "      <th>5</th>\n",
       "      <td>126</td>\n",
       "      <td>0.670089</td>\n",
       "      <td>0.6620</td>\n",
       "    </tr>\n",
       "    <tr>\n",
       "      <th>6</th>\n",
       "      <td>131</td>\n",
       "      <td>0.673511</td>\n",
       "      <td>0.6692</td>\n",
       "    </tr>\n",
       "    <tr>\n",
       "      <th>7</th>\n",
       "      <td>136</td>\n",
       "      <td>0.666400</td>\n",
       "      <td>0.6580</td>\n",
       "    </tr>\n",
       "    <tr>\n",
       "      <th>8</th>\n",
       "      <td>142</td>\n",
       "      <td>0.663600</td>\n",
       "      <td>0.6600</td>\n",
       "    </tr>\n",
       "    <tr>\n",
       "      <th>9</th>\n",
       "      <td>147</td>\n",
       "      <td>0.666889</td>\n",
       "      <td>0.6596</td>\n",
       "    </tr>\n",
       "    <tr>\n",
       "      <th>10</th>\n",
       "      <td>152</td>\n",
       "      <td>0.662222</td>\n",
       "      <td>0.6576</td>\n",
       "    </tr>\n",
       "    <tr>\n",
       "      <th>11</th>\n",
       "      <td>157</td>\n",
       "      <td>0.663867</td>\n",
       "      <td>0.6616</td>\n",
       "    </tr>\n",
       "    <tr>\n",
       "      <th>12</th>\n",
       "      <td>163</td>\n",
       "      <td>0.663644</td>\n",
       "      <td>0.6596</td>\n",
       "    </tr>\n",
       "    <tr>\n",
       "      <th>13</th>\n",
       "      <td>168</td>\n",
       "      <td>0.658489</td>\n",
       "      <td>0.6544</td>\n",
       "    </tr>\n",
       "    <tr>\n",
       "      <th>14</th>\n",
       "      <td>173</td>\n",
       "      <td>0.661956</td>\n",
       "      <td>0.6568</td>\n",
       "    </tr>\n",
       "    <tr>\n",
       "      <th>15</th>\n",
       "      <td>178</td>\n",
       "      <td>0.656933</td>\n",
       "      <td>0.6528</td>\n",
       "    </tr>\n",
       "    <tr>\n",
       "      <th>16</th>\n",
       "      <td>184</td>\n",
       "      <td>0.655067</td>\n",
       "      <td>0.6532</td>\n",
       "    </tr>\n",
       "    <tr>\n",
       "      <th>17</th>\n",
       "      <td>189</td>\n",
       "      <td>0.656711</td>\n",
       "      <td>0.6492</td>\n",
       "    </tr>\n",
       "    <tr>\n",
       "      <th>18</th>\n",
       "      <td>194</td>\n",
       "      <td>0.652178</td>\n",
       "      <td>0.6496</td>\n",
       "    </tr>\n",
       "    <tr>\n",
       "      <th>19</th>\n",
       "      <td>200</td>\n",
       "      <td>0.650578</td>\n",
       "      <td>0.6460</td>\n",
       "    </tr>\n",
       "  </tbody>\n",
       "</table>\n",
       "</div>"
      ],
      "text/plain": [
       "    n_neighbours  train_acc  validation_acc\n",
       "0            100   0.680444          0.6724\n",
       "1            105   0.683867          0.6768\n",
       "2            110   0.676711          0.6696\n",
       "3            115   0.679244          0.6740\n",
       "4            121   0.676933          0.6672\n",
       "5            126   0.670089          0.6620\n",
       "6            131   0.673511          0.6692\n",
       "7            136   0.666400          0.6580\n",
       "8            142   0.663600          0.6600\n",
       "9            147   0.666889          0.6596\n",
       "10           152   0.662222          0.6576\n",
       "11           157   0.663867          0.6616\n",
       "12           163   0.663644          0.6596\n",
       "13           168   0.658489          0.6544\n",
       "14           173   0.661956          0.6568\n",
       "15           178   0.656933          0.6528\n",
       "16           184   0.655067          0.6532\n",
       "17           189   0.656711          0.6492\n",
       "18           194   0.652178          0.6496\n",
       "19           200   0.650578          0.6460"
      ]
     },
     "execution_count": 32,
     "metadata": {},
     "output_type": "execute_result"
    }
   ],
   "source": [
    "bow_data = {\n",
    "    'n_neighbours': para_tunning['n_neighbors'],\n",
    "    'train_acc': [train_acc[0] for train_acc in knn_bow_optmizer],\n",
    "    'validation_acc': [train_acc[1] for train_acc in knn_bow_optmizer]\n",
    "}\n",
    "bow_optization_n_neighbour_based = pd.DataFrame(bow_data)\n",
    "bow_optization_n_neighbour_based"
   ]
  },
  {
   "cell_type": "code",
   "execution_count": 33,
   "id": "jpToXtgCvgB1",
   "metadata": {
    "colab": {
     "base_uri": "https://localhost:8080/",
     "height": 282
    },
    "id": "jpToXtgCvgB1",
    "outputId": "7409d965-84d5-42fb-cad0-1fbea81a4b88"
   },
   "outputs": [
    {
     "data": {
      "text/plain": [
       "[<matplotlib.lines.Line2D at 0x7f89611a8e90>]"
      ]
     },
     "execution_count": 33,
     "metadata": {},
     "output_type": "execute_result"
    },
    {
     "data": {
      "image/png": "[encoded data removed]",
      "text/plain": [
       "<Figure size 432x288 with 1 Axes>"
      ]
     },
     "metadata": {
      "needs_background": "light"
     },
     "output_type": "display_data"
    }
   ],
   "source": [
    "plt.plot(bow_optization_n_neighbour_based.n_neighbours, bow_optization_n_neighbour_based.train_acc)\n",
    "plt.plot(bow_optization_n_neighbour_based.n_neighbours, bow_optization_n_neighbour_based.validation_acc)"
   ]
  },
  {
   "cell_type": "code",
   "execution_count": 34,
   "id": "L73RjSygyQZ8",
   "metadata": {
    "colab": {
     "base_uri": "https://localhost:8080/",
     "height": 49,
     "referenced_widgets": [
      "c5ab7499460a45959325470d31408df6",
      "f2bd56caecbe4beea2354e44664d8ffd",
      "494f6b5f6e914dbbb6b29d13d48ffee8",
      "200db1b778e2438f8a0cd792cb261c3a",
      "e915cb91596d40c79c9a3faa31f89c0b",
      "c89e30a5323a4b0d9b888d7608e062e4",
      "38244c3e91164b269e4c85b65bd1e6f2",
      "fe6e70e0a0cd44fc8777b9430861ea27",
      "5130dd3dd96b462e86423572aabe1a40",
      "e98a605d7ac84ab697cd84294bfbed20",
      "d1c6114f3a434f3f9a0d02780760ac59"
     ]
    },
    "id": "L73RjSygyQZ8",
    "outputId": "de6509b7-f98d-4d96-899d-0ced230b0d78"
   },
   "outputs": [
    {
     "data": {
      "application/vnd.jupyter.widget-view+json": {
       "model_id": "f3a50dabe5bd4cd6a8c8e59dffe47fc3",
       "version_major": 2,
       "version_minor": 0
      },
      "text/plain": [
       "  0%|          | 0/20 [00:00<?, ?it/s]"
      ]
     },
     "metadata": {},
     "output_type": "display_data"
    }
   ],
   "source": [
    "knn_tf_optmizer = optmizer(X_train_tf, y_train, X_validation_tf, y_validation)"
   ]
  },
  {
   "cell_type": "code",
   "execution_count": 35,
   "id": "l309OcWr0hyj",
   "metadata": {
    "colab": {
     "base_uri": "https://localhost:8080/",
     "height": 677
    },
    "id": "l309OcWr0hyj",
    "outputId": "9f6f09ad-ead5-45ff-fca0-a50dfddcf032"
   },
   "outputs": [
    {
     "data": {
      "text/html": [
       "<div>\n",
       "<style scoped>\n",
       "    .dataframe tbody tr th:only-of-type {\n",
       "        vertical-align: middle;\n",
       "    }\n",
       "\n",
       "    .dataframe tbody tr th {\n",
       "        vertical-align: top;\n",
       "    }\n",
       "\n",
       "    .dataframe thead th {\n",
       "        text-align: right;\n",
       "    }\n",
       "</style>\n",
       "<table border=\"1\" class=\"dataframe\">\n",
       "  <thead>\n",
       "    <tr style=\"text-align: right;\">\n",
       "      <th></th>\n",
       "      <th>n_neighbours</th>\n",
       "      <th>train_acc</th>\n",
       "      <th>validation_acc</th>\n",
       "    </tr>\n",
       "  </thead>\n",
       "  <tbody>\n",
       "    <tr>\n",
       "      <th>0</th>\n",
       "      <td>100</td>\n",
       "      <td>0.818356</td>\n",
       "      <td>0.8124</td>\n",
       "    </tr>\n",
       "    <tr>\n",
       "      <th>1</th>\n",
       "      <td>105</td>\n",
       "      <td>0.819467</td>\n",
       "      <td>0.8108</td>\n",
       "    </tr>\n",
       "    <tr>\n",
       "      <th>2</th>\n",
       "      <td>110</td>\n",
       "      <td>0.820133</td>\n",
       "      <td>0.8156</td>\n",
       "    </tr>\n",
       "    <tr>\n",
       "      <th>3</th>\n",
       "      <td>115</td>\n",
       "      <td>0.820667</td>\n",
       "      <td>0.8148</td>\n",
       "    </tr>\n",
       "    <tr>\n",
       "      <th>4</th>\n",
       "      <td>121</td>\n",
       "      <td>0.819778</td>\n",
       "      <td>0.8136</td>\n",
       "    </tr>\n",
       "    <tr>\n",
       "      <th>5</th>\n",
       "      <td>126</td>\n",
       "      <td>0.820133</td>\n",
       "      <td>0.8144</td>\n",
       "    </tr>\n",
       "    <tr>\n",
       "      <th>6</th>\n",
       "      <td>131</td>\n",
       "      <td>0.820000</td>\n",
       "      <td>0.8136</td>\n",
       "    </tr>\n",
       "    <tr>\n",
       "      <th>7</th>\n",
       "      <td>136</td>\n",
       "      <td>0.820311</td>\n",
       "      <td>0.8148</td>\n",
       "    </tr>\n",
       "    <tr>\n",
       "      <th>8</th>\n",
       "      <td>142</td>\n",
       "      <td>0.820756</td>\n",
       "      <td>0.8156</td>\n",
       "    </tr>\n",
       "    <tr>\n",
       "      <th>9</th>\n",
       "      <td>147</td>\n",
       "      <td>0.821022</td>\n",
       "      <td>0.8132</td>\n",
       "    </tr>\n",
       "    <tr>\n",
       "      <th>10</th>\n",
       "      <td>152</td>\n",
       "      <td>0.820889</td>\n",
       "      <td>0.8144</td>\n",
       "    </tr>\n",
       "    <tr>\n",
       "      <th>11</th>\n",
       "      <td>157</td>\n",
       "      <td>0.820978</td>\n",
       "      <td>0.8116</td>\n",
       "    </tr>\n",
       "    <tr>\n",
       "      <th>12</th>\n",
       "      <td>163</td>\n",
       "      <td>0.820889</td>\n",
       "      <td>0.8140</td>\n",
       "    </tr>\n",
       "    <tr>\n",
       "      <th>13</th>\n",
       "      <td>168</td>\n",
       "      <td>0.820489</td>\n",
       "      <td>0.8160</td>\n",
       "    </tr>\n",
       "    <tr>\n",
       "      <th>14</th>\n",
       "      <td>173</td>\n",
       "      <td>0.820978</td>\n",
       "      <td>0.8128</td>\n",
       "    </tr>\n",
       "    <tr>\n",
       "      <th>15</th>\n",
       "      <td>178</td>\n",
       "      <td>0.820756</td>\n",
       "      <td>0.8132</td>\n",
       "    </tr>\n",
       "    <tr>\n",
       "      <th>16</th>\n",
       "      <td>184</td>\n",
       "      <td>0.820000</td>\n",
       "      <td>0.8136</td>\n",
       "    </tr>\n",
       "    <tr>\n",
       "      <th>17</th>\n",
       "      <td>189</td>\n",
       "      <td>0.821156</td>\n",
       "      <td>0.8108</td>\n",
       "    </tr>\n",
       "    <tr>\n",
       "      <th>18</th>\n",
       "      <td>194</td>\n",
       "      <td>0.820667</td>\n",
       "      <td>0.8124</td>\n",
       "    </tr>\n",
       "    <tr>\n",
       "      <th>19</th>\n",
       "      <td>200</td>\n",
       "      <td>0.820667</td>\n",
       "      <td>0.8136</td>\n",
       "    </tr>\n",
       "  </tbody>\n",
       "</table>\n",
       "</div>"
      ],
      "text/plain": [
       "    n_neighbours  train_acc  validation_acc\n",
       "0            100   0.818356          0.8124\n",
       "1            105   0.819467          0.8108\n",
       "2            110   0.820133          0.8156\n",
       "3            115   0.820667          0.8148\n",
       "4            121   0.819778          0.8136\n",
       "5            126   0.820133          0.8144\n",
       "6            131   0.820000          0.8136\n",
       "7            136   0.820311          0.8148\n",
       "8            142   0.820756          0.8156\n",
       "9            147   0.821022          0.8132\n",
       "10           152   0.820889          0.8144\n",
       "11           157   0.820978          0.8116\n",
       "12           163   0.820889          0.8140\n",
       "13           168   0.820489          0.8160\n",
       "14           173   0.820978          0.8128\n",
       "15           178   0.820756          0.8132\n",
       "16           184   0.820000          0.8136\n",
       "17           189   0.821156          0.8108\n",
       "18           194   0.820667          0.8124\n",
       "19           200   0.820667          0.8136"
      ]
     },
     "execution_count": 35,
     "metadata": {},
     "output_type": "execute_result"
    }
   ],
   "source": [
    "tf_data = {\n",
    "    'n_neighbours': para_tunning['n_neighbors'],\n",
    "    'train_acc': [acc[0] for acc in knn_tf_optmizer],\n",
    "    'validation_acc': [acc[1] for acc in knn_tf_optmizer]\n",
    "}\n",
    "tf_optization_n_neighbour_based = pd.DataFrame(tf_data)\n",
    "tf_optization_n_neighbour_based"
   ]
  },
  {
   "cell_type": "code",
   "execution_count": 36,
   "id": "ZRhwBbUV0omw",
   "metadata": {
    "colab": {
     "base_uri": "https://localhost:8080/",
     "height": 282
    },
    "id": "ZRhwBbUV0omw",
    "outputId": "d45362d9-141b-4c12-ad81-59b2fed58b07"
   },
   "outputs": [
    {
     "data": {
      "text/plain": [
       "[<matplotlib.lines.Line2D at 0x7f8960b89f50>]"
      ]
     },
     "execution_count": 36,
     "metadata": {},
     "output_type": "execute_result"
    },
    {
     "data": {
      "image/png": "[encoded data removed]",
      "text/plain": [
       "<Figure size 432x288 with 1 Axes>"
      ]
     },
     "metadata": {
      "needs_background": "light"
     },
     "output_type": "display_data"
    }
   ],
   "source": [
    "plt.plot(tf_optization_n_neighbour_based.n_neighbours, tf_optization_n_neighbour_based.train_acc)\n",
    "plt.plot(tf_optization_n_neighbour_based.n_neighbours, tf_optization_n_neighbour_based.validation_acc)"
   ]
  },
  {
   "cell_type": "code",
   "execution_count": 37,
   "id": "-cQMXlJ76EkY",
   "metadata": {
    "colab": {
     "base_uri": "https://localhost:8080/",
     "height": 270
    },
    "id": "-cQMXlJ76EkY",
    "outputId": "c4e41c85-4ae9-4df1-dc01-87acf8054025"
   },
   "outputs": [
    {
     "data": {
      "text/html": [
       "<div>\n",
       "<style scoped>\n",
       "    .dataframe tbody tr th:only-of-type {\n",
       "        vertical-align: middle;\n",
       "    }\n",
       "\n",
       "    .dataframe tbody tr th {\n",
       "        vertical-align: top;\n",
       "    }\n",
       "\n",
       "    .dataframe thead th {\n",
       "        text-align: right;\n",
       "    }\n",
       "</style>\n",
       "<table border=\"1\" class=\"dataframe\">\n",
       "  <thead>\n",
       "    <tr style=\"text-align: right;\">\n",
       "      <th></th>\n",
       "      <th>n_neighbours</th>\n",
       "      <th>train_acc</th>\n",
       "      <th>validation_acc</th>\n",
       "    </tr>\n",
       "  </thead>\n",
       "  <tbody>\n",
       "    <tr>\n",
       "      <th>0</th>\n",
       "      <td>105</td>\n",
       "      <td>0.683867</td>\n",
       "      <td>0.6768</td>\n",
       "    </tr>\n",
       "    <tr>\n",
       "      <th>1</th>\n",
       "      <td>100</td>\n",
       "      <td>0.680444</td>\n",
       "      <td>0.6724</td>\n",
       "    </tr>\n",
       "    <tr>\n",
       "      <th>2</th>\n",
       "      <td>115</td>\n",
       "      <td>0.679244</td>\n",
       "      <td>0.6740</td>\n",
       "    </tr>\n",
       "  </tbody>\n",
       "</table>\n",
       "</div>"
      ],
      "text/plain": [
       "   n_neighbours  train_acc  validation_acc\n",
       "0           105   0.683867          0.6768\n",
       "1           100   0.680444          0.6724\n",
       "2           115   0.679244          0.6740"
      ]
     },
     "metadata": {},
     "output_type": "display_data"
    },
    {
     "data": {
      "text/html": [
       "<div>\n",
       "<style scoped>\n",
       "    .dataframe tbody tr th:only-of-type {\n",
       "        vertical-align: middle;\n",
       "    }\n",
       "\n",
       "    .dataframe tbody tr th {\n",
       "        vertical-align: top;\n",
       "    }\n",
       "\n",
       "    .dataframe thead th {\n",
       "        text-align: right;\n",
       "    }\n",
       "</style>\n",
       "<table border=\"1\" class=\"dataframe\">\n",
       "  <thead>\n",
       "    <tr style=\"text-align: right;\">\n",
       "      <th></th>\n",
       "      <th>n_neighbours</th>\n",
       "      <th>train_acc</th>\n",
       "      <th>validation_acc</th>\n",
       "    </tr>\n",
       "  </thead>\n",
       "  <tbody>\n",
       "    <tr>\n",
       "      <th>0</th>\n",
       "      <td>189</td>\n",
       "      <td>0.821156</td>\n",
       "      <td>0.8108</td>\n",
       "    </tr>\n",
       "    <tr>\n",
       "      <th>1</th>\n",
       "      <td>147</td>\n",
       "      <td>0.821022</td>\n",
       "      <td>0.8132</td>\n",
       "    </tr>\n",
       "    <tr>\n",
       "      <th>2</th>\n",
       "      <td>173</td>\n",
       "      <td>0.820978</td>\n",
       "      <td>0.8128</td>\n",
       "    </tr>\n",
       "  </tbody>\n",
       "</table>\n",
       "</div>"
      ],
      "text/plain": [
       "   n_neighbours  train_acc  validation_acc\n",
       "0           189   0.821156          0.8108\n",
       "1           147   0.821022          0.8132\n",
       "2           173   0.820978          0.8128"
      ]
     },
     "metadata": {},
     "output_type": "display_data"
    }
   ],
   "source": [
    "# Summery\n",
    "\n",
    "best3_bow_based_n_neighbors = bow_optization_n_neighbour_based.sort_values(by=['train_acc', 'validation_acc'], ascending=False)[:3].reset_index(drop=True)\n",
    "best3_tf_based_n_neighbors = tf_optization_n_neighbour_based.sort_values(by=['train_acc', 'validation_acc'], ascending=False)[:3].reset_index(drop=True)\n",
    "display(best3_bow_based_n_neighbors)\n",
    "display(best3_tf_based_n_neighbors)"
   ]
  },
  {
   "cell_type": "markdown",
   "id": "BCbRKSHe8DJV",
   "metadata": {},
   "source": [
    "##### No optmization at all, really bad model ?\n",
    "> No, It's actually the curse of dimentionality, we have 713 features which is too large for using a distance based ML algorithm."
   ]
  },
  {
   "cell_type": "markdown",
   "id": "Zez8C5z78NtY",
   "metadata": {
    "id": "Zez8C5z78NtY"
   },
   "source": [
    ">> # Fitting with tuned hyperparameters"
   ]
  },
  {
   "cell_type": "code",
   "execution_count": 135,
   "id": "d528e991-3b35-4526-8b32-052d75c008b6",
   "metadata": {},
   "outputs": [],
   "source": [
    "def KNN_final(train, y_train, validation, y_validation, n_neigh):\n",
    "    KNN_classifier = KNeighborsClassifier(n_neighbors=n_neigh, algorithm='auto')\n",
    "    KNN_classifier.fit(train, y_train)\n",
    "    y_predicted_train = KNN_classifier.predict_proba(train)[:,1]\n",
    "    y_predicted_validate = KNN_classifier.predict_proba(validation)[:,1]\n",
    "    train_acc = accuracy_score(y_train, (y_predicted_train >= 0.5))\n",
    "    validation_acc = accuracy_score(y_validation, (y_predicted_validate >= 0.5))\n",
    "    return {'train': train_acc, 'validation': validation_acc}"
   ]
  },
  {
   "cell_type": "code",
   "execution_count": 133,
   "id": "0b4fb471-1bc7-4c93-8616-d78361594884",
   "metadata": {},
   "outputs": [
    {
     "data": {
      "text/plain": [
       "{'train': 0.66824, 'validation': 0.65836}"
      ]
     },
     "execution_count": 133,
     "metadata": {},
     "output_type": "execute_result"
    }
   ],
   "source": [
    "KNN_final(X_full_train_bow, y_full_train, X_test_bow, y_test, 105)"
   ]
  },
  {
   "cell_type": "code",
   "execution_count": 134,
   "id": "6da1a3ca-94ff-455b-85cf-59e5c008e12d",
   "metadata": {},
   "outputs": [
    {
     "data": {
      "text/plain": [
       "{'train': 0.77712, 'validation': 0.74704}"
      ]
     },
     "execution_count": 134,
     "metadata": {},
     "output_type": "execute_result"
    }
   ],
   "source": [
    "KNN_final(X_full_train_tf, y_full_train, X_test_tf, y_test, 189)"
   ]
  },
  {
   "cell_type": "markdown",
   "id": "YhsFuIlVnXTF",
   "metadata": {
    "id": "YhsFuIlVnXTF"
   },
   "source": [
    "> # Naive Bayes"
   ]
  },
  {
   "cell_type": "markdown",
   "id": "oc_9GIAynxY7",
   "metadata": {
    "id": "oc_9GIAynxY7"
   },
   "source": [
    ">># A quick prototype"
   ]
  },
  {
   "cell_type": "code",
   "execution_count": 232,
   "id": "i_af3GFAnK6Z",
   "metadata": {
    "id": "i_af3GFAnK6Z"
   },
   "outputs": [],
   "source": [
    "def Naive_proto(train, y_train, validation, y_validation):\n",
    "    Naive_classifier = MultinomialNB()\n",
    "    Naive_classifier.fit(train, y_train)\n",
    "    y_predicted_train = Naive_classifier.predict_proba(train)[:,1]\n",
    "    y_predicted_validate = Naive_classifier.predict_proba(validation)[:,1]\n",
    "    train_acc = accuracy_score(y_train, (y_predicted_train >= 0.5))\n",
    "    validation_acc = accuracy_score(y_validation, (y_predicted_validate >= 0.5))\n",
    "    return {'train_acc': train_acc, 'test_acc': validation_acc}"
   ]
  },
  {
   "cell_type": "code",
   "execution_count": 190,
   "id": "8a183e70-26b6-4013-84f4-c7a8df52821b",
   "metadata": {},
   "outputs": [
    {
     "data": {
      "text/plain": [
       "{'train': 0.8624, 'validation': 0.8552}"
      ]
     },
     "execution_count": 190,
     "metadata": {},
     "output_type": "execute_result"
    }
   ],
   "source": [
    "Naive_proto(X_train_bow, y_train, X_validation_bow, y_validation)"
   ]
  },
  {
   "cell_type": "code",
   "execution_count": 191,
   "id": "677b27fd-f3cf-41ca-af48-777c80d42195",
   "metadata": {},
   "outputs": [
    {
     "data": {
      "text/plain": [
       "{'train': 0.8732444444444445, 'validation': 0.8672}"
      ]
     },
     "execution_count": 191,
     "metadata": {},
     "output_type": "execute_result"
    }
   ],
   "source": [
    "Naive_proto(X_train_tf, y_train, X_validation_tf, y_validation)"
   ]
  },
  {
   "cell_type": "markdown",
   "id": "r7h1GN3XFPmT",
   "metadata": {
    "id": "r7h1GN3XFPmT"
   },
   "source": [
    ">> The splitting nature of the data cause this underfitting, the training data is large for a simple classifier such as naive bayes."
   ]
  },
  {
   "cell_type": "markdown",
   "id": "YNBQJy6IrIOO",
   "metadata": {
    "id": "YNBQJy6IrIOO"
   },
   "source": [
    ">> # Parameter Tunning"
   ]
  },
  {
   "cell_type": "code",
   "execution_count": 30,
   "id": "535ps9bLpqvl",
   "metadata": {
    "id": "535ps9bLpqvl"
   },
   "outputs": [],
   "source": [
    "var_smoothing = np.logspace(0,-9, num=100)"
   ]
  },
  {
   "cell_type": "code",
   "execution_count": 31,
   "id": "YOndLnRxrB5A",
   "metadata": {
    "id": "YOndLnRxrB5A"
   },
   "outputs": [],
   "source": [
    "def Naive_optmizer(train, y_train, validation, y_validation):\n",
    "    accuracies = []\n",
    "    for alpha in var_smoothing:\n",
    "        Bayesian_classifier = MultinomialNB(alpha=alpha)\n",
    "        Bayesian_classifier.fit(train, y_train)\n",
    "        y_predicted_BoW_train_tunning = Bayesian_classifier.predict_proba(train)[:, 1]\n",
    "        y_predicted_BoW_validate_tunning = Bayesian_classifier.predict_proba(validation)[:,1]\n",
    "        train_acc = accuracy_score(y_train, (y_predicted_BoW_train_tunning >= 0.5))\n",
    "        validation_acc = accuracy_score(y_validation, (y_predicted_BoW_validate_tunning >= 0.5))\n",
    "        accuracies.append((alpha, train_acc, validation_acc))\n",
    "    return accuracies"
   ]
  },
  {
   "cell_type": "code",
   "execution_count": 32,
   "id": "iZJ5Q2r_rEQ4",
   "metadata": {
    "colab": {
     "base_uri": "https://localhost:8080/",
     "height": 282
    },
    "id": "iZJ5Q2r_rEQ4",
    "outputId": "f8690e5e-74e3-4522-f4b1-01a5a1adb3e2"
   },
   "outputs": [],
   "source": [
    "Naive_bow_optmizer = Naive_optmizer(X_train_bow, y_train, X_validation_bow, y_validation)"
   ]
  },
  {
   "cell_type": "code",
   "execution_count": 33,
   "id": "mkmU9Qg5t2Bf",
   "metadata": {
    "id": "mkmU9Qg5t2Bf"
   },
   "outputs": [
    {
     "data": {
      "text/html": [
       "<div>\n",
       "<style scoped>\n",
       "    .dataframe tbody tr th:only-of-type {\n",
       "        vertical-align: middle;\n",
       "    }\n",
       "\n",
       "    .dataframe tbody tr th {\n",
       "        vertical-align: top;\n",
       "    }\n",
       "\n",
       "    .dataframe thead th {\n",
       "        text-align: right;\n",
       "    }\n",
       "</style>\n",
       "<table border=\"1\" class=\"dataframe\">\n",
       "  <thead>\n",
       "    <tr style=\"text-align: right;\">\n",
       "      <th></th>\n",
       "      <th>alpha</th>\n",
       "      <th>train_acc</th>\n",
       "      <th>validation_acc</th>\n",
       "    </tr>\n",
       "  </thead>\n",
       "  <tbody>\n",
       "    <tr>\n",
       "      <th>1</th>\n",
       "      <td>0.811131</td>\n",
       "      <td>0.862222</td>\n",
       "      <td>0.8560</td>\n",
       "    </tr>\n",
       "    <tr>\n",
       "      <th>2</th>\n",
       "      <td>0.657933</td>\n",
       "      <td>0.862311</td>\n",
       "      <td>0.8572</td>\n",
       "    </tr>\n",
       "    <tr>\n",
       "      <th>0</th>\n",
       "      <td>1.000000</td>\n",
       "      <td>0.862400</td>\n",
       "      <td>0.8552</td>\n",
       "    </tr>\n",
       "  </tbody>\n",
       "</table>\n",
       "</div>"
      ],
      "text/plain": [
       "      alpha  train_acc  validation_acc\n",
       "1  0.811131   0.862222          0.8560\n",
       "2  0.657933   0.862311          0.8572\n",
       "0  1.000000   0.862400          0.8552"
      ]
     },
     "execution_count": 33,
     "metadata": {},
     "output_type": "execute_result"
    }
   ],
   "source": [
    "Naive_bow_optmization_hp = pd.DataFrame(data=Naive_bow_optmizer, columns=['alpha', 'train_acc', 'validation_acc'])\n",
    "Naive_bow_optmization_hp.sort_values(by=['train_acc', 'validation_acc'])[:3]"
   ]
  },
  {
   "cell_type": "code",
   "execution_count": 34,
   "id": "0088ab11-d785-4dbb-97cc-ccbc59219fc9",
   "metadata": {},
   "outputs": [
    {
     "data": {
      "image/png": "[encoded data removed]",
      "text/plain": [
       "<Figure size 432x288 with 1 Axes>"
      ]
     },
     "metadata": {
      "needs_background": "light"
     },
     "output_type": "display_data"
    }
   ],
   "source": [
    "plt.plot(Naive_bow_optmization_hp.alpha, Naive_bow_optmization_hp.train_acc, label='train_accuracy')\n",
    "plt.plot(Naive_bow_optmization_hp.alpha, Naive_bow_optmization_hp.validation_acc, label='validation_accuracy')\n",
    "plt.legend();"
   ]
  },
  {
   "cell_type": "code",
   "execution_count": 35,
   "id": "5cb267fa-e1b2-4430-bde0-d96e2d453ff8",
   "metadata": {},
   "outputs": [],
   "source": [
    "Naive_tf_optmizer = Naive_optmizer(X_train_tf, y_train, X_validation_tf, y_validation)"
   ]
  },
  {
   "cell_type": "code",
   "execution_count": 36,
   "id": "d1fb120c-d3c9-45b6-9910-eb2e94562b04",
   "metadata": {},
   "outputs": [
    {
     "data": {
      "text/html": [
       "<div>\n",
       "<style scoped>\n",
       "    .dataframe tbody tr th:only-of-type {\n",
       "        vertical-align: middle;\n",
       "    }\n",
       "\n",
       "    .dataframe tbody tr th {\n",
       "        vertical-align: top;\n",
       "    }\n",
       "\n",
       "    .dataframe thead th {\n",
       "        text-align: right;\n",
       "    }\n",
       "</style>\n",
       "<table border=\"1\" class=\"dataframe\">\n",
       "  <thead>\n",
       "    <tr style=\"text-align: right;\">\n",
       "      <th></th>\n",
       "      <th>alpha</th>\n",
       "      <th>train_acc</th>\n",
       "      <th>validation_acc</th>\n",
       "    </tr>\n",
       "  </thead>\n",
       "  <tbody>\n",
       "    <tr>\n",
       "      <th>0</th>\n",
       "      <td>1.000000</td>\n",
       "      <td>0.873244</td>\n",
       "      <td>0.8672</td>\n",
       "    </tr>\n",
       "    <tr>\n",
       "      <th>1</th>\n",
       "      <td>0.811131</td>\n",
       "      <td>0.873911</td>\n",
       "      <td>0.8664</td>\n",
       "    </tr>\n",
       "    <tr>\n",
       "      <th>7</th>\n",
       "      <td>0.231013</td>\n",
       "      <td>0.873956</td>\n",
       "      <td>0.8628</td>\n",
       "    </tr>\n",
       "  </tbody>\n",
       "</table>\n",
       "</div>"
      ],
      "text/plain": [
       "      alpha  train_acc  validation_acc\n",
       "0  1.000000   0.873244          0.8672\n",
       "1  0.811131   0.873911          0.8664\n",
       "7  0.231013   0.873956          0.8628"
      ]
     },
     "execution_count": 36,
     "metadata": {},
     "output_type": "execute_result"
    }
   ],
   "source": [
    "Naive_tf_optmization_hp = pd.DataFrame(data=Naive_tf_optmizer, columns=['alpha', 'train_acc', 'validation_acc'])\n",
    "Naive_tf_optmization_hp.sort_values(by=['train_acc', 'validation_acc'])[:3]"
   ]
  },
  {
   "cell_type": "code",
   "execution_count": 37,
   "id": "0236ce06-d39f-448d-9425-35abd00a0087",
   "metadata": {},
   "outputs": [
    {
     "data": {
      "image/png": "[encoded data removed]",
      "text/plain": [
       "<Figure size 432x288 with 1 Axes>"
      ]
     },
     "metadata": {
      "needs_background": "light"
     },
     "output_type": "display_data"
    }
   ],
   "source": [
    "plt.plot(Naive_tf_optmization_hp.alpha, Naive_tf_optmization_hp.train_acc, label='train_accuracy')\n",
    "plt.plot(Naive_tf_optmization_hp.alpha, Naive_tf_optmization_hp.validation_acc, label='validation_accuracy')\n",
    "plt.legend();"
   ]
  },
  {
   "cell_type": "markdown",
   "id": "3gAo079tuexT",
   "metadata": {
    "id": "3gAo079tuexT"
   },
   "source": [
    ">> # Fitting with tuned hyperparameters"
   ]
  },
  {
   "cell_type": "code",
   "execution_count": 38,
   "id": "7c243375-81e6-4a02-bd38-660c7e72075b",
   "metadata": {},
   "outputs": [],
   "source": [
    "best_para_bow = Naive_bow_optmization_hp['alpha'][0]\n",
    "best_para_tf = Naive_tf_optmization_hp['alpha'][0]"
   ]
  },
  {
   "cell_type": "code",
   "execution_count": 39,
   "id": "bdbd8b1f-3e33-490e-808f-0edbe540b5f8",
   "metadata": {},
   "outputs": [],
   "source": [
    "def Naive_final(train, y_train, test, y_test, alpha=0.0):\n",
    "    Naive_classifier = MultinomialNB(alpha=alpha)\n",
    "    Naive_classifier.fit(train, y_train)\n",
    "    y_predicted_train = Naive_classifier.predict_proba(train)[:,1]\n",
    "    y_predicted_test = Naive_classifier.predict_proba(test)[:,1]\n",
    "    train_acc = accuracy_score(y_train, (y_predicted_train >= 0.5))\n",
    "    test_acc = accuracy_score(y_test, (y_predicted_test >= 0.5))\n",
    "    return {'train': train_acc, 'validation': test_acc}"
   ]
  },
  {
   "cell_type": "code",
   "execution_count": 40,
   "id": "7361f584-0832-4afd-8bb5-ebb854b3dba4",
   "metadata": {},
   "outputs": [
    {
     "data": {
      "text/plain": [
       "{'train': 0.8618, 'validation': 0.837}"
      ]
     },
     "execution_count": 40,
     "metadata": {},
     "output_type": "execute_result"
    }
   ],
   "source": [
    "Naive_final(X_full_train_bow, y_full_train, X_test_bow, y_test, best_para_bow)"
   ]
  },
  {
   "cell_type": "code",
   "execution_count": 41,
   "id": "3d043d1b-0e0d-4313-8ddf-7b037b31bf7b",
   "metadata": {},
   "outputs": [
    {
     "data": {
      "text/plain": [
       "{'train': 0.87316, 'validation': 0.84008}"
      ]
     },
     "execution_count": 41,
     "metadata": {},
     "output_type": "execute_result"
    }
   ],
   "source": [
    "Naive_final(X_full_train_tf, y_full_train, X_test_tf, y_test, best_para_tf)"
   ]
  },
  {
   "cell_type": "markdown",
   "id": "CuFRy5oJDaMS",
   "metadata": {
    "id": "CuFRy5oJDaMS"
   },
   "source": [
    "> # Logistic regression\n",
    ">> # Quick proto type"
   ]
  },
  {
   "cell_type": "code",
   "execution_count": 231,
   "id": "18ecb5cb-cb2e-4011-9849-85ccce163702",
   "metadata": {},
   "outputs": [],
   "source": [
    "def log_proto(train, y_train, test, y_test):\n",
    "    lr = LogisticRegression(max_iter=1000)\n",
    "    lr.fit(train, y_train)\n",
    "    y_prediction_train = lr.predict_proba(train)[:, 1]\n",
    "    y_prediction_test = lr.predict_proba(test)[:,1]\n",
    "    train_acc = accuracy_score(y_train, y_prediction_train >= 0.5)\n",
    "    test_acc = accuracy_score(y_test, y_prediction_test >= 0.5)\n",
    "    return {'train_acc': train_acc,  'test_acc': test_acc}"
   ]
  },
  {
   "cell_type": "code",
   "execution_count": 193,
   "id": "6c223f56-ede2-43b3-b01a-816a1e937d1a",
   "metadata": {},
   "outputs": [
    {
     "data": {
      "text/plain": [
       "{'train_acc': 0.9723111111111111, 'test_acc': 0.858}"
      ]
     },
     "execution_count": 193,
     "metadata": {},
     "output_type": "execute_result"
    }
   ],
   "source": [
    "log_proto(X_train_bow, y_train, X_validation_bow, y_validation)"
   ]
  },
  {
   "cell_type": "code",
   "execution_count": 194,
   "id": "5a11efa2-0aa5-4bdb-8981-095ac890fac0",
   "metadata": {},
   "outputs": [
    {
     "data": {
      "text/plain": [
       "{'train_acc': 0.9119111111111111, 'test_acc': 0.882}"
      ]
     },
     "execution_count": 194,
     "metadata": {},
     "output_type": "execute_result"
    }
   ],
   "source": [
    "log_proto(X_train_tf, y_train, X_validation_tf, y_validation)"
   ]
  },
  {
   "cell_type": "markdown",
   "id": "6RogtI8fGjdi",
   "metadata": {
    "id": "6RogtI8fGjdi"
   },
   "source": [
    "> No overfitting, Haha 😔"
   ]
  },
  {
   "cell_type": "markdown",
   "id": "SzCSLgjlFxNN",
   "metadata": {
    "id": "SzCSLgjlFxNN"
   },
   "source": [
    ">> # Parameter Tunning"
   ]
  },
  {
   "cell_type": "code",
   "execution_count": 48,
   "id": "QQQ-cx61Grkj",
   "metadata": {
    "id": "QQQ-cx61Grkj"
   },
   "outputs": [],
   "source": [
    "C = [0.01, 0.05, 0.1, 0.5, 1, 5, 10, 50, 100]\n",
    "def log_C_optmizer(train, y_train, val, y_val):\n",
    "    C_based_accuracies = []\n",
    "    for c in tqdm(C):\n",
    "        lr = LogisticRegression(solver='liblinear', C=c, max_iter=1000)\n",
    "        lr.fit(train, y_train)\n",
    "        y_prediction_train = lr.predict_proba(train)[:, 1]\n",
    "        y_prediction_val = lr.predict_proba(val)[:,1]\n",
    "        train_acc = accuracy_score(y_train, y_prediction_train >= 0.5)\n",
    "        val_acc = accuracy_score(y_val, y_prediction_val >= 0.5)\n",
    "        C_based_accuracies.append((c, train_acc, val_acc))\n",
    "    return C_based_accuracies"
   ]
  },
  {
   "cell_type": "code",
   "execution_count": 49,
   "id": "cxxwZbE_JBOV",
   "metadata": {
    "id": "cxxwZbE_JBOV"
   },
   "outputs": [
    {
     "data": {
      "application/vnd.jupyter.widget-view+json": {
       "model_id": "fcca57f0383448a29ad2fc5c2278a26a",
       "version_major": 2,
       "version_minor": 0
      },
      "text/plain": [
       "  0%|          | 0/9 [00:00<?, ?it/s]"
      ]
     },
     "metadata": {},
     "output_type": "display_data"
    }
   ],
   "source": [
    "log_bow = log_C_optmizer(X_train_bow, y_train, X_validation_bow, y_validation)"
   ]
  },
  {
   "cell_type": "code",
   "execution_count": 50,
   "id": "JeB5iX62K0UG",
   "metadata": {
    "colab": {
     "base_uri": "https://localhost:8080/"
    },
    "id": "JeB5iX62K0UG",
    "outputId": "0ca10b58-1564-4fe3-b6d9-df6efd729ce6"
   },
   "outputs": [
    {
     "data": {
      "text/html": [
       "<div>\n",
       "<style scoped>\n",
       "    .dataframe tbody tr th:only-of-type {\n",
       "        vertical-align: middle;\n",
       "    }\n",
       "\n",
       "    .dataframe tbody tr th {\n",
       "        vertical-align: top;\n",
       "    }\n",
       "\n",
       "    .dataframe thead th {\n",
       "        text-align: right;\n",
       "    }\n",
       "</style>\n",
       "<table border=\"1\" class=\"dataframe\">\n",
       "  <thead>\n",
       "    <tr style=\"text-align: right;\">\n",
       "      <th></th>\n",
       "      <th>C</th>\n",
       "      <th>train_acc</th>\n",
       "      <th>validation_acc</th>\n",
       "    </tr>\n",
       "  </thead>\n",
       "  <tbody>\n",
       "    <tr>\n",
       "      <th>0</th>\n",
       "      <td>0.01</td>\n",
       "      <td>0.896844</td>\n",
       "      <td>0.8708</td>\n",
       "    </tr>\n",
       "    <tr>\n",
       "      <th>1</th>\n",
       "      <td>0.05</td>\n",
       "      <td>0.924711</td>\n",
       "      <td>0.8740</td>\n",
       "    </tr>\n",
       "    <tr>\n",
       "      <th>2</th>\n",
       "      <td>0.10</td>\n",
       "      <td>0.935378</td>\n",
       "      <td>0.8756</td>\n",
       "    </tr>\n",
       "    <tr>\n",
       "      <th>3</th>\n",
       "      <td>0.50</td>\n",
       "      <td>0.961244</td>\n",
       "      <td>0.8648</td>\n",
       "    </tr>\n",
       "    <tr>\n",
       "      <th>4</th>\n",
       "      <td>1.00</td>\n",
       "      <td>0.972267</td>\n",
       "      <td>0.8580</td>\n",
       "    </tr>\n",
       "    <tr>\n",
       "      <th>5</th>\n",
       "      <td>5.00</td>\n",
       "      <td>0.990933</td>\n",
       "      <td>0.8460</td>\n",
       "    </tr>\n",
       "    <tr>\n",
       "      <th>6</th>\n",
       "      <td>10.00</td>\n",
       "      <td>0.995600</td>\n",
       "      <td>0.8376</td>\n",
       "    </tr>\n",
       "    <tr>\n",
       "      <th>7</th>\n",
       "      <td>50.00</td>\n",
       "      <td>0.999111</td>\n",
       "      <td>0.8280</td>\n",
       "    </tr>\n",
       "    <tr>\n",
       "      <th>8</th>\n",
       "      <td>100.00</td>\n",
       "      <td>0.999778</td>\n",
       "      <td>0.8272</td>\n",
       "    </tr>\n",
       "  </tbody>\n",
       "</table>\n",
       "</div>"
      ],
      "text/plain": [
       "        C  train_acc  validation_acc\n",
       "0    0.01   0.896844          0.8708\n",
       "1    0.05   0.924711          0.8740\n",
       "2    0.10   0.935378          0.8756\n",
       "3    0.50   0.961244          0.8648\n",
       "4    1.00   0.972267          0.8580\n",
       "5    5.00   0.990933          0.8460\n",
       "6   10.00   0.995600          0.8376\n",
       "7   50.00   0.999111          0.8280\n",
       "8  100.00   0.999778          0.8272"
      ]
     },
     "execution_count": 50,
     "metadata": {},
     "output_type": "execute_result"
    }
   ],
   "source": [
    "log_bow_df = pd.DataFrame(log_bow, columns=['C', 'train_acc', 'validation_acc'])\n",
    "log_bow_df"
   ]
  },
  {
   "cell_type": "code",
   "execution_count": 51,
   "id": "1Nvjn8uwQsUR",
   "metadata": {
    "colab": {
     "base_uri": "https://localhost:8080/"
    },
    "id": "1Nvjn8uwQsUR",
    "outputId": "e3230d7e-fccc-491c-ac03-805fcfc52ac7"
   },
   "outputs": [
    {
     "data": {
      "text/plain": [
       "<matplotlib.legend.Legend at 0x7fbaa556e250>"
      ]
     },
     "execution_count": 51,
     "metadata": {},
     "output_type": "execute_result"
    },
    {
     "data": {
      "image/png": "[encoded data removed]",
      "text/plain": [
       "<Figure size 432x288 with 1 Axes>"
      ]
     },
     "metadata": {
      "needs_background": "light"
     },
     "output_type": "display_data"
    }
   ],
   "source": [
    "plt.plot(log_bow_df['C'], log_bow_df['train_acc'], label='train_accuracy')\n",
    "plt.plot(log_bow_df['C'], log_bow_df['validation_acc'], label='validation_accuracy')\n",
    "plt.legend()"
   ]
  },
  {
   "cell_type": "code",
   "execution_count": 52,
   "id": "U0tE5GAHQwnm",
   "metadata": {
    "colab": {
     "base_uri": "https://localhost:8080/"
    },
    "id": "U0tE5GAHQwnm",
    "outputId": "44f0e218-1caa-473d-eacd-2c3a5ac19534"
   },
   "outputs": [
    {
     "data": {
      "text/html": [
       "<div>\n",
       "<style scoped>\n",
       "    .dataframe tbody tr th:only-of-type {\n",
       "        vertical-align: middle;\n",
       "    }\n",
       "\n",
       "    .dataframe tbody tr th {\n",
       "        vertical-align: top;\n",
       "    }\n",
       "\n",
       "    .dataframe thead th {\n",
       "        text-align: right;\n",
       "    }\n",
       "</style>\n",
       "<table border=\"1\" class=\"dataframe\">\n",
       "  <thead>\n",
       "    <tr style=\"text-align: right;\">\n",
       "      <th></th>\n",
       "      <th>C</th>\n",
       "      <th>train_acc</th>\n",
       "      <th>validation_acc</th>\n",
       "    </tr>\n",
       "  </thead>\n",
       "  <tbody>\n",
       "    <tr>\n",
       "      <th>2</th>\n",
       "      <td>0.10</td>\n",
       "      <td>0.935378</td>\n",
       "      <td>0.8756</td>\n",
       "    </tr>\n",
       "    <tr>\n",
       "      <th>1</th>\n",
       "      <td>0.05</td>\n",
       "      <td>0.924711</td>\n",
       "      <td>0.8740</td>\n",
       "    </tr>\n",
       "    <tr>\n",
       "      <th>0</th>\n",
       "      <td>0.01</td>\n",
       "      <td>0.896844</td>\n",
       "      <td>0.8708</td>\n",
       "    </tr>\n",
       "    <tr>\n",
       "      <th>3</th>\n",
       "      <td>0.50</td>\n",
       "      <td>0.961244</td>\n",
       "      <td>0.8648</td>\n",
       "    </tr>\n",
       "    <tr>\n",
       "      <th>4</th>\n",
       "      <td>1.00</td>\n",
       "      <td>0.972267</td>\n",
       "      <td>0.8580</td>\n",
       "    </tr>\n",
       "    <tr>\n",
       "      <th>5</th>\n",
       "      <td>5.00</td>\n",
       "      <td>0.990933</td>\n",
       "      <td>0.8460</td>\n",
       "    </tr>\n",
       "    <tr>\n",
       "      <th>6</th>\n",
       "      <td>10.00</td>\n",
       "      <td>0.995600</td>\n",
       "      <td>0.8376</td>\n",
       "    </tr>\n",
       "    <tr>\n",
       "      <th>7</th>\n",
       "      <td>50.00</td>\n",
       "      <td>0.999111</td>\n",
       "      <td>0.8280</td>\n",
       "    </tr>\n",
       "    <tr>\n",
       "      <th>8</th>\n",
       "      <td>100.00</td>\n",
       "      <td>0.999778</td>\n",
       "      <td>0.8272</td>\n",
       "    </tr>\n",
       "  </tbody>\n",
       "</table>\n",
       "</div>"
      ],
      "text/plain": [
       "        C  train_acc  validation_acc\n",
       "2    0.10   0.935378          0.8756\n",
       "1    0.05   0.924711          0.8740\n",
       "0    0.01   0.896844          0.8708\n",
       "3    0.50   0.961244          0.8648\n",
       "4    1.00   0.972267          0.8580\n",
       "5    5.00   0.990933          0.8460\n",
       "6   10.00   0.995600          0.8376\n",
       "7   50.00   0.999111          0.8280\n",
       "8  100.00   0.999778          0.8272"
      ]
     },
     "execution_count": 52,
     "metadata": {},
     "output_type": "execute_result"
    }
   ],
   "source": [
    "log_bow_df.sort_values(ascending=False, by=['validation_acc'])"
   ]
  },
  {
   "cell_type": "code",
   "execution_count": 53,
   "id": "602edb74-d656-4698-8b11-b701496df10d",
   "metadata": {},
   "outputs": [
    {
     "data": {
      "application/vnd.jupyter.widget-view+json": {
       "model_id": "d19272f9c0dc4f7683a3eb4ec095d2b1",
       "version_major": 2,
       "version_minor": 0
      },
      "text/plain": [
       "  0%|          | 0/9 [00:00<?, ?it/s]"
      ]
     },
     "metadata": {},
     "output_type": "display_data"
    }
   ],
   "source": [
    "log_tf = log_C_optmizer(X_train_tf, y_train, X_validation_tf, y_validation)"
   ]
  },
  {
   "cell_type": "code",
   "execution_count": 54,
   "id": "e11db6cb-6ba2-4200-b541-1694bf3ac9a4",
   "metadata": {},
   "outputs": [
    {
     "data": {
      "text/html": [
       "<div>\n",
       "<style scoped>\n",
       "    .dataframe tbody tr th:only-of-type {\n",
       "        vertical-align: middle;\n",
       "    }\n",
       "\n",
       "    .dataframe tbody tr th {\n",
       "        vertical-align: top;\n",
       "    }\n",
       "\n",
       "    .dataframe thead th {\n",
       "        text-align: right;\n",
       "    }\n",
       "</style>\n",
       "<table border=\"1\" class=\"dataframe\">\n",
       "  <thead>\n",
       "    <tr style=\"text-align: right;\">\n",
       "      <th></th>\n",
       "      <th>C</th>\n",
       "      <th>train_acc</th>\n",
       "      <th>validation_acc</th>\n",
       "    </tr>\n",
       "  </thead>\n",
       "  <tbody>\n",
       "    <tr>\n",
       "      <th>0</th>\n",
       "      <td>0.01</td>\n",
       "      <td>0.831600</td>\n",
       "      <td>0.8240</td>\n",
       "    </tr>\n",
       "    <tr>\n",
       "      <th>1</th>\n",
       "      <td>0.05</td>\n",
       "      <td>0.860667</td>\n",
       "      <td>0.8476</td>\n",
       "    </tr>\n",
       "    <tr>\n",
       "      <th>2</th>\n",
       "      <td>0.10</td>\n",
       "      <td>0.872756</td>\n",
       "      <td>0.8588</td>\n",
       "    </tr>\n",
       "    <tr>\n",
       "      <th>3</th>\n",
       "      <td>0.50</td>\n",
       "      <td>0.901200</td>\n",
       "      <td>0.8756</td>\n",
       "    </tr>\n",
       "    <tr>\n",
       "      <th>4</th>\n",
       "      <td>1.00</td>\n",
       "      <td>0.911911</td>\n",
       "      <td>0.8820</td>\n",
       "    </tr>\n",
       "    <tr>\n",
       "      <th>5</th>\n",
       "      <td>5.00</td>\n",
       "      <td>0.940533</td>\n",
       "      <td>0.8816</td>\n",
       "    </tr>\n",
       "    <tr>\n",
       "      <th>6</th>\n",
       "      <td>10.00</td>\n",
       "      <td>0.953067</td>\n",
       "      <td>0.8820</td>\n",
       "    </tr>\n",
       "    <tr>\n",
       "      <th>7</th>\n",
       "      <td>50.00</td>\n",
       "      <td>0.977378</td>\n",
       "      <td>0.8576</td>\n",
       "    </tr>\n",
       "    <tr>\n",
       "      <th>8</th>\n",
       "      <td>100.00</td>\n",
       "      <td>0.986489</td>\n",
       "      <td>0.8508</td>\n",
       "    </tr>\n",
       "  </tbody>\n",
       "</table>\n",
       "</div>"
      ],
      "text/plain": [
       "        C  train_acc  validation_acc\n",
       "0    0.01   0.831600          0.8240\n",
       "1    0.05   0.860667          0.8476\n",
       "2    0.10   0.872756          0.8588\n",
       "3    0.50   0.901200          0.8756\n",
       "4    1.00   0.911911          0.8820\n",
       "5    5.00   0.940533          0.8816\n",
       "6   10.00   0.953067          0.8820\n",
       "7   50.00   0.977378          0.8576\n",
       "8  100.00   0.986489          0.8508"
      ]
     },
     "execution_count": 54,
     "metadata": {},
     "output_type": "execute_result"
    }
   ],
   "source": [
    "log_tf_df = pd.DataFrame(log_tf, columns=['C', 'train_acc', 'validation_acc'])\n",
    "log_tf_df"
   ]
  },
  {
   "cell_type": "code",
   "execution_count": 55,
   "id": "1d1d9322-4914-470e-a691-7958feb30477",
   "metadata": {},
   "outputs": [
    {
     "data": {
      "text/plain": [
       "<matplotlib.legend.Legend at 0x7fbaa5607a50>"
      ]
     },
     "execution_count": 55,
     "metadata": {},
     "output_type": "execute_result"
    },
    {
     "data": {
      "image/png": "[encoded data removed]",
      "text/plain": [
       "<Figure size 432x288 with 1 Axes>"
      ]
     },
     "metadata": {
      "needs_background": "light"
     },
     "output_type": "display_data"
    }
   ],
   "source": [
    "plt.plot(log_tf_df['C'], log_tf_df['train_acc'], label='train_accuracy')\n",
    "plt.plot(log_tf_df['C'], log_tf_df['validation_acc'], label='validation_accuracy')\n",
    "plt.legend()"
   ]
  },
  {
   "cell_type": "code",
   "execution_count": 56,
   "id": "2de6489b-effb-4a09-8046-742a0608bb2d",
   "metadata": {},
   "outputs": [
    {
     "data": {
      "text/html": [
       "<div>\n",
       "<style scoped>\n",
       "    .dataframe tbody tr th:only-of-type {\n",
       "        vertical-align: middle;\n",
       "    }\n",
       "\n",
       "    .dataframe tbody tr th {\n",
       "        vertical-align: top;\n",
       "    }\n",
       "\n",
       "    .dataframe thead th {\n",
       "        text-align: right;\n",
       "    }\n",
       "</style>\n",
       "<table border=\"1\" class=\"dataframe\">\n",
       "  <thead>\n",
       "    <tr style=\"text-align: right;\">\n",
       "      <th></th>\n",
       "      <th>C</th>\n",
       "      <th>train_acc</th>\n",
       "      <th>validation_acc</th>\n",
       "    </tr>\n",
       "  </thead>\n",
       "  <tbody>\n",
       "    <tr>\n",
       "      <th>4</th>\n",
       "      <td>1.00</td>\n",
       "      <td>0.911911</td>\n",
       "      <td>0.8820</td>\n",
       "    </tr>\n",
       "    <tr>\n",
       "      <th>6</th>\n",
       "      <td>10.00</td>\n",
       "      <td>0.953067</td>\n",
       "      <td>0.8820</td>\n",
       "    </tr>\n",
       "    <tr>\n",
       "      <th>5</th>\n",
       "      <td>5.00</td>\n",
       "      <td>0.940533</td>\n",
       "      <td>0.8816</td>\n",
       "    </tr>\n",
       "    <tr>\n",
       "      <th>3</th>\n",
       "      <td>0.50</td>\n",
       "      <td>0.901200</td>\n",
       "      <td>0.8756</td>\n",
       "    </tr>\n",
       "    <tr>\n",
       "      <th>2</th>\n",
       "      <td>0.10</td>\n",
       "      <td>0.872756</td>\n",
       "      <td>0.8588</td>\n",
       "    </tr>\n",
       "    <tr>\n",
       "      <th>7</th>\n",
       "      <td>50.00</td>\n",
       "      <td>0.977378</td>\n",
       "      <td>0.8576</td>\n",
       "    </tr>\n",
       "    <tr>\n",
       "      <th>8</th>\n",
       "      <td>100.00</td>\n",
       "      <td>0.986489</td>\n",
       "      <td>0.8508</td>\n",
       "    </tr>\n",
       "    <tr>\n",
       "      <th>1</th>\n",
       "      <td>0.05</td>\n",
       "      <td>0.860667</td>\n",
       "      <td>0.8476</td>\n",
       "    </tr>\n",
       "    <tr>\n",
       "      <th>0</th>\n",
       "      <td>0.01</td>\n",
       "      <td>0.831600</td>\n",
       "      <td>0.8240</td>\n",
       "    </tr>\n",
       "  </tbody>\n",
       "</table>\n",
       "</div>"
      ],
      "text/plain": [
       "        C  train_acc  validation_acc\n",
       "4    1.00   0.911911          0.8820\n",
       "6   10.00   0.953067          0.8820\n",
       "5    5.00   0.940533          0.8816\n",
       "3    0.50   0.901200          0.8756\n",
       "2    0.10   0.872756          0.8588\n",
       "7   50.00   0.977378          0.8576\n",
       "8  100.00   0.986489          0.8508\n",
       "1    0.05   0.860667          0.8476\n",
       "0    0.01   0.831600          0.8240"
      ]
     },
     "execution_count": 56,
     "metadata": {},
     "output_type": "execute_result"
    }
   ],
   "source": [
    "log_tf_df.sort_values(ascending=False, by=['validation_acc'])"
   ]
  },
  {
   "cell_type": "markdown",
   "id": "obRI-HeNF3LM",
   "metadata": {
    "id": "obRI-HeNF3LM"
   },
   "source": [
    ">> # Fitting with tuned hyperparameters"
   ]
  },
  {
   "cell_type": "code",
   "execution_count": 142,
   "id": "lKfMaZ_tQ_jf",
   "metadata": {
    "id": "lKfMaZ_tQ_jf"
   },
   "outputs": [],
   "source": [
    "def log_final(train, y_train, test, y_test, C=0.0):\n",
    "    lr = LogisticRegression(max_iter=1000, solver='liblinear', C=C, random_state=210)\n",
    "    lr.fit(train, y_train)\n",
    "    y_prediction_train = lr.predict_proba(train)[:, 1]\n",
    "    y_prediction_test = lr.predict_proba(test)[:,1]\n",
    "    train_acc = accuracy_score(y_train, y_prediction_train >= 0.5)\n",
    "    test_acc = accuracy_score(y_test, y_prediction_test >= 0.5)\n",
    "    return {'train_acc': train_acc,  'test_acc': test_acc}"
   ]
  },
  {
   "cell_type": "code",
   "execution_count": 143,
   "id": "WaMTh69-Hzx8",
   "metadata": {
    "colab": {
     "base_uri": "https://localhost:8080/"
    },
    "id": "WaMTh69-Hzx8",
    "outputId": "91553705-d5cd-453c-f37b-04742c65c392"
   },
   "outputs": [
    {
     "data": {
      "text/plain": [
       "{'train_acc': 0.96152, 'test_acc': 0.87812}"
      ]
     },
     "execution_count": 143,
     "metadata": {},
     "output_type": "execute_result"
    }
   ],
   "source": [
    "log_final(X_full_train_bow, y_full_train, X_test_bow, y_test, 0.10)"
   ]
  },
  {
   "cell_type": "code",
   "execution_count": 144,
   "id": "xEpS8TRtH0TT",
   "metadata": {
    "id": "xEpS8TRtH0TT"
   },
   "outputs": [
    {
     "data": {
      "text/plain": [
       "{'train_acc': 0.9234, 'test_acc': 0.88468}"
      ]
     },
     "execution_count": 144,
     "metadata": {},
     "output_type": "execute_result"
    }
   ],
   "source": [
    "log_final(X_full_train_tf, y_full_train, X_test_tf, y_test, 1.0)"
   ]
  },
  {
   "cell_type": "markdown",
   "id": "tZ3w0A60vWGB",
   "metadata": {
    "id": "tZ3w0A60vWGB"
   },
   "source": [
    "> # Random Forest\n",
    ">> # Quick proto type"
   ]
  },
  {
   "cell_type": "code",
   "execution_count": 230,
   "id": "31bd3f74-a81f-4e85-b8f7-9c3a2e1148d4",
   "metadata": {},
   "outputs": [],
   "source": [
    "def rf_proto(train, y_train, test, y_test):\n",
    "    rf = RandomForestClassifier()\n",
    "    rf.fit(train, y_train)\n",
    "    y_prediction_train = rf.predict_proba(train)[:, 1]\n",
    "    y_predicted_test = rf.predict_proba(test)[:,1]\n",
    "    train_acc = accuracy_score(y_train, (y_prediction_train >= 0.5))\n",
    "    test_acc = accuracy_score(y_test, (y_predicted_test >= 0.5))\n",
    "    return {'train_acc': train_acc, 'test_acc': test_acc}"
   ]
  },
  {
   "cell_type": "code",
   "execution_count": 196,
   "id": "57ee49e0-b491-4d37-a951-40c939896b78",
   "metadata": {},
   "outputs": [
    {
     "data": {
      "text/plain": [
       "{'train_acc': 1.0, 'validation_acc': 0.8408}"
      ]
     },
     "execution_count": 196,
     "metadata": {},
     "output_type": "execute_result"
    }
   ],
   "source": [
    "rf_proto(X_train_bow, y_train, X_validation_bow, y_validation)"
   ]
  },
  {
   "cell_type": "code",
   "execution_count": 197,
   "id": "a5c73a77-5b46-4190-a264-d4795552f3a6",
   "metadata": {},
   "outputs": [
    {
     "data": {
      "text/plain": [
       "{'train_acc': 1.0, 'validation_acc': 0.8292}"
      ]
     },
     "execution_count": 197,
     "metadata": {},
     "output_type": "execute_result"
    }
   ],
   "source": [
    "rf_proto(X_train_tf, y_train, X_validation_tf, y_validation)"
   ]
  },
  {
   "cell_type": "markdown",
   "id": "7cgA6g4FB8oy",
   "metadata": {
    "id": "7cgA6g4FB8oy"
   },
   "source": [
    "> really good accuracy compared to the previous classifiers, But still overfitting as the model is really complex so it stores the pattern itself not learning the pattern of the data."
   ]
  },
  {
   "cell_type": "markdown",
   "id": "KHqzJ7DwBgtc",
   "metadata": {
    "id": "KHqzJ7DwBgtc"
   },
   "source": [
    ">> # Parameter Tunning"
   ]
  },
  {
   "cell_type": "code",
   "execution_count": 75,
   "id": "KhvWrflPS-Lj",
   "metadata": {
    "id": "KhvWrflPS-Lj"
   },
   "outputs": [],
   "source": [
    "# Number of trees in random forest\n",
    "n_estimators = [int(x) for x in np.linspace(start = 200, stop = 2000, num = 10)]\n",
    "# Number of features to consider at every split\n",
    "max_features = ['auto', 'sqrt']\n",
    "# Maximum number of levels in tree\n",
    "max_depth = [int(x) for x in np.linspace(10, 110, num = 11)]\n",
    "max_depth.append(None)\n",
    "# Minimum number of samples required to split a node\n",
    "min_samples_split = [2, 5, 10]\n",
    "# Minimum number of samples required at each leaf node\n",
    "min_samples_leaf = [1, 2, 4]\n",
    "# Method of selecting samples for training each tree\n",
    "bootstrap = [True, False]\n",
    "\n",
    "# Create the random grid\n",
    "random_grid = {'n_estimators': n_estimators,\n",
    "               'max_features': max_features,\n",
    "               'max_depth': max_depth,\n",
    "               'min_samples_split': min_samples_split,\n",
    "               'min_samples_leaf': min_samples_leaf,\n",
    "               'bootstrap': bootstrap\n",
    "}"
   ]
  },
  {
   "cell_type": "code",
   "execution_count": 79,
   "id": "DGxBHh9KS-Ol",
   "metadata": {
    "colab": {
     "base_uri": "https://localhost:8080/"
    },
    "id": "DGxBHh9KS-Ol",
    "outputId": "70dbeb87-97ce-4a97-d546-84363a7f722c"
   },
   "outputs": [
    {
     "name": "stdout",
     "output_type": "stream",
     "text": [
      "Fitting 4 folds for each of 10 candidates, totalling 40 fits\n",
      "[CV] END bootstrap=True, max_depth=20, max_features=auto, min_samples_leaf=4, min_samples_split=5, n_estimators=2000; total time= 1.7min\n",
      "[CV] END bootstrap=True, max_depth=20, max_features=auto, min_samples_leaf=4, min_samples_split=5, n_estimators=2000; total time= 1.7min\n",
      "[CV] END bootstrap=True, max_depth=20, max_features=auto, min_samples_leaf=4, min_samples_split=5, n_estimators=2000; total time= 1.7min\n",
      "[CV] END bootstrap=True, max_depth=20, max_features=auto, min_samples_leaf=4, min_samples_split=5, n_estimators=2000; total time= 1.7min\n",
      "[CV] END bootstrap=True, max_depth=None, max_features=auto, min_samples_leaf=4, min_samples_split=2, n_estimators=1200; total time= 3.3min\n",
      "[CV] END bootstrap=True, max_depth=None, max_features=auto, min_samples_leaf=4, min_samples_split=2, n_estimators=1200; total time= 3.3min\n",
      "[CV] END bootstrap=True, max_depth=None, max_features=auto, min_samples_leaf=4, min_samples_split=2, n_estimators=1200; total time= 3.3min\n",
      "[CV] END bootstrap=True, max_depth=None, max_features=auto, min_samples_leaf=4, min_samples_split=2, n_estimators=1200; total time= 3.3min\n",
      "[CV] END bootstrap=True, max_depth=20, max_features=sqrt, min_samples_leaf=4, min_samples_split=5, n_estimators=800; total time=  41.1s\n",
      "[CV] END bootstrap=True, max_depth=20, max_features=sqrt, min_samples_leaf=4, min_samples_split=5, n_estimators=800; total time=  40.5s\n",
      "[CV] END bootstrap=True, max_depth=20, max_features=sqrt, min_samples_leaf=4, min_samples_split=5, n_estimators=800; total time=  41.2s\n",
      "[CV] END bootstrap=True, max_depth=20, max_features=sqrt, min_samples_leaf=4, min_samples_split=5, n_estimators=800; total time=  41.7s\n",
      "[CV] END bootstrap=True, max_depth=10, max_features=auto, min_samples_leaf=1, min_samples_split=5, n_estimators=1800; total time=  28.9s\n",
      "[CV] END bootstrap=True, max_depth=10, max_features=auto, min_samples_leaf=1, min_samples_split=5, n_estimators=1800; total time=  29.0s\n",
      "[CV] END bootstrap=True, max_depth=10, max_features=auto, min_samples_leaf=1, min_samples_split=5, n_estimators=1800; total time=  28.8s\n",
      "[CV] END bootstrap=True, max_depth=10, max_features=auto, min_samples_leaf=1, min_samples_split=5, n_estimators=1800; total time=  29.4s\n",
      "[CV] END bootstrap=False, max_depth=50, max_features=sqrt, min_samples_leaf=2, min_samples_split=10, n_estimators=1400; total time= 6.1min\n",
      "[CV] END bootstrap=False, max_depth=50, max_features=sqrt, min_samples_leaf=2, min_samples_split=10, n_estimators=1400; total time= 6.2min\n",
      "[CV] END bootstrap=False, max_depth=50, max_features=sqrt, min_samples_leaf=2, min_samples_split=10, n_estimators=1400; total time= 5.9min\n",
      "[CV] END bootstrap=False, max_depth=50, max_features=sqrt, min_samples_leaf=2, min_samples_split=10, n_estimators=1400; total time= 5.9min\n",
      "[CV] END bootstrap=False, max_depth=None, max_features=sqrt, min_samples_leaf=4, min_samples_split=2, n_estimators=2000; total time= 7.5min\n",
      "[CV] END bootstrap=False, max_depth=None, max_features=sqrt, min_samples_leaf=4, min_samples_split=2, n_estimators=2000; total time= 7.5min\n",
      "[CV] END bootstrap=False, max_depth=None, max_features=sqrt, min_samples_leaf=4, min_samples_split=2, n_estimators=2000; total time= 7.4min\n",
      "[CV] END bootstrap=False, max_depth=None, max_features=sqrt, min_samples_leaf=4, min_samples_split=2, n_estimators=2000; total time= 7.5min\n",
      "[CV] END bootstrap=False, max_depth=10, max_features=sqrt, min_samples_leaf=1, min_samples_split=2, n_estimators=1800; total time=  34.2s\n",
      "[CV] END bootstrap=False, max_depth=10, max_features=sqrt, min_samples_leaf=1, min_samples_split=2, n_estimators=1800; total time=  34.1s\n",
      "[CV] END bootstrap=False, max_depth=10, max_features=sqrt, min_samples_leaf=1, min_samples_split=2, n_estimators=1800; total time=  34.1s\n",
      "[CV] END bootstrap=False, max_depth=10, max_features=sqrt, min_samples_leaf=1, min_samples_split=2, n_estimators=1800; total time=  34.4s\n",
      "[CV] END bootstrap=False, max_depth=30, max_features=sqrt, min_samples_leaf=4, min_samples_split=2, n_estimators=1800; total time= 3.9min\n",
      "[CV] END bootstrap=False, max_depth=30, max_features=sqrt, min_samples_leaf=4, min_samples_split=2, n_estimators=1800; total time= 4.0min\n",
      "[CV] END bootstrap=False, max_depth=30, max_features=sqrt, min_samples_leaf=4, min_samples_split=2, n_estimators=1800; total time= 4.2min\n",
      "[CV] END bootstrap=False, max_depth=30, max_features=sqrt, min_samples_leaf=4, min_samples_split=2, n_estimators=1800; total time= 4.1min\n",
      "[CV] END bootstrap=False, max_depth=None, max_features=auto, min_samples_leaf=2, min_samples_split=10, n_estimators=1400; total time= 7.4min\n",
      "[CV] END bootstrap=False, max_depth=None, max_features=auto, min_samples_leaf=2, min_samples_split=10, n_estimators=1400; total time= 7.4min\n",
      "[CV] END bootstrap=False, max_depth=None, max_features=auto, min_samples_leaf=2, min_samples_split=10, n_estimators=1400; total time= 7.4min\n",
      "[CV] END bootstrap=False, max_depth=None, max_features=auto, min_samples_leaf=2, min_samples_split=10, n_estimators=1400; total time= 7.4min\n",
      "[CV] END bootstrap=False, max_depth=60, max_features=sqrt, min_samples_leaf=1, min_samples_split=10, n_estimators=600; total time= 3.1min\n",
      "[CV] END bootstrap=False, max_depth=60, max_features=sqrt, min_samples_leaf=1, min_samples_split=10, n_estimators=600; total time= 3.1min\n",
      "[CV] END bootstrap=False, max_depth=60, max_features=sqrt, min_samples_leaf=1, min_samples_split=10, n_estimators=600; total time= 3.1min\n"
     ]
    },
    {
     "data": {
      "text/plain": [
       "RandomizedSearchCV(cv=4, estimator=RandomForestClassifier(random_state=1999),\n",
       "                   param_distributions={'bootstrap': [True, False],\n",
       "                                        'max_depth': [10, 20, 30, 40, 50, 60,\n",
       "                                                      70, 80, 90, 100, 110,\n",
       "                                                      None],\n",
       "                                        'max_features': ['auto', 'sqrt'],\n",
       "                                        'min_samples_leaf': [1, 2, 4],\n",
       "                                        'min_samples_split': [2, 5, 10],\n",
       "                                        'n_estimators': [200, 400, 600, 800,\n",
       "                                                         1000, 1200, 1400, 1600,\n",
       "                                                         1800, 2000]},\n",
       "                   random_state=1999, scoring='accuracy', verbose=2)"
      ]
     },
     "execution_count": 79,
     "metadata": {},
     "output_type": "execute_result"
    }
   ],
   "source": [
    "rfc = RandomForestClassifier(random_state=1999)\n",
    "rfc_random = RandomizedSearchCV(estimator = rfc, \n",
    "                                param_distributions = random_grid, \n",
    "                                n_iter = 10,\n",
    "                                scoring = 'accuracy',\n",
    "                                cv = 4, \n",
    "                                verbose=2, \n",
    "                                random_state=1999)\n",
    "\n",
    "# Fit the random search model\n",
    "rfc_random.fit(X_full_train_bow, y_full_train)"
   ]
  },
  {
   "cell_type": "code",
   "execution_count": 81,
   "id": "92821c79-26fd-4146-9e81-bc49d9279b84",
   "metadata": {},
   "outputs": [
    {
     "name": "stdout",
     "output_type": "stream",
     "text": [
      "Best Accuracy: 0.84852\n",
      "Best Parameters:  {'n_estimators': 600, 'min_samples_split': 10, 'min_samples_leaf': 1, 'max_features': 'sqrt', 'max_depth': 60, 'bootstrap': False}\n"
     ]
    }
   ],
   "source": [
    "print('Best Accuracy: %.5f' %rfc_random.best_score_)\n",
    "print('Best Parameters: ', rfc_random.best_params_)"
   ]
  },
  {
   "cell_type": "code",
   "execution_count": 82,
   "id": "3fa21e3b-09a7-4a2d-9246-94f9528ab59f",
   "metadata": {},
   "outputs": [
    {
     "name": "stdout",
     "output_type": "stream",
     "text": [
      "Fitting 4 folds for each of 10 candidates, totalling 40 fits\n",
      "[CV] END bootstrap=True, max_depth=20, max_features=auto, min_samples_leaf=4, min_samples_split=5, n_estimators=2000; total time= 2.2min\n",
      "[CV] END bootstrap=True, max_depth=20, max_features=auto, min_samples_leaf=4, min_samples_split=5, n_estimators=2000; total time= 2.2min\n",
      "[CV] END bootstrap=True, max_depth=20, max_features=auto, min_samples_leaf=4, min_samples_split=5, n_estimators=2000; total time= 2.2min\n",
      "[CV] END bootstrap=True, max_depth=20, max_features=auto, min_samples_leaf=4, min_samples_split=5, n_estimators=2000; total time= 2.3min\n",
      "[CV] END bootstrap=True, max_depth=None, max_features=auto, min_samples_leaf=4, min_samples_split=2, n_estimators=1200; total time= 4.1min\n",
      "[CV] END bootstrap=True, max_depth=None, max_features=auto, min_samples_leaf=4, min_samples_split=2, n_estimators=1200; total time= 4.1min\n",
      "[CV] END bootstrap=True, max_depth=None, max_features=auto, min_samples_leaf=4, min_samples_split=2, n_estimators=1200; total time= 4.1min\n",
      "[CV] END bootstrap=True, max_depth=None, max_features=auto, min_samples_leaf=4, min_samples_split=2, n_estimators=1200; total time= 4.1min\n",
      "[CV] END bootstrap=True, max_depth=20, max_features=sqrt, min_samples_leaf=4, min_samples_split=5, n_estimators=800; total time=  53.7s\n",
      "[CV] END bootstrap=True, max_depth=20, max_features=sqrt, min_samples_leaf=4, min_samples_split=5, n_estimators=800; total time=  53.5s\n",
      "[CV] END bootstrap=True, max_depth=20, max_features=sqrt, min_samples_leaf=4, min_samples_split=5, n_estimators=800; total time=  52.7s\n",
      "[CV] END bootstrap=True, max_depth=20, max_features=sqrt, min_samples_leaf=4, min_samples_split=5, n_estimators=800; total time=  54.0s\n",
      "[CV] END bootstrap=True, max_depth=10, max_features=auto, min_samples_leaf=1, min_samples_split=5, n_estimators=1800; total time=  49.3s\n",
      "[CV] END bootstrap=True, max_depth=10, max_features=auto, min_samples_leaf=1, min_samples_split=5, n_estimators=1800; total time=  49.2s\n",
      "[CV] END bootstrap=True, max_depth=10, max_features=auto, min_samples_leaf=1, min_samples_split=5, n_estimators=1800; total time=  49.4s\n",
      "[CV] END bootstrap=True, max_depth=10, max_features=auto, min_samples_leaf=1, min_samples_split=5, n_estimators=1800; total time=  49.5s\n",
      "[CV] END bootstrap=False, max_depth=50, max_features=sqrt, min_samples_leaf=2, min_samples_split=10, n_estimators=1400; total time= 6.8min\n",
      "[CV] END bootstrap=False, max_depth=50, max_features=sqrt, min_samples_leaf=2, min_samples_split=10, n_estimators=1400; total time= 6.7min\n",
      "[CV] END bootstrap=False, max_depth=50, max_features=sqrt, min_samples_leaf=2, min_samples_split=10, n_estimators=1400; total time= 6.8min\n",
      "[CV] END bootstrap=False, max_depth=50, max_features=sqrt, min_samples_leaf=2, min_samples_split=10, n_estimators=1400; total time= 6.8min\n",
      "[CV] END bootstrap=False, max_depth=None, max_features=sqrt, min_samples_leaf=4, min_samples_split=2, n_estimators=2000; total time= 9.4min\n",
      "[CV] END bootstrap=False, max_depth=None, max_features=sqrt, min_samples_leaf=4, min_samples_split=2, n_estimators=2000; total time= 9.4min\n",
      "[CV] END bootstrap=False, max_depth=None, max_features=sqrt, min_samples_leaf=4, min_samples_split=2, n_estimators=2000; total time= 9.4min\n",
      "[CV] END bootstrap=False, max_depth=None, max_features=sqrt, min_samples_leaf=4, min_samples_split=2, n_estimators=2000; total time= 9.4min\n",
      "[CV] END bootstrap=False, max_depth=10, max_features=sqrt, min_samples_leaf=1, min_samples_split=2, n_estimators=1800; total time= 1.1min\n",
      "[CV] END bootstrap=False, max_depth=10, max_features=sqrt, min_samples_leaf=1, min_samples_split=2, n_estimators=1800; total time= 1.1min\n",
      "[CV] END bootstrap=False, max_depth=10, max_features=sqrt, min_samples_leaf=1, min_samples_split=2, n_estimators=1800; total time= 1.1min\n",
      "[CV] END bootstrap=False, max_depth=10, max_features=sqrt, min_samples_leaf=1, min_samples_split=2, n_estimators=1800; total time= 1.1min\n",
      "[CV] END bootstrap=False, max_depth=30, max_features=sqrt, min_samples_leaf=4, min_samples_split=2, n_estimators=1800; total time= 4.8min\n",
      "[CV] END bootstrap=False, max_depth=30, max_features=sqrt, min_samples_leaf=4, min_samples_split=2, n_estimators=1800; total time= 4.9min\n",
      "[CV] END bootstrap=False, max_depth=30, max_features=sqrt, min_samples_leaf=4, min_samples_split=2, n_estimators=1800; total time= 4.8min\n",
      "[CV] END bootstrap=False, max_depth=30, max_features=sqrt, min_samples_leaf=4, min_samples_split=2, n_estimators=1800; total time= 4.9min\n",
      "[CV] END bootstrap=False, max_depth=None, max_features=auto, min_samples_leaf=2, min_samples_split=10, n_estimators=1400; total time= 8.4min\n",
      "[CV] END bootstrap=False, max_depth=None, max_features=auto, min_samples_leaf=2, min_samples_split=10, n_estimators=1400; total time= 8.4min\n",
      "[CV] END bootstrap=False, max_depth=None, max_features=auto, min_samples_leaf=2, min_samples_split=10, n_estimators=1400; total time= 8.4min\n",
      "[CV] END bootstrap=False, max_depth=None, max_features=auto, min_samples_leaf=2, min_samples_split=10, n_estimators=1400; total time= 8.4min\n",
      "[CV] END bootstrap=False, max_depth=60, max_features=sqrt, min_samples_leaf=1, min_samples_split=10, n_estimators=600; total time= 3.5min\n",
      "[CV] END bootstrap=False, max_depth=60, max_features=sqrt, min_samples_leaf=1, min_samples_split=10, n_estimators=600; total time= 3.4min\n",
      "[CV] END bootstrap=False, max_depth=60, max_features=sqrt, min_samples_leaf=1, min_samples_split=10, n_estimators=600; total time= 3.4min\n",
      "[CV] END bootstrap=False, max_depth=60, max_features=sqrt, min_samples_leaf=1, min_samples_split=10, n_estimators=600; total time= 3.4min\n"
     ]
    },
    {
     "data": {
      "text/plain": [
       "RandomizedSearchCV(cv=4, estimator=RandomForestClassifier(random_state=1999),\n",
       "                   param_distributions={'bootstrap': [True, False],\n",
       "                                        'max_depth': [10, 20, 30, 40, 50, 60,\n",
       "                                                      70, 80, 90, 100, 110,\n",
       "                                                      None],\n",
       "                                        'max_features': ['auto', 'sqrt'],\n",
       "                                        'min_samples_leaf': [1, 2, 4],\n",
       "                                        'min_samples_split': [2, 5, 10],\n",
       "                                        'n_estimators': [200, 400, 600, 800,\n",
       "                                                         1000, 1200, 1400, 1600,\n",
       "                                                         1800, 2000]},\n",
       "                   random_state=1999, scoring='accuracy', verbose=2)"
      ]
     },
     "execution_count": 82,
     "metadata": {},
     "output_type": "execute_result"
    }
   ],
   "source": [
    "rfc2 = RandomForestClassifier(random_state=1999)\n",
    "rfc_random2 = RandomizedSearchCV(estimator = rfc2, \n",
    "                                param_distributions = random_grid, \n",
    "                                n_iter = 10,\n",
    "                                scoring = 'accuracy',\n",
    "                                cv = 4, \n",
    "                                verbose=2, \n",
    "                                random_state=1999)\n",
    "\n",
    "# Fit the random search model\n",
    "rfc_random2.fit(X_full_train_tf, y_full_train)"
   ]
  },
  {
   "cell_type": "code",
   "execution_count": 84,
   "id": "1626f5cb-aabb-43e8-aef4-b0317a35492e",
   "metadata": {},
   "outputs": [
    {
     "name": "stdout",
     "output_type": "stream",
     "text": [
      "Best Accuracy: 0.84772\n",
      "Best Parameters:  {'n_estimators': 600, 'min_samples_split': 10, 'min_samples_leaf': 1, 'max_features': 'sqrt', 'max_depth': 60, 'bootstrap': False}\n"
     ]
    }
   ],
   "source": [
    "print('Best Accuracy: %.5f' %rfc_random2.best_score_)\n",
    "print('Best Parameters: ', rfc_random2.best_params_)"
   ]
  },
  {
   "cell_type": "markdown",
   "id": "6c9431aa-97e4-4f73-b3e9-a5a0594cfb87",
   "metadata": {},
   "source": [
    ">> # Fitting with the best parameters"
   ]
  },
  {
   "cell_type": "code",
   "execution_count": 86,
   "id": "475ecf78-8554-47d8-a15e-7ef4db76e6bf",
   "metadata": {},
   "outputs": [],
   "source": [
    "def rf_final(train, y_train, test, y_test):\n",
    "    rf = RandomForestClassifier(n_estimators= 600, min_samples_split= 10, min_samples_leaf=1, \n",
    "             max_features= 'sqrt', max_depth= 60, bootstrap= False)\n",
    "    rf.fit(train, y_train)\n",
    "    y_prediction_train = rf.predict_proba(train)[:, 1]\n",
    "    y_predicted_test = rf.predict_proba(test)[:,1]\n",
    "    train_acc = accuracy_score(y_train, (y_prediction_train >= 0.5))\n",
    "    test_acc = accuracy_score(y_test, (y_predicted_test >= 0.5))\n",
    "    return {'train_acc': train_acc, 'validation_acc': test_acc}"
   ]
  },
  {
   "cell_type": "code",
   "execution_count": 87,
   "id": "5d989497-b3d5-4d00-bffa-13cfee58e459",
   "metadata": {},
   "outputs": [
    {
     "data": {
      "text/plain": [
       "{'train_acc': 0.99608, 'validation_acc': 0.8536}"
      ]
     },
     "execution_count": 87,
     "metadata": {},
     "output_type": "execute_result"
    }
   ],
   "source": [
    "rf_final(X_full_train_bow, y_full_train, X_test_bow, y_test)"
   ]
  },
  {
   "cell_type": "code",
   "execution_count": 88,
   "id": "5da221f7-06d9-41d4-b694-53d5b6156533",
   "metadata": {},
   "outputs": [
    {
     "data": {
      "text/plain": [
       "{'train_acc': 0.9986, 'validation_acc': 0.852}"
      ]
     },
     "execution_count": 88,
     "metadata": {},
     "output_type": "execute_result"
    }
   ],
   "source": [
    "rf_final(X_full_train_tf, y_full_train, X_test_tf, y_test)"
   ]
  },
  {
   "cell_type": "markdown",
   "id": "1a9e4608-0612-4f7c-8ff3-dfb074474519",
   "metadata": {},
   "source": [
    "> # linear SVM"
   ]
  },
  {
   "cell_type": "code",
   "execution_count": 198,
   "id": "6548b040-cf2c-4545-94b3-f2659b2c36dd",
   "metadata": {},
   "outputs": [],
   "source": [
    "# standerizing the data for SVM usage using MaxAbsScaler which make standerize each feature indevidually to max value 1.0\n",
    "\n",
    "std_bow = MaxAbsScaler().fit(X_train_bow)\n",
    "standerized_validation_bow = std_bow.transform(X_validation_bow)\n",
    "standerized_train_bow = std_bow.transform(X_train_bow)\n",
    "\n",
    "std_tf = MaxAbsScaler().fit(X_train_tf)\n",
    "standerized_validation_tf = std_tf.transform(X_validation_tf)\n",
    "standerized_train_tf = std_tf.transform(X_train_tf)\n",
    "\n",
    "std_bow = MaxAbsScaler().fit(X_full_train_bow)\n",
    "standerized_test_bow = std_bow.transform(X_test_bow)\n",
    "standerized_full_train_bow = std_bow.transform(X_full_train_bow)\n",
    "\n",
    "std_tf = MaxAbsScaler().fit(X_full_train_tf)\n",
    "standerized_test_tf = std_tf.transform(X_test_tf)\n",
    "standerized_full_train_tf = std_tf.transform(X_full_train_tf)"
   ]
  },
  {
   "cell_type": "markdown",
   "id": "a94d7ae7-fa02-4b04-be3f-d50bedee4e65",
   "metadata": {},
   "source": [
    ">> # Quick protoType"
   ]
  },
  {
   "cell_type": "code",
   "execution_count": 229,
   "id": "645f286a-5e11-4c57-9050-4cac268a83a9",
   "metadata": {},
   "outputs": [],
   "source": [
    "def _svm(train, y_train, test, y_test, C=1.0):\n",
    "    svm = LinearSVC(max_iter=10000, C=C)\n",
    "    svm.fit(train, y_train)\n",
    "    y_prediction_train = svm.predict(train)\n",
    "    y_predicted_test = svm.predict(test)\n",
    "    train_acc = accuracy_score(y_train, (y_prediction_train >= 0.5))\n",
    "    test_acc = accuracy_score(y_test, (y_predicted_test >= 0.5))\n",
    "    return {'train_acc': train_acc, 'test_acc': test_acc}"
   ]
  },
  {
   "cell_type": "code",
   "execution_count": 200,
   "id": "1e5541f4-9a08-4c0b-bde0-0c534343fa07",
   "metadata": {},
   "outputs": [
    {
     "data": {
      "text/plain": [
       "{'train_acc': 0.9744444444444444, 'test_acc': 0.8528}"
      ]
     },
     "execution_count": 200,
     "metadata": {},
     "output_type": "execute_result"
    }
   ],
   "source": [
    "_svm(standerized_train_bow, y_train, standerized_validation_bow, y_validation)"
   ]
  },
  {
   "cell_type": "code",
   "execution_count": 201,
   "id": "1cf7e5a3-12e7-43e2-beca-daebe8666ca3",
   "metadata": {},
   "outputs": [
    {
     "data": {
      "text/plain": [
       "{'train_acc': 0.9815111111111111, 'test_acc': 0.844}"
      ]
     },
     "execution_count": 201,
     "metadata": {},
     "output_type": "execute_result"
    }
   ],
   "source": [
    "_svm(standerized_train_tf, y_train, standerized_validation_tf, y_validation)"
   ]
  },
  {
   "cell_type": "markdown",
   "id": "eb11c5b9-fa59-48ec-a4a2-272f355c9e3c",
   "metadata": {},
   "source": [
    ">> # Parameter Tunning"
   ]
  },
  {
   "cell_type": "code",
   "execution_count": null,
   "id": "26b2a8f9-9c9e-4045-8e29-bc7c62fce27c",
   "metadata": {},
   "outputs": [],
   "source": [
    "C = np.linspace(0.001, 1, 99)\n",
    "\n",
    "def svm_optmizer(train, y_train, test, y_test):\n",
    "    accs = []\n",
    "    for c in C:\n",
    "        acc = _svm(train, y_train, test, y_test, C=c)\n",
    "        accs.append((c, acc['train_acc'], acc['test_acc']))\n",
    "    return accs"
   ]
  },
  {
   "cell_type": "code",
   "execution_count": null,
   "id": "6a691d65-31d0-43a5-9ab7-ff50e2591d51",
   "metadata": {},
   "outputs": [],
   "source": [
    "bow_scores = svm_optmizer(standerized_train_bow, y_train, standerized_validation_bow, y_validation)"
   ]
  },
  {
   "cell_type": "code",
   "execution_count": null,
   "id": "41b3f2c4-c0bc-441f-961a-a53c3a72c78e",
   "metadata": {},
   "outputs": [],
   "source": [
    "tf_scores = svm_optmizer(standerized_train_tf, y_train, standerized_validation_tf, y_validation)"
   ]
  },
  {
   "cell_type": "code",
   "execution_count": null,
   "id": "b84b9540-4a56-4015-9453-b2fca0c861f7",
   "metadata": {},
   "outputs": [],
   "source": [
    "bow_scores_df = pd.DataFrame(bow_scores, columns=['C', 'train_acc', 'test_acc'])\n",
    "bow_scores_df"
   ]
  },
  {
   "cell_type": "code",
   "execution_count": null,
   "id": "d8863bfa-d00a-4f17-8b72-a8ce7f3cc20b",
   "metadata": {},
   "outputs": [],
   "source": [
    "plt.plot(bow_scores_df.C, bow_scores_df.train_acc, label='train')\n",
    "plt.plot(bow_scores_df.C, bow_scores_df.test_acc, label='train')"
   ]
  },
  {
   "cell_type": "code",
   "execution_count": null,
   "id": "da07e629-9998-41d3-baf5-9528578f8cab",
   "metadata": {},
   "outputs": [],
   "source": [
    "bow_scores_df.sort_values(ascending=False, by=['test_acc'])[:3]"
   ]
  },
  {
   "cell_type": "code",
   "execution_count": null,
   "id": "b0697ae3-67fc-44f2-a156-1e925e73da18",
   "metadata": {},
   "outputs": [],
   "source": [
    "tf_scores_df = pd.DataFrame(tf_scores, columns=['C', 'train_acc', 'test_acc'])\n",
    "tf_scores_df"
   ]
  },
  {
   "cell_type": "code",
   "execution_count": null,
   "id": "efc7d567-addc-4e92-b8cb-8c2854102227",
   "metadata": {},
   "outputs": [],
   "source": [
    "plt.plot(tf_scores_df.C, tf_scores_df.train_acc, label='train')\n",
    "plt.plot(tf_scores_df.C, tf_scores_df.test_acc, label='train')"
   ]
  },
  {
   "cell_type": "code",
   "execution_count": null,
   "id": "d9f04750-791d-4db1-8b5c-33ecd4d8abc8",
   "metadata": {},
   "outputs": [],
   "source": [
    "tf_scores_df.sort_values(ascending=False, by=['test_acc'])[:3]"
   ]
  },
  {
   "cell_type": "markdown",
   "id": "691db36b-6156-40bc-98f5-f6e783090c6a",
   "metadata": {},
   "source": [
    ">> # Fitting with best parameters"
   ]
  },
  {
   "cell_type": "code",
   "execution_count": null,
   "id": "e56f89e7-591c-42ec-a1ef-61eccefad4cf",
   "metadata": {},
   "outputs": [],
   "source": [
    "_svm(standerized_full_train_bow, y_full_train, standerized_test_bow, y_test, C=0.051969)"
   ]
  },
  {
   "cell_type": "code",
   "execution_count": null,
   "id": "1889c6be-c189-4bc5-8f3b-f92c214abd50",
   "metadata": {},
   "outputs": [],
   "source": [
    "_svm(standerized_full_train_tf, y_full_train, standerized_test_tf, y_test, C=0.041776)"
   ]
  },
  {
   "cell_type": "markdown",
   "id": "bd33d705-6b4e-4f7f-8d9c-b71343e63ee5",
   "metadata": {},
   "source": [
    "> # Non Linear SVM"
   ]
  },
  {
   "cell_type": "markdown",
   "id": "c14b7386-5d29-4c25-b922-67841b205285",
   "metadata": {},
   "source": [
    ">> # Quick prototype"
   ]
  },
  {
   "cell_type": "code",
   "execution_count": 228,
   "id": "776ca8da-45c2-43d5-a5ba-1599ea1161c5",
   "metadata": {},
   "outputs": [],
   "source": [
    "def _NLsvm(train, y_train, test, y_test, C=1.0):\n",
    "    svm = SVC(max_iter=10000, C=C)\n",
    "    svm.fit(train, y_train)\n",
    "    y_prediction_train = svm.predict(train)\n",
    "    y_predicted_test = svm.predict(test)\n",
    "    train_acc = accuracy_score(y_train, (y_prediction_train >= 0.5))\n",
    "    test_acc = accuracy_score(y_test, (y_predicted_test >= 0.5))\n",
    "    return {'train_acc': train_acc, 'test_acc': test_acc}"
   ]
  },
  {
   "cell_type": "code",
   "execution_count": 203,
   "id": "2d735db1-914c-4658-95db-05b084b72191",
   "metadata": {},
   "outputs": [
    {
     "name": "stderr",
     "output_type": "stream",
     "text": [
      "/opt/conda/lib/python3.7/site-packages/sklearn/svm/_base.py:289: ConvergenceWarning: Solver terminated early (max_iter=10000).  Consider pre-processing your data with StandardScaler or MinMaxScaler.\n",
      "  ConvergenceWarning,\n"
     ]
    },
    {
     "data": {
      "text/plain": [
       "{'train_acc': 0.9649777777777778, 'test_acc': 0.8692}"
      ]
     },
     "execution_count": 203,
     "metadata": {},
     "output_type": "execute_result"
    }
   ],
   "source": [
    "_NLsvm(standerized_train_bow, y_train, standerized_validation_bow, y_validation)"
   ]
  },
  {
   "cell_type": "code",
   "execution_count": 204,
   "id": "eda650b1-e24a-4d82-a131-a3f163cd4a5b",
   "metadata": {},
   "outputs": [
    {
     "name": "stderr",
     "output_type": "stream",
     "text": [
      "/opt/conda/lib/python3.7/site-packages/sklearn/svm/_base.py:289: ConvergenceWarning: Solver terminated early (max_iter=10000).  Consider pre-processing your data with StandardScaler or MinMaxScaler.\n",
      "  ConvergenceWarning,\n"
     ]
    },
    {
     "data": {
      "text/plain": [
       "{'train_acc': 0.9842222222222222, 'test_acc': 0.882}"
      ]
     },
     "execution_count": 204,
     "metadata": {},
     "output_type": "execute_result"
    }
   ],
   "source": [
    "_NLsvm(standerized_train_tf, y_train, standerized_validation_tf, y_validation)"
   ]
  },
  {
   "cell_type": "markdown",
   "id": "c863a01a-1c98-4b25-8372-b4abe1bfe3fe",
   "metadata": {},
   "source": [
    ">> # final Testing"
   ]
  },
  {
   "cell_type": "code",
   "execution_count": null,
   "id": "741b9c70-c8f8-435e-b156-d9665aeeeccf",
   "metadata": {},
   "outputs": [],
   "source": [
    "_NLsvm(standerized_full_train_bow, y_full_train, standerized_test_bow, y_test)"
   ]
  },
  {
   "cell_type": "code",
   "execution_count": null,
   "id": "97a19379-bf16-495d-a86d-b74ddff8a0c8",
   "metadata": {},
   "outputs": [],
   "source": [
    "_NLsvm(standerized_full_train_tf, y_full_train, standerized_test_tf, y_test)"
   ]
  },
  {
   "cell_type": "markdown",
   "id": "Q3FxhE9CYBfF",
   "metadata": {
    "id": "Q3FxhE9CYBfF"
   },
   "source": [
    "> # Boosting\n",
    ">> # Quick proto type"
   ]
  },
  {
   "cell_type": "code",
   "execution_count": 205,
   "id": "5l4illgbS-Ra",
   "metadata": {
    "id": "5l4illgbS-Ra"
   },
   "outputs": [],
   "source": [
    "dtrain_tf = xgb.DMatrix(data=X_train_tf, label=y_train)\n",
    "xgb_params = {\n",
    "    'eta': 0.01, \n",
    "    'max_depth': 6,\n",
    "    'min_child_weight': 1,\n",
    "    \n",
    "    'objective': 'binary:logistic',\n",
    "    'nthread': 8,\n",
    "    \n",
    "    'seed': 1,\n",
    "    'verbosity': 1,\n",
    "    'eval_metric': 'auc'\n",
    "}\n",
    "\n",
    "xdg_tf = xgb.train(xgb_params, dtrain_tf, num_boost_round=100)"
   ]
  },
  {
   "cell_type": "code",
   "execution_count": 206,
   "id": "Tme3IFkvZL08",
   "metadata": {
    "id": "Tme3IFkvZL08"
   },
   "outputs": [],
   "source": [
    "y_predicted_train_tf = xdg_tf.predict(dtrain_tf)"
   ]
  },
  {
   "cell_type": "code",
   "execution_count": 207,
   "id": "IqoD_Hl3ZFn4",
   "metadata": {
    "colab": {
     "base_uri": "https://localhost:8080/"
    },
    "id": "IqoD_Hl3ZFn4",
    "outputId": "b159b032-9a88-4843-f993-2943d1695a09"
   },
   "outputs": [
    {
     "data": {
      "text/plain": [
       "0.7680888888888889"
      ]
     },
     "execution_count": 207,
     "metadata": {},
     "output_type": "execute_result"
    }
   ],
   "source": [
    "accuracy_score(y_train, (y_predicted_train_tf >= 0.5))"
   ]
  },
  {
   "cell_type": "code",
   "execution_count": 208,
   "id": "ThwP46MBS-Ug",
   "metadata": {
    "id": "ThwP46MBS-Ug"
   },
   "outputs": [],
   "source": [
    "dvalidation_tf = xgb.DMatrix(data=X_validation_tf, label=y_validation)"
   ]
  },
  {
   "cell_type": "code",
   "execution_count": 209,
   "id": "69X9RKnpat1L",
   "metadata": {
    "id": "69X9RKnpat1L"
   },
   "outputs": [],
   "source": [
    "y_predicted_validate_tf = xdg_tf.predict(dvalidation_tf)"
   ]
  },
  {
   "cell_type": "code",
   "execution_count": 210,
   "id": "yyGR6dn8ZHhd",
   "metadata": {
    "colab": {
     "base_uri": "https://localhost:8080/"
    },
    "id": "yyGR6dn8ZHhd",
    "outputId": "c64c2d53-3168-48a9-a4d8-4552bfb8ade7"
   },
   "outputs": [
    {
     "data": {
      "text/plain": [
       "0.7456"
      ]
     },
     "execution_count": 210,
     "metadata": {},
     "output_type": "execute_result"
    }
   ],
   "source": [
    "accuracy_score(y_validation, (y_predicted_validate_tf >= 0.5))"
   ]
  },
  {
   "cell_type": "markdown",
   "id": "8b78634f-3ba5-450a-a51c-606c84713a0e",
   "metadata": {},
   "source": [
    ">> # final test"
   ]
  },
  {
   "cell_type": "code",
   "execution_count": 95,
   "id": "8ac8b1bc-7de0-4b60-82bd-1e59587358dc",
   "metadata": {},
   "outputs": [],
   "source": [
    "dtrain_tf = xgb.DMatrix(data=X_full_train_tf, label=y_full_train)\n",
    "xgb_params = {\n",
    "    'eta': 0.01, \n",
    "    'max_depth': 6,\n",
    "    'min_child_weight': 1,\n",
    "    \n",
    "    'objective': 'binary:logistic',\n",
    "    'nthread': 8,\n",
    "    \n",
    "    'seed': 1,\n",
    "    'verbosity': 1,\n",
    "    'eval_metric': 'auc'\n",
    "}\n",
    "\n",
    "xdg_tf = xgb.train(xgb_params, dtrain_tf, num_boost_round=100)"
   ]
  },
  {
   "cell_type": "code",
   "execution_count": 96,
   "id": "a7c2981a-c718-46e2-98dc-3009e45ed06d",
   "metadata": {},
   "outputs": [],
   "source": [
    "y_predicted_train_tf = xdg_tf.predict(dtrain_tf)"
   ]
  },
  {
   "cell_type": "code",
   "execution_count": 98,
   "id": "b7d1a895-3597-4d73-99be-e8ad0e9223a3",
   "metadata": {},
   "outputs": [
    {
     "data": {
      "text/plain": [
       "0.76376"
      ]
     },
     "execution_count": 98,
     "metadata": {},
     "output_type": "execute_result"
    }
   ],
   "source": [
    "accuracy_score(y_full_train, (y_predicted_train_tf >= 0.5))"
   ]
  },
  {
   "cell_type": "code",
   "execution_count": 99,
   "id": "2945353e-7e62-4816-95f4-1fe39e551d6d",
   "metadata": {},
   "outputs": [],
   "source": [
    "dtest_tf = xgb.DMatrix(data=X_test_tf, label=y_test)"
   ]
  },
  {
   "cell_type": "code",
   "execution_count": 100,
   "id": "5af27796-bcba-40c4-8586-8202dc53f97e",
   "metadata": {},
   "outputs": [],
   "source": [
    "y_predicted_test_tf = xdg_tf.predict(dtest_tf)"
   ]
  },
  {
   "cell_type": "code",
   "execution_count": 102,
   "id": "4a1b1159-ebb3-44b6-a427-f4ed1209487a",
   "metadata": {},
   "outputs": [
    {
     "data": {
      "text/plain": [
       "0.75128"
      ]
     },
     "execution_count": 102,
     "metadata": {},
     "output_type": "execute_result"
    }
   ],
   "source": [
    "accuracy_score(y_test, (y_predicted_test_tf >= 0.5))"
   ]
  },
  {
   "cell_type": "code",
   "execution_count": null,
   "id": "3338af14-a0c6-4bb3-b6e3-4407c695db8f",
   "metadata": {},
   "outputs": [],
   "source": []
  },
  {
   "cell_type": "markdown",
   "id": "79551093-666e-4f5c-a19b-2cc8be97cf14",
   "metadata": {},
   "source": [
    "# Feature number effect"
   ]
  },
  {
   "cell_type": "code",
   "execution_count": 226,
   "id": "04de1812-9e45-43be-809a-7cf056f68cb8",
   "metadata": {},
   "outputs": [],
   "source": [
    "functions = {\n",
    "    'knn': KNN_proto, \n",
    "    'naive bayes': Naive_proto,\n",
    "    'logistic regression': log_proto, \n",
    "    'Linear SVM': _svm, \n",
    "    'non Linear SVM': _NLsvm, \n",
    "    'Random Forest': rf_proto\n",
    "}"
   ]
  },
  {
   "cell_type": "code",
   "execution_count": 236,
   "id": "acdcb329-b410-4ae3-85d4-57eb7e50727a",
   "metadata": {},
   "outputs": [],
   "source": [
    "def feature_based_Accs():\n",
    "    collected_data = []\n",
    "    for feature_no in tqdm([i for i in range(4000, 26000, 2000)]):\n",
    "        tf = TfidfVectorizer(max_features=feature_no).fit(X_train)\n",
    "        X_train_tf = tf.transform(X_train)\n",
    "        X_validation_tf = tf.transform(X_validation)\n",
    "        \n",
    "        for algo_name, algo in tqdm(functions.items()):\n",
    "            result = algo(X_train_tf, y_train, X_validation_tf, y_validation)\n",
    "            collected_data.append((feature_no, algo_name, result['train_acc'], result['test_acc']))\n",
    "    return collected_data"
   ]
  },
  {
   "cell_type": "code",
   "execution_count": 237,
   "id": "4763372e-3f69-481a-90c2-679dbe254bcd",
   "metadata": {},
   "outputs": [
    {
     "data": {
      "application/vnd.jupyter.widget-view+json": {
       "model_id": "5b11907d416c46ba83567c019a245ed1",
       "version_major": 2,
       "version_minor": 0
      },
      "text/plain": [
       "  0%|          | 0/11 [00:00<?, ?it/s]"
      ]
     },
     "metadata": {},
     "output_type": "display_data"
    },
    {
     "data": {
      "application/vnd.jupyter.widget-view+json": {
       "model_id": "b02cd0affef54b42929003f66bbb934a",
       "version_major": 2,
       "version_minor": 0
      },
      "text/plain": [
       "  0%|          | 0/6 [00:00<?, ?it/s]"
      ]
     },
     "metadata": {},
     "output_type": "display_data"
    },
    {
     "data": {
      "application/vnd.jupyter.widget-view+json": {
       "model_id": "9b943019ce2f477d8824be7f158bf966",
       "version_major": 2,
       "version_minor": 0
      },
      "text/plain": [
       "  0%|          | 0/6 [00:00<?, ?it/s]"
      ]
     },
     "metadata": {},
     "output_type": "display_data"
    },
    {
     "data": {
      "application/vnd.jupyter.widget-view+json": {
       "model_id": "e953c1ca4f7c4f428886afcb656854c8",
       "version_major": 2,
       "version_minor": 0
      },
      "text/plain": [
       "  0%|          | 0/6 [00:00<?, ?it/s]"
      ]
     },
     "metadata": {},
     "output_type": "display_data"
    },
    {
     "data": {
      "application/vnd.jupyter.widget-view+json": {
       "model_id": "41fe4e60aba243788a3fb742378ffbc5",
       "version_major": 2,
       "version_minor": 0
      },
      "text/plain": [
       "  0%|          | 0/6 [00:00<?, ?it/s]"
      ]
     },
     "metadata": {},
     "output_type": "display_data"
    },
    {
     "data": {
      "application/vnd.jupyter.widget-view+json": {
       "model_id": "8aa0101c2e004cf7b075c7afc6d31938",
       "version_major": 2,
       "version_minor": 0
      },
      "text/plain": [
       "  0%|          | 0/6 [00:00<?, ?it/s]"
      ]
     },
     "metadata": {},
     "output_type": "display_data"
    },
    {
     "data": {
      "application/vnd.jupyter.widget-view+json": {
       "model_id": "c55a0a899a7b47d68cc9e6deb6fce492",
       "version_major": 2,
       "version_minor": 0
      },
      "text/plain": [
       "  0%|          | 0/6 [00:00<?, ?it/s]"
      ]
     },
     "metadata": {},
     "output_type": "display_data"
    },
    {
     "data": {
      "application/vnd.jupyter.widget-view+json": {
       "model_id": "d1872fcc381a4a55a07e0e1849a3ebe3",
       "version_major": 2,
       "version_minor": 0
      },
      "text/plain": [
       "  0%|          | 0/6 [00:00<?, ?it/s]"
      ]
     },
     "metadata": {},
     "output_type": "display_data"
    },
    {
     "data": {
      "application/vnd.jupyter.widget-view+json": {
       "model_id": "5bada346e7a94e2abc377172a0a93c05",
       "version_major": 2,
       "version_minor": 0
      },
      "text/plain": [
       "  0%|          | 0/6 [00:00<?, ?it/s]"
      ]
     },
     "metadata": {},
     "output_type": "display_data"
    },
    {
     "data": {
      "application/vnd.jupyter.widget-view+json": {
       "model_id": "926f4d21b980439fb698075e8009849c",
       "version_major": 2,
       "version_minor": 0
      },
      "text/plain": [
       "  0%|          | 0/6 [00:00<?, ?it/s]"
      ]
     },
     "metadata": {},
     "output_type": "display_data"
    },
    {
     "data": {
      "application/vnd.jupyter.widget-view+json": {
       "model_id": "1e0bf2400b3547f29637c38c677e6dea",
       "version_major": 2,
       "version_minor": 0
      },
      "text/plain": [
       "  0%|          | 0/6 [00:00<?, ?it/s]"
      ]
     },
     "metadata": {},
     "output_type": "display_data"
    },
    {
     "data": {
      "application/vnd.jupyter.widget-view+json": {
       "model_id": "02867dec59f7461494b5c1a58f2dfa34",
       "version_major": 2,
       "version_minor": 0
      },
      "text/plain": [
       "  0%|          | 0/6 [00:00<?, ?it/s]"
      ]
     },
     "metadata": {},
     "output_type": "display_data"
    },
    {
     "data": {
      "text/plain": [
       "[(4000, 'knn', 0.8676888888888888, 0.746),\n",
       " (4000, 'naive bayes', 0.8656888888888888, 0.8528),\n",
       " (4000, 'logistic regression', 0.906, 0.876),\n",
       " (4000, 'Linear SVM', 0.9302666666666667, 0.8684),\n",
       " (4000, 'non Linear SVM', 0.9804444444444445, 0.8808),\n",
       " (4000, 'Random Forest', 1.0, 0.8328),\n",
       " (6000, 'knn', 0.8692, 0.7484),\n",
       " (6000, 'naive bayes', 0.8718666666666667, 0.8648),\n",
       " (6000, 'logistic regression', 0.9108, 0.8804),\n",
       " (6000, 'Linear SVM', 0.9487111111111111, 0.8796),\n",
       " (6000, 'non Linear SVM', 0.9831555555555556, 0.886),\n",
       " (6000, 'Random Forest', 1.0, 0.8356),\n",
       " (8000, 'knn', 0.8708444444444444, 0.7592),\n",
       " (8000, 'naive bayes', 0.8778222222222222, 0.8672),\n",
       " (8000, 'logistic regression', 0.9140888888888888, 0.882),\n",
       " (8000, 'Linear SVM', 0.9579111111111112, 0.8788),\n",
       " (8000, 'non Linear SVM', 0.9841333333333333, 0.8856),\n",
       " (8000, 'Random Forest', 1.0, 0.8348),\n",
       " (10000, 'knn', 0.8713333333333333, 0.7516),\n",
       " (10000, 'naive bayes', 0.8818666666666667, 0.8684),\n",
       " (10000, 'logistic regression', 0.9155555555555556, 0.8824),\n",
       " (10000, 'Linear SVM', 0.9629333333333333, 0.8808),\n",
       " (10000, 'non Linear SVM', 0.9846666666666667, 0.8888),\n",
       " (10000, 'Random Forest', 1.0, 0.8376),\n",
       " (12000, 'knn', 0.8709777777777777, 0.7552),\n",
       " (12000, 'naive bayes', 0.8847555555555555, 0.8692),\n",
       " (12000, 'logistic regression', 0.9162666666666667, 0.8824),\n",
       " (12000, 'Linear SVM', 0.9653777777777778, 0.878),\n",
       " (12000, 'non Linear SVM', 0.9849777777777777, 0.8888),\n",
       " (12000, 'Random Forest', 1.0, 0.8304),\n",
       " (14000, 'knn', 0.8724444444444445, 0.754),\n",
       " (14000, 'naive bayes', 0.8866222222222222, 0.8692),\n",
       " (14000, 'logistic regression', 0.9167111111111111, 0.882),\n",
       " (14000, 'Linear SVM', 0.9678666666666667, 0.8768),\n",
       " (14000, 'non Linear SVM', 0.9855111111111111, 0.8892),\n",
       " (14000, 'Random Forest', 1.0, 0.8396),\n",
       " (16000, 'knn', 0.8718222222222223, 0.7524),\n",
       " (16000, 'naive bayes', 0.8879555555555556, 0.868),\n",
       " (16000, 'logistic regression', 0.9172, 0.8816),\n",
       " (16000, 'Linear SVM', 0.9694666666666667, 0.8768),\n",
       " (16000, 'non Linear SVM', 0.9855555555555555, 0.8888),\n",
       " (16000, 'Random Forest', 1.0, 0.8396),\n",
       " (18000, 'knn', 0.8718222222222223, 0.7516),\n",
       " (18000, 'naive bayes', 0.8892, 0.8688),\n",
       " (18000, 'logistic regression', 0.9178666666666667, 0.8812),\n",
       " (18000, 'Linear SVM', 0.9706666666666667, 0.8784),\n",
       " (18000, 'non Linear SVM', 0.9859555555555556, 0.8884),\n",
       " (18000, 'Random Forest', 1.0, 0.8396),\n",
       " (20000, 'knn', 0.8714666666666666, 0.7528),\n",
       " (20000, 'naive bayes', 0.8897777777777778, 0.868),\n",
       " (20000, 'logistic regression', 0.9179555555555555, 0.8808),\n",
       " (20000, 'Linear SVM', 0.9712444444444445, 0.8796),\n",
       " (20000, 'non Linear SVM', 0.9858222222222223, 0.8884),\n",
       " (20000, 'Random Forest', 1.0, 0.8432),\n",
       " (22000, 'knn', 0.8715555555555555, 0.7524),\n",
       " (22000, 'naive bayes', 0.8903111111111112, 0.8676),\n",
       " (22000, 'logistic regression', 0.9181777777777778, 0.8812),\n",
       " (22000, 'Linear SVM', 0.9712444444444445, 0.8804),\n",
       " (22000, 'non Linear SVM', 0.9856888888888888, 0.8884),\n",
       " (22000, 'Random Forest', 1.0, 0.836),\n",
       " (24000, 'knn', 0.8717333333333334, 0.7528),\n",
       " (24000, 'naive bayes', 0.8908, 0.8676),\n",
       " (24000, 'logistic regression', 0.9181333333333334, 0.8816),\n",
       " (24000, 'Linear SVM', 0.9713333333333334, 0.8796),\n",
       " (24000, 'non Linear SVM', 0.9858666666666667, 0.8888),\n",
       " (24000, 'Random Forest', 1.0, 0.8392)]"
      ]
     },
     "execution_count": 237,
     "metadata": {},
     "output_type": "execute_result"
    }
   ],
   "source": [
    "feature_based_Accs()"
   ]
  },
  {
   "cell_type": "code",
   "execution_count": 238,
   "id": "d999a992-8433-436e-b04a-a4432c336d19",
   "metadata": {},
   "outputs": [],
   "source": [
    "collected_data = [(4000, 'knn', 0.8676888888888888, 0.746),\n",
    " (4000, 'naive bayes', 0.8656888888888888, 0.8528),\n",
    " (4000, 'logistic regression', 0.906, 0.876),\n",
    " (4000, 'Linear SVM', 0.9302666666666667, 0.8684),\n",
    " (4000, 'non Linear SVM', 0.9804444444444445, 0.8808),\n",
    " (4000, 'Random Forest', 1.0, 0.8328),\n",
    " (6000, 'knn', 0.8692, 0.7484),\n",
    " (6000, 'naive bayes', 0.8718666666666667, 0.8648),\n",
    " (6000, 'logistic regression', 0.9108, 0.8804),\n",
    " (6000, 'Linear SVM', 0.9487111111111111, 0.8796),\n",
    " (6000, 'non Linear SVM', 0.9831555555555556, 0.886),\n",
    " (6000, 'Random Forest', 1.0, 0.8356),\n",
    " (8000, 'knn', 0.8708444444444444, 0.7592),\n",
    " (8000, 'naive bayes', 0.8778222222222222, 0.8672),\n",
    " (8000, 'logistic regression', 0.9140888888888888, 0.882),\n",
    " (8000, 'Linear SVM', 0.9579111111111112, 0.8788),\n",
    " (8000, 'non Linear SVM', 0.9841333333333333, 0.8856),\n",
    " (8000, 'Random Forest', 1.0, 0.8348),\n",
    " (10000, 'knn', 0.8713333333333333, 0.7516),\n",
    " (10000, 'naive bayes', 0.8818666666666667, 0.8684),\n",
    " (10000, 'logistic regression', 0.9155555555555556, 0.8824),\n",
    " (10000, 'Linear SVM', 0.9629333333333333, 0.8808),\n",
    " (10000, 'non Linear SVM', 0.9846666666666667, 0.8888),\n",
    " (10000, 'Random Forest', 1.0, 0.8376),\n",
    " (12000, 'knn', 0.8709777777777777, 0.7552),\n",
    " (12000, 'naive bayes', 0.8847555555555555, 0.8692),\n",
    " (12000, 'logistic regression', 0.9162666666666667, 0.8824),\n",
    " (12000, 'Linear SVM', 0.9653777777777778, 0.878),\n",
    " (12000, 'non Linear SVM', 0.9849777777777777, 0.8888),\n",
    " (12000, 'Random Forest', 1.0, 0.8304),\n",
    " (14000, 'knn', 0.8724444444444445, 0.754),\n",
    " (14000, 'naive bayes', 0.8866222222222222, 0.8692),\n",
    " (14000, 'logistic regression', 0.9167111111111111, 0.882),\n",
    " (14000, 'Linear SVM', 0.9678666666666667, 0.8768),\n",
    " (14000, 'non Linear SVM', 0.9855111111111111, 0.8892),\n",
    " (14000, 'Random Forest', 1.0, 0.8396),\n",
    " (16000, 'knn', 0.8718222222222223, 0.7524),\n",
    " (16000, 'naive bayes', 0.8879555555555556, 0.868),\n",
    " (16000, 'logistic regression', 0.9172, 0.8816),\n",
    " (16000, 'Linear SVM', 0.9694666666666667, 0.8768),\n",
    " (16000, 'non Linear SVM', 0.9855555555555555, 0.8888),\n",
    " (16000, 'Random Forest', 1.0, 0.8396),\n",
    " (18000, 'knn', 0.8718222222222223, 0.7516),\n",
    " (18000, 'naive bayes', 0.8892, 0.8688),\n",
    " (18000, 'logistic regression', 0.9178666666666667, 0.8812),\n",
    " (18000, 'Linear SVM', 0.9706666666666667, 0.8784),\n",
    " (18000, 'non Linear SVM', 0.9859555555555556, 0.8884),\n",
    " (18000, 'Random Forest', 1.0, 0.8396),\n",
    " (20000, 'knn', 0.8714666666666666, 0.7528),\n",
    " (20000, 'naive bayes', 0.8897777777777778, 0.868),\n",
    " (20000, 'logistic regression', 0.9179555555555555, 0.8808),\n",
    " (20000, 'Linear SVM', 0.9712444444444445, 0.8796),\n",
    " (20000, 'non Linear SVM', 0.9858222222222223, 0.8884),\n",
    " (20000, 'Random Forest', 1.0, 0.8432),\n",
    " (22000, 'knn', 0.8715555555555555, 0.7524),\n",
    " (22000, 'naive bayes', 0.8903111111111112, 0.8676),\n",
    " (22000, 'logistic regression', 0.9181777777777778, 0.8812),\n",
    " (22000, 'Linear SVM', 0.9712444444444445, 0.8804),\n",
    " (22000, 'non Linear SVM', 0.9856888888888888, 0.8884),\n",
    " (22000, 'Random Forest', 1.0, 0.836),\n",
    " (24000, 'knn', 0.8717333333333334, 0.7528),\n",
    " (24000, 'naive bayes', 0.8908, 0.8676),\n",
    " (24000, 'logistic regression', 0.9181333333333334, 0.8816),\n",
    " (24000, 'Linear SVM', 0.9713333333333334, 0.8796),\n",
    " (24000, 'non Linear SVM', 0.9858666666666667, 0.8888),\n",
    " (24000, 'Random Forest', 1.0, 0.8392)]"
   ]
  },
  {
   "cell_type": "code",
   "execution_count": 240,
   "id": "116cc411-0a50-438a-861c-ed4a124a97a7",
   "metadata": {},
   "outputs": [
    {
     "data": {
      "text/html": [
       "<div>\n",
       "<style scoped>\n",
       "    .dataframe tbody tr th:only-of-type {\n",
       "        vertical-align: middle;\n",
       "    }\n",
       "\n",
       "    .dataframe tbody tr th {\n",
       "        vertical-align: top;\n",
       "    }\n",
       "\n",
       "    .dataframe thead th {\n",
       "        text-align: right;\n",
       "    }\n",
       "</style>\n",
       "<table border=\"1\" class=\"dataframe\">\n",
       "  <thead>\n",
       "    <tr style=\"text-align: right;\">\n",
       "      <th></th>\n",
       "      <th>feature_no</th>\n",
       "      <th>algo_name</th>\n",
       "      <th>train_acc</th>\n",
       "      <th>test_acc</th>\n",
       "    </tr>\n",
       "  </thead>\n",
       "  <tbody>\n",
       "    <tr>\n",
       "      <th>0</th>\n",
       "      <td>4000</td>\n",
       "      <td>knn</td>\n",
       "      <td>0.867689</td>\n",
       "      <td>0.7460</td>\n",
       "    </tr>\n",
       "    <tr>\n",
       "      <th>1</th>\n",
       "      <td>4000</td>\n",
       "      <td>naive bayes</td>\n",
       "      <td>0.865689</td>\n",
       "      <td>0.8528</td>\n",
       "    </tr>\n",
       "    <tr>\n",
       "      <th>2</th>\n",
       "      <td>4000</td>\n",
       "      <td>logistic regression</td>\n",
       "      <td>0.906000</td>\n",
       "      <td>0.8760</td>\n",
       "    </tr>\n",
       "    <tr>\n",
       "      <th>3</th>\n",
       "      <td>4000</td>\n",
       "      <td>Linear SVM</td>\n",
       "      <td>0.930267</td>\n",
       "      <td>0.8684</td>\n",
       "    </tr>\n",
       "    <tr>\n",
       "      <th>4</th>\n",
       "      <td>4000</td>\n",
       "      <td>non Linear SVM</td>\n",
       "      <td>0.980444</td>\n",
       "      <td>0.8808</td>\n",
       "    </tr>\n",
       "    <tr>\n",
       "      <th>...</th>\n",
       "      <td>...</td>\n",
       "      <td>...</td>\n",
       "      <td>...</td>\n",
       "      <td>...</td>\n",
       "    </tr>\n",
       "    <tr>\n",
       "      <th>61</th>\n",
       "      <td>24000</td>\n",
       "      <td>naive bayes</td>\n",
       "      <td>0.890800</td>\n",
       "      <td>0.8676</td>\n",
       "    </tr>\n",
       "    <tr>\n",
       "      <th>62</th>\n",
       "      <td>24000</td>\n",
       "      <td>logistic regression</td>\n",
       "      <td>0.918133</td>\n",
       "      <td>0.8816</td>\n",
       "    </tr>\n",
       "    <tr>\n",
       "      <th>63</th>\n",
       "      <td>24000</td>\n",
       "      <td>Linear SVM</td>\n",
       "      <td>0.971333</td>\n",
       "      <td>0.8796</td>\n",
       "    </tr>\n",
       "    <tr>\n",
       "      <th>64</th>\n",
       "      <td>24000</td>\n",
       "      <td>non Linear SVM</td>\n",
       "      <td>0.985867</td>\n",
       "      <td>0.8888</td>\n",
       "    </tr>\n",
       "    <tr>\n",
       "      <th>65</th>\n",
       "      <td>24000</td>\n",
       "      <td>Random Forest</td>\n",
       "      <td>1.000000</td>\n",
       "      <td>0.8392</td>\n",
       "    </tr>\n",
       "  </tbody>\n",
       "</table>\n",
       "<p>66 rows × 4 columns</p>\n",
       "</div>"
      ],
      "text/plain": [
       "    feature_no            algo_name  train_acc  test_acc\n",
       "0         4000                  knn   0.867689    0.7460\n",
       "1         4000          naive bayes   0.865689    0.8528\n",
       "2         4000  logistic regression   0.906000    0.8760\n",
       "3         4000           Linear SVM   0.930267    0.8684\n",
       "4         4000       non Linear SVM   0.980444    0.8808\n",
       "..         ...                  ...        ...       ...\n",
       "61       24000          naive bayes   0.890800    0.8676\n",
       "62       24000  logistic regression   0.918133    0.8816\n",
       "63       24000           Linear SVM   0.971333    0.8796\n",
       "64       24000       non Linear SVM   0.985867    0.8888\n",
       "65       24000        Random Forest   1.000000    0.8392\n",
       "\n",
       "[66 rows x 4 columns]"
      ]
     },
     "execution_count": 240,
     "metadata": {},
     "output_type": "execute_result"
    }
   ],
   "source": [
    "df = pd.DataFrame(collected_data, columns=['feature_no', 'algo_name', 'train_acc', 'test_acc'])\n",
    "df"
   ]
  },
  {
   "cell_type": "code",
   "execution_count": 245,
   "id": "8e835014-d0c1-455a-953a-9638253699f3",
   "metadata": {},
   "outputs": [
    {
     "data": {
      "image/png": "[encoded data removed]",
      "text/plain": [
       "<Figure size 432x288 with 1 Axes>"
      ]
     },
     "metadata": {
      "needs_background": "light"
     },
     "output_type": "display_data"
    },
    {
     "data": {
      "image/png": "[encoded data removed]",
      "text/plain": [
       "<Figure size 432x288 with 1 Axes>"
      ]
     },
     "metadata": {
      "needs_background": "light"
     },
     "output_type": "display_data"
    },
    {
     "data": {
      "image/png": "[encoded data removed]",
      "text/plain": [
       "<Figure size 432x288 with 1 Axes>"
      ]
     },
     "metadata": {
      "needs_background": "light"
     },
     "output_type": "display_data"
    },
    {
     "data": {
      "image/png": "[encoded data removed]",
      "text/plain": [
       "<Figure size 432x288 with 1 Axes>"
      ]
     },
     "metadata": {
      "needs_background": "light"
     },
     "output_type": "display_data"
    },
    {
     "data": {
      "image/png": "[encoded data removed]",
      "text/plain": [
       "<Figure size 432x288 with 1 Axes>"
      ]
     },
     "metadata": {
      "needs_background": "light"
     },
     "output_type": "display_data"
    },
    {
     "data": {
      "image/png": "[encoded data removed]",
      "text/plain": [
       "<Figure size 432x288 with 1 Axes>"
      ]
     },
     "metadata": {
      "needs_background": "light"
     },
     "output_type": "display_data"
    }
   ],
   "source": [
    "for algo_name, group in df.groupby('algo_name'):\n",
    "    plt.plot(group['feature_no'], group['test_acc'], label=algo_name)\n",
    "    plt.legend()\n",
    "    plt.show()"
   ]
  },
  {
   "cell_type": "code",
   "execution_count": null,
   "id": "55e21aa7-5ec6-4c58-a3c5-e7a0e8e2ee2e",
   "metadata": {},
   "outputs": [],
   "source": []
  }
 ],
 "metadata": {
  "accelerator": "GPU",
  "celltoolbar": "Raw Cell Format",
  "colab": {
   "collapsed_sections": [
    "c0677f49"
   ],
   "name": "Movie Review Dataset2.ipynb",
   "provenance": []
  },
  "environment": {
   "kernel": "python3",
   "name": "common-cpu.m87",
   "type": "gcloud",
   "uri": "gcr.io/deeplearning-platform-release/base-cpu:m87"
  },
  "kernelspec": {
   "display_name": "Python 3",
   "language": "python",
   "name": "python3"
  },
  "language_info": {
   "codemirror_mode": {
    "name": "ipython",
    "version": 3
   },
   "file_extension": ".py",
   "mimetype": "text/x-python",
   "name": "python",
   "nbconvert_exporter": "python",
   "pygments_lexer": "ipython3",
   "version": "3.7.12"
  },
  "widgets": {
   "application/vnd.jupyter.widget-state+json": {
    "14f3c42a92b04b5f8e8d00152c28131f": {
     "model_module": "@jupyter-widgets/controls",
     "model_module_version": "1.5.0",
     "model_name": "HBoxModel",
     "state": {
      "_dom_classes": [],
      "_model_module": "@jupyter-widgets/controls",
      "_model_module_version": "1.5.0",
      "_model_name": "HBoxModel",
      "_view_count": null,
      "_view_module": "@jupyter-widgets/controls",
      "_view_module_version": "1.5.0",
      "_view_name": "HBoxView",
      "box_style": "",
      "children": [
       "IPY_MODEL_6a7a029a1898423197c5fc7e48848584",
       "IPY_MODEL_c8fc40e5cbf649c8953c7ca1ecea1a84",
       "IPY_MODEL_fe3935203e854ca086fe91681a1ee25b"
      ],
      "layout": "IPY_MODEL_2237da4e34e1471099d9ede55c391313"
     }
    },
    "200db1b778e2438f8a0cd792cb261c3a": {
     "model_module": "@jupyter-widgets/controls",
     "model_module_version": "1.5.0",
     "model_name": "FloatProgressModel",
     "state": {
      "_dom_classes": [],
      "_model_module": "@jupyter-widgets/controls",
      "_model_module_version": "1.5.0",
      "_model_name": "FloatProgressModel",
      "_view_count": null,
      "_view_module": "@jupyter-widgets/controls",
      "_view_module_version": "1.5.0",
      "_view_name": "ProgressView",
      "bar_style": "success",
      "description": "",
      "description_tooltip": null,
      "layout": "IPY_MODEL_5130dd3dd96b462e86423572aabe1a40",
      "max": 20,
      "min": 0,
      "orientation": "horizontal",
      "style": "IPY_MODEL_fe6e70e0a0cd44fc8777b9430861ea27",
      "value": 20
     }
    },
    "2237da4e34e1471099d9ede55c391313": {
     "model_module": "@jupyter-widgets/base",
     "model_module_version": "1.2.0",
     "model_name": "LayoutModel",
     "state": {
      "_model_module": "@jupyter-widgets/base",
      "_model_module_version": "1.2.0",
      "_model_name": "LayoutModel",
      "_view_count": null,
      "_view_module": "@jupyter-widgets/base",
      "_view_module_version": "1.2.0",
      "_view_name": "LayoutView",
      "align_content": null,
      "align_items": null,
      "align_self": null,
      "border": null,
      "bottom": null,
      "display": null,
      "flex": null,
      "flex_flow": null,
      "grid_area": null,
      "grid_auto_columns": null,
      "grid_auto_flow": null,
      "grid_auto_rows": null,
      "grid_column": null,
      "grid_gap": null,
      "grid_row": null,
      "grid_template_areas": null,
      "grid_template_columns": null,
      "grid_template_rows": null,
      "height": null,
      "justify_content": null,
      "justify_items": null,
      "left": null,
      "margin": null,
      "max_height": null,
      "max_width": null,
      "min_height": null,
      "min_width": null,
      "object_fit": null,
      "object_position": null,
      "order": null,
      "overflow": null,
      "overflow_x": null,
      "overflow_y": null,
      "padding": null,
      "right": null,
      "top": null,
      "visibility": null,
      "width": null
     }
    },
    "272b6dac8ef34e539fe28fdea7d28187": {
     "model_module": "@jupyter-widgets/controls",
     "model_module_version": "1.5.0",
     "model_name": "DescriptionStyleModel",
     "state": {
      "_model_module": "@jupyter-widgets/controls",
      "_model_module_version": "1.5.0",
      "_model_name": "DescriptionStyleModel",
      "_view_count": null,
      "_view_module": "@jupyter-widgets/base",
      "_view_module_version": "1.2.0",
      "_view_name": "StyleView",
      "description_width": ""
     }
    },
    "38244c3e91164b269e4c85b65bd1e6f2": {
     "model_module": "@jupyter-widgets/base",
     "model_module_version": "1.2.0",
     "model_name": "LayoutModel",
     "state": {
      "_model_module": "@jupyter-widgets/base",
      "_model_module_version": "1.2.0",
      "_model_name": "LayoutModel",
      "_view_count": null,
      "_view_module": "@jupyter-widgets/base",
      "_view_module_version": "1.2.0",
      "_view_name": "LayoutView",
      "align_content": null,
      "align_items": null,
      "align_self": null,
      "border": null,
      "bottom": null,
      "display": null,
      "flex": null,
      "flex_flow": null,
      "grid_area": null,
      "grid_auto_columns": null,
      "grid_auto_flow": null,
      "grid_auto_rows": null,
      "grid_column": null,
      "grid_gap": null,
      "grid_row": null,
      "grid_template_areas": null,
      "grid_template_columns": null,
      "grid_template_rows": null,
      "height": null,
      "justify_content": null,
      "justify_items": null,
      "left": null,
      "margin": null,
      "max_height": null,
      "max_width": null,
      "min_height": null,
      "min_width": null,
      "object_fit": null,
      "object_position": null,
      "order": null,
      "overflow": null,
      "overflow_x": null,
      "overflow_y": null,
      "padding": null,
      "right": null,
      "top": null,
      "visibility": null,
      "width": null
     }
    },
    "47c7a76ebd6f4b8a85e061acb70cbed6": {
     "model_module": "@jupyter-widgets/controls",
     "model_module_version": "1.5.0",
     "model_name": "ProgressStyleModel",
     "state": {
      "_model_module": "@jupyter-widgets/controls",
      "_model_module_version": "1.5.0",
      "_model_name": "ProgressStyleModel",
      "_view_count": null,
      "_view_module": "@jupyter-widgets/base",
      "_view_module_version": "1.2.0",
      "_view_name": "StyleView",
      "bar_color": null,
      "description_width": ""
     }
    },
    "494f6b5f6e914dbbb6b29d13d48ffee8": {
     "model_module": "@jupyter-widgets/controls",
     "model_module_version": "1.5.0",
     "model_name": "HTMLModel",
     "state": {
      "_dom_classes": [],
      "_model_module": "@jupyter-widgets/controls",
      "_model_module_version": "1.5.0",
      "_model_name": "HTMLModel",
      "_view_count": null,
      "_view_module": "@jupyter-widgets/controls",
      "_view_module_version": "1.5.0",
      "_view_name": "HTMLView",
      "description": "",
      "description_tooltip": null,
      "layout": "IPY_MODEL_38244c3e91164b269e4c85b65bd1e6f2",
      "placeholder": "​",
      "style": "IPY_MODEL_c89e30a5323a4b0d9b888d7608e062e4",
      "value": "100%"
     }
    },
    "4d6b935f16ec49dfb7d3f3f5491c06c0": {
     "model_module": "@jupyter-widgets/controls",
     "model_module_version": "1.5.0",
     "model_name": "DescriptionStyleModel",
     "state": {
      "_model_module": "@jupyter-widgets/controls",
      "_model_module_version": "1.5.0",
      "_model_name": "DescriptionStyleModel",
      "_view_count": null,
      "_view_module": "@jupyter-widgets/base",
      "_view_module_version": "1.2.0",
      "_view_name": "StyleView",
      "description_width": ""
     }
    },
    "5130dd3dd96b462e86423572aabe1a40": {
     "model_module": "@jupyter-widgets/base",
     "model_module_version": "1.2.0",
     "model_name": "LayoutModel",
     "state": {
      "_model_module": "@jupyter-widgets/base",
      "_model_module_version": "1.2.0",
      "_model_name": "LayoutModel",
      "_view_count": null,
      "_view_module": "@jupyter-widgets/base",
      "_view_module_version": "1.2.0",
      "_view_name": "LayoutView",
      "align_content": null,
      "align_items": null,
      "align_self": null,
      "border": null,
      "bottom": null,
      "display": null,
      "flex": null,
      "flex_flow": null,
      "grid_area": null,
      "grid_auto_columns": null,
      "grid_auto_flow": null,
      "grid_auto_rows": null,
      "grid_column": null,
      "grid_gap": null,
      "grid_row": null,
      "grid_template_areas": null,
      "grid_template_columns": null,
      "grid_template_rows": null,
      "height": null,
      "justify_content": null,
      "justify_items": null,
      "left": null,
      "margin": null,
      "max_height": null,
      "max_width": null,
      "min_height": null,
      "min_width": null,
      "object_fit": null,
      "object_position": null,
      "order": null,
      "overflow": null,
      "overflow_x": null,
      "overflow_y": null,
      "padding": null,
      "right": null,
      "top": null,
      "visibility": null,
      "width": null
     }
    },
    "67465126d0c047d089922f546c28e337": {
     "model_module": "@jupyter-widgets/base",
     "model_module_version": "1.2.0",
     "model_name": "LayoutModel",
     "state": {
      "_model_module": "@jupyter-widgets/base",
      "_model_module_version": "1.2.0",
      "_model_name": "LayoutModel",
      "_view_count": null,
      "_view_module": "@jupyter-widgets/base",
      "_view_module_version": "1.2.0",
      "_view_name": "LayoutView",
      "align_content": null,
      "align_items": null,
      "align_self": null,
      "border": null,
      "bottom": null,
      "display": null,
      "flex": null,
      "flex_flow": null,
      "grid_area": null,
      "grid_auto_columns": null,
      "grid_auto_flow": null,
      "grid_auto_rows": null,
      "grid_column": null,
      "grid_gap": null,
      "grid_row": null,
      "grid_template_areas": null,
      "grid_template_columns": null,
      "grid_template_rows": null,
      "height": null,
      "justify_content": null,
      "justify_items": null,
      "left": null,
      "margin": null,
      "max_height": null,
      "max_width": null,
      "min_height": null,
      "min_width": null,
      "object_fit": null,
      "object_position": null,
      "order": null,
      "overflow": null,
      "overflow_x": null,
      "overflow_y": null,
      "padding": null,
      "right": null,
      "top": null,
      "visibility": null,
      "width": null
     }
    },
    "6a7a029a1898423197c5fc7e48848584": {
     "model_module": "@jupyter-widgets/controls",
     "model_module_version": "1.5.0",
     "model_name": "HTMLModel",
     "state": {
      "_dom_classes": [],
      "_model_module": "@jupyter-widgets/controls",
      "_model_module_version": "1.5.0",
      "_model_name": "HTMLModel",
      "_view_count": null,
      "_view_module": "@jupyter-widgets/controls",
      "_view_module_version": "1.5.0",
      "_view_name": "HTMLView",
      "description": "",
      "description_tooltip": null,
      "layout": "IPY_MODEL_a04ac183f5cf42a991c1ed9a630a401c",
      "placeholder": "​",
      "style": "IPY_MODEL_ee4de82cbb3742758643a1dfc3173a92",
      "value": "100%"
     }
    },
    "7038e27defda4d8a8796de6737461a04": {
     "model_module": "@jupyter-widgets/base",
     "model_module_version": "1.2.0",
     "model_name": "LayoutModel",
     "state": {
      "_model_module": "@jupyter-widgets/base",
      "_model_module_version": "1.2.0",
      "_model_name": "LayoutModel",
      "_view_count": null,
      "_view_module": "@jupyter-widgets/base",
      "_view_module_version": "1.2.0",
      "_view_name": "LayoutView",
      "align_content": null,
      "align_items": null,
      "align_self": null,
      "border": null,
      "bottom": null,
      "display": null,
      "flex": null,
      "flex_flow": null,
      "grid_area": null,
      "grid_auto_columns": null,
      "grid_auto_flow": null,
      "grid_auto_rows": null,
      "grid_column": null,
      "grid_gap": null,
      "grid_row": null,
      "grid_template_areas": null,
      "grid_template_columns": null,
      "grid_template_rows": null,
      "height": null,
      "justify_content": null,
      "justify_items": null,
      "left": null,
      "margin": null,
      "max_height": null,
      "max_width": null,
      "min_height": null,
      "min_width": null,
      "object_fit": null,
      "object_position": null,
      "order": null,
      "overflow": null,
      "overflow_x": null,
      "overflow_y": null,
      "padding": null,
      "right": null,
      "top": null,
      "visibility": null,
      "width": null
     }
    },
    "768924c5a0a7474f822365f03ec91070": {
     "model_module": "@jupyter-widgets/controls",
     "model_module_version": "1.5.0",
     "model_name": "HBoxModel",
     "state": {
      "_dom_classes": [],
      "_model_module": "@jupyter-widgets/controls",
      "_model_module_version": "1.5.0",
      "_model_name": "HBoxModel",
      "_view_count": null,
      "_view_module": "@jupyter-widgets/controls",
      "_view_module_version": "1.5.0",
      "_view_name": "HBoxView",
      "box_style": "",
      "children": [
       "IPY_MODEL_fb9eeb6e584649cbba5914bc3db799a7",
       "IPY_MODEL_cbf6d5ae5d9f4f058ab21f39500b3ad7",
       "IPY_MODEL_dc7fb2bfbf094823962d1ee50820ea9a"
      ],
      "layout": "IPY_MODEL_e9ec01a9c66f4d8684812ec7a12df5a9"
     }
    },
    "a04ac183f5cf42a991c1ed9a630a401c": {
     "model_module": "@jupyter-widgets/base",
     "model_module_version": "1.2.0",
     "model_name": "LayoutModel",
     "state": {
      "_model_module": "@jupyter-widgets/base",
      "_model_module_version": "1.2.0",
      "_model_name": "LayoutModel",
      "_view_count": null,
      "_view_module": "@jupyter-widgets/base",
      "_view_module_version": "1.2.0",
      "_view_name": "LayoutView",
      "align_content": null,
      "align_items": null,
      "align_self": null,
      "border": null,
      "bottom": null,
      "display": null,
      "flex": null,
      "flex_flow": null,
      "grid_area": null,
      "grid_auto_columns": null,
      "grid_auto_flow": null,
      "grid_auto_rows": null,
      "grid_column": null,
      "grid_gap": null,
      "grid_row": null,
      "grid_template_areas": null,
      "grid_template_columns": null,
      "grid_template_rows": null,
      "height": null,
      "justify_content": null,
      "justify_items": null,
      "left": null,
      "margin": null,
      "max_height": null,
      "max_width": null,
      "min_height": null,
      "min_width": null,
      "object_fit": null,
      "object_position": null,
      "order": null,
      "overflow": null,
      "overflow_x": null,
      "overflow_y": null,
      "padding": null,
      "right": null,
      "top": null,
      "visibility": null,
      "width": null
     }
    },
    "c5ab7499460a45959325470d31408df6": {
     "model_module": "@jupyter-widgets/controls",
     "model_module_version": "1.5.0",
     "model_name": "HBoxModel",
     "state": {
      "_dom_classes": [],
      "_model_module": "@jupyter-widgets/controls",
      "_model_module_version": "1.5.0",
      "_model_name": "HBoxModel",
      "_view_count": null,
      "_view_module": "@jupyter-widgets/controls",
      "_view_module_version": "1.5.0",
      "_view_name": "HBoxView",
      "box_style": "",
      "children": [
       "IPY_MODEL_494f6b5f6e914dbbb6b29d13d48ffee8",
       "IPY_MODEL_200db1b778e2438f8a0cd792cb261c3a",
       "IPY_MODEL_e915cb91596d40c79c9a3faa31f89c0b"
      ],
      "layout": "IPY_MODEL_f2bd56caecbe4beea2354e44664d8ffd"
     }
    },
    "c601c1cb85c644efb77b05d4fc496800": {
     "model_module": "@jupyter-widgets/controls",
     "model_module_version": "1.5.0",
     "model_name": "DescriptionStyleModel",
     "state": {
      "_model_module": "@jupyter-widgets/controls",
      "_model_module_version": "1.5.0",
      "_model_name": "DescriptionStyleModel",
      "_view_count": null,
      "_view_module": "@jupyter-widgets/base",
      "_view_module_version": "1.2.0",
      "_view_name": "StyleView",
      "description_width": ""
     }
    },
    "c89e30a5323a4b0d9b888d7608e062e4": {
     "model_module": "@jupyter-widgets/controls",
     "model_module_version": "1.5.0",
     "model_name": "DescriptionStyleModel",
     "state": {
      "_model_module": "@jupyter-widgets/controls",
      "_model_module_version": "1.5.0",
      "_model_name": "DescriptionStyleModel",
      "_view_count": null,
      "_view_module": "@jupyter-widgets/base",
      "_view_module_version": "1.2.0",
      "_view_name": "StyleView",
      "description_width": ""
     }
    },
    "c8fc40e5cbf649c8953c7ca1ecea1a84": {
     "model_module": "@jupyter-widgets/controls",
     "model_module_version": "1.5.0",
     "model_name": "FloatProgressModel",
     "state": {
      "_dom_classes": [],
      "_model_module": "@jupyter-widgets/controls",
      "_model_module_version": "1.5.0",
      "_model_name": "FloatProgressModel",
      "_view_count": null,
      "_view_module": "@jupyter-widgets/controls",
      "_view_module_version": "1.5.0",
      "_view_name": "ProgressView",
      "bar_style": "success",
      "description": "",
      "description_tooltip": null,
      "layout": "IPY_MODEL_e52080ed085c4f56b0205f53880fdae1",
      "max": 20,
      "min": 0,
      "orientation": "horizontal",
      "style": "IPY_MODEL_fec06b4e7e824b72a5fbc3df94f5060a",
      "value": 20
     }
    },
    "cbf6d5ae5d9f4f058ab21f39500b3ad7": {
     "model_module": "@jupyter-widgets/controls",
     "model_module_version": "1.5.0",
     "model_name": "FloatProgressModel",
     "state": {
      "_dom_classes": [],
      "_model_module": "@jupyter-widgets/controls",
      "_model_module_version": "1.5.0",
      "_model_name": "FloatProgressModel",
      "_view_count": null,
      "_view_module": "@jupyter-widgets/controls",
      "_view_module_version": "1.5.0",
      "_view_name": "ProgressView",
      "bar_style": "",
      "description": "",
      "description_tooltip": null,
      "layout": "IPY_MODEL_d56847d2f60d4cd3a881dafb984c5ce5",
      "max": 3,
      "min": 0,
      "orientation": "horizontal",
      "style": "IPY_MODEL_47c7a76ebd6f4b8a85e061acb70cbed6",
      "value": 0
     }
    },
    "ce1ab6bd8d844d9d868e38f11397d76f": {
     "model_module": "@jupyter-widgets/base",
     "model_module_version": "1.2.0",
     "model_name": "LayoutModel",
     "state": {
      "_model_module": "@jupyter-widgets/base",
      "_model_module_version": "1.2.0",
      "_model_name": "LayoutModel",
      "_view_count": null,
      "_view_module": "@jupyter-widgets/base",
      "_view_module_version": "1.2.0",
      "_view_name": "LayoutView",
      "align_content": null,
      "align_items": null,
      "align_self": null,
      "border": null,
      "bottom": null,
      "display": null,
      "flex": null,
      "flex_flow": null,
      "grid_area": null,
      "grid_auto_columns": null,
      "grid_auto_flow": null,
      "grid_auto_rows": null,
      "grid_column": null,
      "grid_gap": null,
      "grid_row": null,
      "grid_template_areas": null,
      "grid_template_columns": null,
      "grid_template_rows": null,
      "height": null,
      "justify_content": null,
      "justify_items": null,
      "left": null,
      "margin": null,
      "max_height": null,
      "max_width": null,
      "min_height": null,
      "min_width": null,
      "object_fit": null,
      "object_position": null,
      "order": null,
      "overflow": null,
      "overflow_x": null,
      "overflow_y": null,
      "padding": null,
      "right": null,
      "top": null,
      "visibility": null,
      "width": null
     }
    },
    "d1c6114f3a434f3f9a0d02780760ac59": {
     "model_module": "@jupyter-widgets/base",
     "model_module_version": "1.2.0",
     "model_name": "LayoutModel",
     "state": {
      "_model_module": "@jupyter-widgets/base",
      "_model_module_version": "1.2.0",
      "_model_name": "LayoutModel",
      "_view_count": null,
      "_view_module": "@jupyter-widgets/base",
      "_view_module_version": "1.2.0",
      "_view_name": "LayoutView",
      "align_content": null,
      "align_items": null,
      "align_self": null,
      "border": null,
      "bottom": null,
      "display": null,
      "flex": null,
      "flex_flow": null,
      "grid_area": null,
      "grid_auto_columns": null,
      "grid_auto_flow": null,
      "grid_auto_rows": null,
      "grid_column": null,
      "grid_gap": null,
      "grid_row": null,
      "grid_template_areas": null,
      "grid_template_columns": null,
      "grid_template_rows": null,
      "height": null,
      "justify_content": null,
      "justify_items": null,
      "left": null,
      "margin": null,
      "max_height": null,
      "max_width": null,
      "min_height": null,
      "min_width": null,
      "object_fit": null,
      "object_position": null,
      "order": null,
      "overflow": null,
      "overflow_x": null,
      "overflow_y": null,
      "padding": null,
      "right": null,
      "top": null,
      "visibility": null,
      "width": null
     }
    },
    "d56847d2f60d4cd3a881dafb984c5ce5": {
     "model_module": "@jupyter-widgets/base",
     "model_module_version": "1.2.0",
     "model_name": "LayoutModel",
     "state": {
      "_model_module": "@jupyter-widgets/base",
      "_model_module_version": "1.2.0",
      "_model_name": "LayoutModel",
      "_view_count": null,
      "_view_module": "@jupyter-widgets/base",
      "_view_module_version": "1.2.0",
      "_view_name": "LayoutView",
      "align_content": null,
      "align_items": null,
      "align_self": null,
      "border": null,
      "bottom": null,
      "display": null,
      "flex": null,
      "flex_flow": null,
      "grid_area": null,
      "grid_auto_columns": null,
      "grid_auto_flow": null,
      "grid_auto_rows": null,
      "grid_column": null,
      "grid_gap": null,
      "grid_row": null,
      "grid_template_areas": null,
      "grid_template_columns": null,
      "grid_template_rows": null,
      "height": null,
      "justify_content": null,
      "justify_items": null,
      "left": null,
      "margin": null,
      "max_height": null,
      "max_width": null,
      "min_height": null,
      "min_width": null,
      "object_fit": null,
      "object_position": null,
      "order": null,
      "overflow": null,
      "overflow_x": null,
      "overflow_y": null,
      "padding": null,
      "right": null,
      "top": null,
      "visibility": null,
      "width": null
     }
    },
    "dc7fb2bfbf094823962d1ee50820ea9a": {
     "model_module": "@jupyter-widgets/controls",
     "model_module_version": "1.5.0",
     "model_name": "HTMLModel",
     "state": {
      "_dom_classes": [],
      "_model_module": "@jupyter-widgets/controls",
      "_model_module_version": "1.5.0",
      "_model_name": "HTMLModel",
      "_view_count": null,
      "_view_module": "@jupyter-widgets/controls",
      "_view_module_version": "1.5.0",
      "_view_name": "HTMLView",
      "description": "",
      "description_tooltip": null,
      "layout": "IPY_MODEL_7038e27defda4d8a8796de6737461a04",
      "placeholder": "​",
      "style": "IPY_MODEL_272b6dac8ef34e539fe28fdea7d28187",
      "value": " 0/3 [00:00&lt;?, ?it/s]"
     }
    },
    "e52080ed085c4f56b0205f53880fdae1": {
     "model_module": "@jupyter-widgets/base",
     "model_module_version": "1.2.0",
     "model_name": "LayoutModel",
     "state": {
      "_model_module": "@jupyter-widgets/base",
      "_model_module_version": "1.2.0",
      "_model_name": "LayoutModel",
      "_view_count": null,
      "_view_module": "@jupyter-widgets/base",
      "_view_module_version": "1.2.0",
      "_view_name": "LayoutView",
      "align_content": null,
      "align_items": null,
      "align_self": null,
      "border": null,
      "bottom": null,
      "display": null,
      "flex": null,
      "flex_flow": null,
      "grid_area": null,
      "grid_auto_columns": null,
      "grid_auto_flow": null,
      "grid_auto_rows": null,
      "grid_column": null,
      "grid_gap": null,
      "grid_row": null,
      "grid_template_areas": null,
      "grid_template_columns": null,
      "grid_template_rows": null,
      "height": null,
      "justify_content": null,
      "justify_items": null,
      "left": null,
      "margin": null,
      "max_height": null,
      "max_width": null,
      "min_height": null,
      "min_width": null,
      "object_fit": null,
      "object_position": null,
      "order": null,
      "overflow": null,
      "overflow_x": null,
      "overflow_y": null,
      "padding": null,
      "right": null,
      "top": null,
      "visibility": null,
      "width": null
     }
    },
    "e915cb91596d40c79c9a3faa31f89c0b": {
     "model_module": "@jupyter-widgets/controls",
     "model_module_version": "1.5.0",
     "model_name": "HTMLModel",
     "state": {
      "_dom_classes": [],
      "_model_module": "@jupyter-widgets/controls",
      "_model_module_version": "1.5.0",
      "_model_name": "HTMLModel",
      "_view_count": null,
      "_view_module": "@jupyter-widgets/controls",
      "_view_module_version": "1.5.0",
      "_view_name": "HTMLView",
      "description": "",
      "description_tooltip": null,
      "layout": "IPY_MODEL_d1c6114f3a434f3f9a0d02780760ac59",
      "placeholder": "​",
      "style": "IPY_MODEL_e98a605d7ac84ab697cd84294bfbed20",
      "value": " 20/20 [15:03&lt;00:00, 43.81s/it]"
     }
    },
    "e98a605d7ac84ab697cd84294bfbed20": {
     "model_module": "@jupyter-widgets/controls",
     "model_module_version": "1.5.0",
     "model_name": "DescriptionStyleModel",
     "state": {
      "_model_module": "@jupyter-widgets/controls",
      "_model_module_version": "1.5.0",
      "_model_name": "DescriptionStyleModel",
      "_view_count": null,
      "_view_module": "@jupyter-widgets/base",
      "_view_module_version": "1.2.0",
      "_view_name": "StyleView",
      "description_width": ""
     }
    },
    "e9ec01a9c66f4d8684812ec7a12df5a9": {
     "model_module": "@jupyter-widgets/base",
     "model_module_version": "1.2.0",
     "model_name": "LayoutModel",
     "state": {
      "_model_module": "@jupyter-widgets/base",
      "_model_module_version": "1.2.0",
      "_model_name": "LayoutModel",
      "_view_count": null,
      "_view_module": "@jupyter-widgets/base",
      "_view_module_version": "1.2.0",
      "_view_name": "LayoutView",
      "align_content": null,
      "align_items": null,
      "align_self": null,
      "border": null,
      "bottom": null,
      "display": null,
      "flex": null,
      "flex_flow": null,
      "grid_area": null,
      "grid_auto_columns": null,
      "grid_auto_flow": null,
      "grid_auto_rows": null,
      "grid_column": null,
      "grid_gap": null,
      "grid_row": null,
      "grid_template_areas": null,
      "grid_template_columns": null,
      "grid_template_rows": null,
      "height": null,
      "justify_content": null,
      "justify_items": null,
      "left": null,
      "margin": null,
      "max_height": null,
      "max_width": null,
      "min_height": null,
      "min_width": null,
      "object_fit": null,
      "object_position": null,
      "order": null,
      "overflow": null,
      "overflow_x": null,
      "overflow_y": null,
      "padding": null,
      "right": null,
      "top": null,
      "visibility": null,
      "width": null
     }
    },
    "ee4de82cbb3742758643a1dfc3173a92": {
     "model_module": "@jupyter-widgets/controls",
     "model_module_version": "1.5.0",
     "model_name": "DescriptionStyleModel",
     "state": {
      "_model_module": "@jupyter-widgets/controls",
      "_model_module_version": "1.5.0",
      "_model_name": "DescriptionStyleModel",
      "_view_count": null,
      "_view_module": "@jupyter-widgets/base",
      "_view_module_version": "1.2.0",
      "_view_name": "StyleView",
      "description_width": ""
     }
    },
    "f2bd56caecbe4beea2354e44664d8ffd": {
     "model_module": "@jupyter-widgets/base",
     "model_module_version": "1.2.0",
     "model_name": "LayoutModel",
     "state": {
      "_model_module": "@jupyter-widgets/base",
      "_model_module_version": "1.2.0",
      "_model_name": "LayoutModel",
      "_view_count": null,
      "_view_module": "@jupyter-widgets/base",
      "_view_module_version": "1.2.0",
      "_view_name": "LayoutView",
      "align_content": null,
      "align_items": null,
      "align_self": null,
      "border": null,
      "bottom": null,
      "display": null,
      "flex": null,
      "flex_flow": null,
      "grid_area": null,
      "grid_auto_columns": null,
      "grid_auto_flow": null,
      "grid_auto_rows": null,
      "grid_column": null,
      "grid_gap": null,
      "grid_row": null,
      "grid_template_areas": null,
      "grid_template_columns": null,
      "grid_template_rows": null,
      "height": null,
      "justify_content": null,
      "justify_items": null,
      "left": null,
      "margin": null,
      "max_height": null,
      "max_width": null,
      "min_height": null,
      "min_width": null,
      "object_fit": null,
      "object_position": null,
      "order": null,
      "overflow": null,
      "overflow_x": null,
      "overflow_y": null,
      "padding": null,
      "right": null,
      "top": null,
      "visibility": null,
      "width": null
     }
    },
    "fb9eeb6e584649cbba5914bc3db799a7": {
     "model_module": "@jupyter-widgets/controls",
     "model_module_version": "1.5.0",
     "model_name": "HTMLModel",
     "state": {
      "_dom_classes": [],
      "_model_module": "@jupyter-widgets/controls",
      "_model_module_version": "1.5.0",
      "_model_name": "HTMLModel",
      "_view_count": null,
      "_view_module": "@jupyter-widgets/controls",
      "_view_module_version": "1.5.0",
      "_view_name": "HTMLView",
      "description": "",
      "description_tooltip": null,
      "layout": "IPY_MODEL_67465126d0c047d089922f546c28e337",
      "placeholder": "​",
      "style": "IPY_MODEL_4d6b935f16ec49dfb7d3f3f5491c06c0",
      "value": "  0%"
     }
    },
    "fe3935203e854ca086fe91681a1ee25b": {
     "model_module": "@jupyter-widgets/controls",
     "model_module_version": "1.5.0",
     "model_name": "HTMLModel",
     "state": {
      "_dom_classes": [],
      "_model_module": "@jupyter-widgets/controls",
      "_model_module_version": "1.5.0",
      "_model_name": "HTMLModel",
      "_view_count": null,
      "_view_module": "@jupyter-widgets/controls",
      "_view_module_version": "1.5.0",
      "_view_name": "HTMLView",
      "description": "",
      "description_tooltip": null,
      "layout": "IPY_MODEL_ce1ab6bd8d844d9d868e38f11397d76f",
      "placeholder": "​",
      "style": "IPY_MODEL_c601c1cb85c644efb77b05d4fc496800",
      "value": " 20/20 [13:27&lt;00:00, 40.05s/it]"
     }
    },
    "fe6e70e0a0cd44fc8777b9430861ea27": {
     "model_module": "@jupyter-widgets/controls",
     "model_module_version": "1.5.0",
     "model_name": "ProgressStyleModel",
     "state": {
      "_model_module": "@jupyter-widgets/controls",
      "_model_module_version": "1.5.0",
      "_model_name": "ProgressStyleModel",
      "_view_count": null,
      "_view_module": "@jupyter-widgets/base",
      "_view_module_version": "1.2.0",
      "_view_name": "StyleView",
      "bar_color": null,
      "description_width": ""
     }
    },
    "fec06b4e7e824b72a5fbc3df94f5060a": {
     "model_module": "@jupyter-widgets/controls",
     "model_module_version": "1.5.0",
     "model_name": "ProgressStyleModel",
     "state": {
      "_model_module": "@jupyter-widgets/controls",
      "_model_module_version": "1.5.0",
      "_model_name": "ProgressStyleModel",
      "_view_count": null,
      "_view_module": "@jupyter-widgets/base",
      "_view_module_version": "1.2.0",
      "_view_name": "StyleView",
      "bar_color": null,
      "description_width": ""
     }
    }
   }
  }
 },
 "nbformat": 4,
 "nbformat_minor": 5
}
